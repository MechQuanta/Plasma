{
 "cells": [
  {
   "cell_type": "code",
   "id": "initial_id",
   "metadata": {
    "collapsed": true,
    "ExecuteTime": {
     "end_time": "2024-08-31T08:59:51.635723Z",
     "start_time": "2024-08-31T08:59:51.629230Z"
    }
   },
   "source": [
    "from scipy.special import beip_zeros\n",
    "\n",
    "\n",
    "class Employee:\n",
    "    pass"
   ],
   "outputs": [],
   "execution_count": 1
  },
  {
   "metadata": {
    "ExecuteTime": {
     "end_time": "2024-08-31T09:01:54.644420Z",
     "start_time": "2024-08-31T09:01:54.636440Z"
    }
   },
   "cell_type": "code",
   "source": [
    "emp_1=Employee()\n",
    "emp_2=Employee()\n",
    "print(emp_1)"
   ],
   "id": "6ea0c093d6924be7",
   "outputs": [
    {
     "name": "stdout",
     "output_type": "stream",
     "text": [
      "<__main__.Employee object at 0x7864f55272c0>\n"
     ]
    }
   ],
   "execution_count": 4
  },
  {
   "metadata": {
    "ExecuteTime": {
     "end_time": "2024-08-31T09:02:11.487049Z",
     "start_time": "2024-08-31T09:02:11.481967Z"
    }
   },
   "cell_type": "code",
   "source": [
    "emp_1.first = 'Sajid'\n",
    "emp_1.last = 'khan'\n",
    "emp_1.email = 'sajid@email'\n",
    "emp2_email = 'khan@email'"
   ],
   "id": "72cc9f71d75248b7",
   "outputs": [],
   "execution_count": 5
  },
  {
   "metadata": {
    "ExecuteTime": {
     "end_time": "2024-08-31T09:02:27.565266Z",
     "start_time": "2024-08-31T09:02:27.559315Z"
    }
   },
   "cell_type": "code",
   "source": "print(emp_1.first)",
   "id": "4557fc560e75c04e",
   "outputs": [
    {
     "name": "stdout",
     "output_type": "stream",
     "text": [
      "Sajid\n"
     ]
    }
   ],
   "execution_count": 6
  },
  {
   "metadata": {
    "ExecuteTime": {
     "end_time": "2024-08-31T09:04:26.736506Z",
     "start_time": "2024-08-31T09:04:26.730811Z"
    }
   },
   "cell_type": "code",
   "source": [
    "class Employee:\n",
    "    def __init__(self,first,last,pay):\n",
    "        self.first = first\n",
    "        self.last = last\n",
    "        self.pay = pay\n",
    "        self.email=first+'.'+last+'@gmai.com'\n",
    "    \n",
    "        "
   ],
   "id": "a95be2fd50fe8070",
   "outputs": [],
   "execution_count": 7
  },
  {
   "metadata": {
    "ExecuteTime": {
     "end_time": "2024-08-31T09:05:06.177294Z",
     "start_time": "2024-08-31T09:05:06.171709Z"
    }
   },
   "cell_type": "code",
   "source": "emp_1 = Employee('Sajid','khan',2000)",
   "id": "c23d497bc2c3c717",
   "outputs": [],
   "execution_count": 8
  },
  {
   "metadata": {
    "ExecuteTime": {
     "end_time": "2024-08-31T09:05:51.386462Z",
     "start_time": "2024-08-31T09:05:51.381638Z"
    }
   },
   "cell_type": "code",
   "source": "print(emp_1.email)",
   "id": "a5bf8893864d3818",
   "outputs": [
    {
     "name": "stdout",
     "output_type": "stream",
     "text": [
      "Sajid.khan@gmai.com\n"
     ]
    }
   ],
   "execution_count": 10
  },
  {
   "metadata": {
    "ExecuteTime": {
     "end_time": "2024-08-31T09:17:35.325910Z",
     "start_time": "2024-08-31T09:17:35.320414Z"
    }
   },
   "cell_type": "code",
   "source": [
    " import tensorflow as tf\n",
    " import numpy as np\n",
    " class Particle:\n",
    "     def __init__(self, m, e, B):\n",
    "         self.m = m\n",
    "         self.B = B\n",
    "         self.e =e\n",
    "         self.freq= e*B/m\n",
    "     def get(self):\n",
    "         return self.freq\n",
    "    \n",
    "        "
   ],
   "id": "c664cc267c482d21",
   "outputs": [],
   "execution_count": 15
  },
  {
   "metadata": {
    "ExecuteTime": {
     "end_time": "2024-08-31T09:36:53.138288Z",
     "start_time": "2024-08-31T09:36:53.132514Z"
    }
   },
   "cell_type": "code",
   "source": [
    "t = np.linspace(0,10,100)\n",
    "m = 9.1*(10)**-31\n",
    "e = 1.6 * (10)**-19\n",
    "B_z=1\n",
    "v_p=1.5\n",
    "w_e = Particle(m,e,B_z).get()\n",
    "v_x = v_p*np.cos(w_e*t)\n",
    "v_y = v_p*np.sin(w_e*t)\n",
    "v = np.array(v)"
   ],
   "id": "434455cce1ac0e78",
   "outputs": [],
   "execution_count": 62
  },
  {
   "metadata": {
    "ExecuteTime": {
     "end_time": "2024-08-31T09:36:54.046541Z",
     "start_time": "2024-08-31T09:36:54.039764Z"
    }
   },
   "cell_type": "code",
   "source": "v.shape",
   "id": "96dc1124ad70ba20",
   "outputs": [
    {
     "data": {
      "text/plain": [
       "(100, 2)"
      ]
     },
     "execution_count": 63,
     "metadata": {},
     "output_type": "execute_result"
    }
   ],
   "execution_count": 63
  },
  {
   "metadata": {
    "ExecuteTime": {
     "end_time": "2024-08-31T09:36:54.735755Z",
     "start_time": "2024-08-31T09:36:54.731247Z"
    }
   },
   "cell_type": "code",
   "source": [
    "f_x = e*v[-1]*B_z\n",
    "f_y = e*v[0]*B_z\n",
    "v = v.reshape(100,2)\n",
    "t = t.reshape(100,1)"
   ],
   "id": "cecf4b49c04f037a",
   "outputs": [],
   "execution_count": 64
  },
  {
   "metadata": {
    "ExecuteTime": {
     "end_time": "2024-08-31T09:26:01.007676Z",
     "start_time": "2024-08-31T09:26:00.965289Z"
    }
   },
   "cell_type": "code",
   "source": [
    "f = np.array([f_x,f_y])\n",
    "model= tf.keras.Sequential([\n",
    "    tf.keras.layers.InputLayer(input_shape=(None,100)),\n",
    "    tf.keras.layers.Dense(20,activation='tanh'),\n",
    "    tf.keras.layers.Dense(20,activation='tanh'),\n",
    "    tf.keras.layers.Dense(2)\n",
    "])\n",
    "model.compile(optimizer='adam',loss='mse',metrics=['mae'])"
   ],
   "id": "943cafa5f1ad32dc",
   "outputs": [],
   "execution_count": 30
  },
  {
   "metadata": {
    "ExecuteTime": {
     "end_time": "2024-08-31T09:37:49.208532Z",
     "start_time": "2024-08-31T09:37:49.195972Z"
    }
   },
   "cell_type": "code",
   "source": [
    "tf.experimental.numpy.experimental_enable_numpy_behavior()\n",
    "v = v.reshape(100,2)\n",
    "t = t.reshape(100,1)\n",
    "t = tf.convert_to_tensor(t)\n",
    "t = tf.Variable(t,dtype=tf.float64)"
   ],
   "id": "76655d3204b07752",
   "outputs": [],
   "execution_count": 67
  },
  {
   "metadata": {
    "ExecuteTime": {
     "end_time": "2024-08-31T09:38:32.576571Z",
     "start_time": "2024-08-31T09:38:32.571475Z"
    }
   },
   "cell_type": "code",
   "source": [
    "with tf.GradientTape() as tape:\n",
    "    v= tf.convert_to_tensor(v)\n",
    "    t = tf.convert_to_tensor(t)\n",
    "    tape.watch(t)\n",
    "    dv0_dt = tape.gradient(v,t)\n",
    "    del tape\n",
    "\n",
    "\n"
   ],
   "id": "4715d4a086a5fcd3",
   "outputs": [],
   "execution_count": 71
  },
  {
   "metadata": {
    "ExecuteTime": {
     "end_time": "2024-08-31T09:38:34.020757Z",
     "start_time": "2024-08-31T09:38:34.015885Z"
    }
   },
   "cell_type": "code",
   "source": "print(dv0_dt)",
   "id": "76a38c76011a37f4",
   "outputs": [
    {
     "name": "stdout",
     "output_type": "stream",
     "text": [
      "None\n"
     ]
    }
   ],
   "execution_count": 72
  },
  {
   "metadata": {
    "ExecuteTime": {
     "end_time": "2024-09-01T13:32:13.184568Z",
     "start_time": "2024-09-01T13:32:13.181293Z"
    }
   },
   "cell_type": "code",
   "source": [
    "import torch\n",
    "import numpy as np"
   ],
   "id": "584dbf90cfb66ab6",
   "outputs": [],
   "execution_count": 6
  },
  {
   "metadata": {
    "ExecuteTime": {
     "end_time": "2024-09-01T14:10:52.028065Z",
     "start_time": "2024-09-01T14:10:52.020496Z"
    }
   },
   "cell_type": "code",
   "source": [
    "x = torch.tensor([1,2,3])\n",
    "y = torch.tensor([4,5])\n",
    "X = torch.meshgrid(x, y)\n",
    "print('X = ',X)\n",
    "print('Y = ',Y)"
   ],
   "id": "7a539f1427c68844",
   "outputs": [
    {
     "name": "stdout",
     "output_type": "stream",
     "text": [
      "X =  (tensor([[1, 1],\n",
      "        [2, 2],\n",
      "        [3, 3]]), tensor([[4, 5],\n",
      "        [4, 5],\n",
      "        [4, 5]]))\n",
      "Y =  tensor([[4, 5],\n",
      "        [4, 5],\n",
      "        [4, 5]])\n"
     ]
    }
   ],
   "execution_count": 18
  },
  {
   "metadata": {
    "ExecuteTime": {
     "end_time": "2024-09-01T13:32:17.948031Z",
     "start_time": "2024-09-01T13:32:17.938772Z"
    }
   },
   "cell_type": "code",
   "source": [
    "x = np.array([1,2,3])\n",
    "y = np.array([4,5])\n",
    "X, Y = np.meshgrid(x, y)\n",
    "print('X = ',X)\n",
    "print('Y = ',Y)"
   ],
   "id": "12ac37711a21b4d3",
   "outputs": [
    {
     "name": "stdout",
     "output_type": "stream",
     "text": [
      "X =  [[1 2 3]\n",
      " [1 2 3]]\n",
      "Y =  [[4 4 4]\n",
      " [5 5 5]]\n"
     ]
    }
   ],
   "execution_count": 8
  },
  {
   "metadata": {
    "ExecuteTime": {
     "end_time": "2024-09-01T14:10:22.240917Z",
     "start_time": "2024-09-01T14:10:22.232737Z"
    }
   },
   "cell_type": "code",
   "source": [
    "x = torch.tensor([1,2,3])\n",
    "y = torch.tensor([4,5])\n",
    "X= torch.stack(torch.meshgrid(x, y)).reshape(2,-1)\n",
    "print('X = ',X)\n",
    "print('Y = ',Y)"
   ],
   "id": "134735431e85b9f4",
   "outputs": [
    {
     "name": "stdout",
     "output_type": "stream",
     "text": [
      "X =  tensor([[1, 1, 2, 2, 3, 3],\n",
      "        [4, 5, 4, 5, 4, 5]])\n",
      "Y =  tensor([[4, 5],\n",
      "        [4, 5],\n",
      "        [4, 5]])\n"
     ]
    }
   ],
   "execution_count": 17
  },
  {
   "metadata": {},
   "cell_type": "code",
   "outputs": [],
   "execution_count": null,
   "source": "",
   "id": "a5465ea29649d1c4"
  }
 ],
 "metadata": {
  "kernelspec": {
   "display_name": "Python 3",
   "language": "python",
   "name": "python3"
  },
  "language_info": {
   "codemirror_mode": {
    "name": "ipython",
    "version": 2
   },
   "file_extension": ".py",
   "mimetype": "text/x-python",
   "name": "python",
   "nbconvert_exporter": "python",
   "pygments_lexer": "ipython2",
   "version": "2.7.6"
  }
 },
 "nbformat": 4,
 "nbformat_minor": 5
}
