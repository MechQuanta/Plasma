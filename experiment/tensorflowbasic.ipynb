{
 "cells": [
  {
   "cell_type": "code",
   "id": "initial_id",
   "metadata": {
    "collapsed": true,
    "ExecuteTime": {
     "end_time": "2024-08-31T05:33:49.395064Z",
     "start_time": "2024-08-31T05:33:46.407748Z"
    }
   },
   "source": "import tensorflow as tf",
   "outputs": [
    {
     "name": "stderr",
     "output_type": "stream",
     "text": [
      "2024-08-31 11:33:46.783202: I tensorflow/core/util/port.cc:153] oneDNN custom operations are on. You may see slightly different numerical results due to floating-point round-off errors from different computation orders. To turn them off, set the environment variable `TF_ENABLE_ONEDNN_OPTS=0`.\n",
      "2024-08-31 11:33:46.893058: E external/local_xla/xla/stream_executor/cuda/cuda_fft.cc:485] Unable to register cuFFT factory: Attempting to register factory for plugin cuFFT when one has already been registered\n",
      "2024-08-31 11:33:46.950965: E external/local_xla/xla/stream_executor/cuda/cuda_dnn.cc:8454] Unable to register cuDNN factory: Attempting to register factory for plugin cuDNN when one has already been registered\n",
      "2024-08-31 11:33:46.971697: E external/local_xla/xla/stream_executor/cuda/cuda_blas.cc:1452] Unable to register cuBLAS factory: Attempting to register factory for plugin cuBLAS when one has already been registered\n",
      "2024-08-31 11:33:47.063777: I tensorflow/core/platform/cpu_feature_guard.cc:210] This TensorFlow binary is optimized to use available CPU instructions in performance-critical operations.\n",
      "To enable the following instructions: AVX2 AVX_VNNI FMA, in other operations, rebuild TensorFlow with the appropriate compiler flags.\n",
      "2024-08-31 11:33:48.297531: W tensorflow/compiler/tf2tensorrt/utils/py_utils.cc:38] TF-TRT Warning: Could not find TensorRT\n"
     ]
    }
   ],
   "execution_count": 1
  },
  {
   "metadata": {
    "ExecuteTime": {
     "end_time": "2024-08-31T05:48:24.857757Z",
     "start_time": "2024-08-31T05:48:24.842553Z"
    }
   },
   "cell_type": "code",
   "source": [
    "tensor_a = tf.constant([[1,2,3],\n",
    "                        [4,5,6]])\n",
    "tensor_b = tf.constant([[4],\n",
    "                        [5],\n",
    "                        [6]])\n",
    "tensor_c = tf.matmul(tensor_a , tensor_b)\n",
    "print(tf.compat.v1.get_default_graph().as_graph_def())\n",
    "with tf.compat.v1.Session() as sess:\n",
    "    writer = tf.compat.v1.summary.FileWriter(logdir='/home/sajid',graph=sess.graph)\n",
    "    writer.close()"
   ],
   "id": "60e175a1e3f8755a",
   "outputs": [
    {
     "name": "stdout",
     "output_type": "stream",
     "text": [
      "versions {\n",
      "  producer: 1882\n",
      "}\n",
      "\n"
     ]
    },
    {
     "name": "stderr",
     "output_type": "stream",
     "text": [
      "I0000 00:00:1725083304.849870    6289 cuda_executor.cc:1015] successful NUMA node read from SysFS had negative value (-1), but there must be at least one NUMA node, so returning NUMA node zero. See more at https://github.com/torvalds/linux/blob/v6.0/Documentation/ABI/testing/sysfs-bus-pci#L344-L355\n",
      "I0000 00:00:1725083304.850817    6289 cuda_executor.cc:1015] successful NUMA node read from SysFS had negative value (-1), but there must be at least one NUMA node, so returning NUMA node zero. See more at https://github.com/torvalds/linux/blob/v6.0/Documentation/ABI/testing/sysfs-bus-pci#L344-L355\n",
      "I0000 00:00:1725083304.851279    6289 cuda_executor.cc:1015] successful NUMA node read from SysFS had negative value (-1), but there must be at least one NUMA node, so returning NUMA node zero. See more at https://github.com/torvalds/linux/blob/v6.0/Documentation/ABI/testing/sysfs-bus-pci#L344-L355\n",
      "I0000 00:00:1725083304.851668    6289 cuda_executor.cc:1015] successful NUMA node read from SysFS had negative value (-1), but there must be at least one NUMA node, so returning NUMA node zero. See more at https://github.com/torvalds/linux/blob/v6.0/Documentation/ABI/testing/sysfs-bus-pci#L344-L355\n",
      "I0000 00:00:1725083304.851974    6289 cuda_executor.cc:1015] successful NUMA node read from SysFS had negative value (-1), but there must be at least one NUMA node, so returning NUMA node zero. See more at https://github.com/torvalds/linux/blob/v6.0/Documentation/ABI/testing/sysfs-bus-pci#L344-L355\n",
      "2024-08-31 11:48:24.852210: I tensorflow/core/common_runtime/gpu/gpu_device.cc:2021] Created device /job:localhost/replica:0/task:0/device:GPU:0 with 4309 MB memory:  -> device: 0, name: NVIDIA GeForce RTX 3050 6GB Laptop GPU, pci bus id: 0000:01:00.0, compute capability: 8.6\n"
     ]
    }
   ],
   "execution_count": 11
  },
  {
   "metadata": {
    "ExecuteTime": {
     "end_time": "2024-08-31T05:56:13.297058Z",
     "start_time": "2024-08-31T05:56:13.235712Z"
    }
   },
   "cell_type": "code",
   "source": [
    "tensor_a = tf.constant([[1,2,3]])\n",
    "tensor_b = tf.constant([[5,6,7]])\n",
    "tensor_add = tf.add(tensor_a,tensor_b)\n",
    "with tf.compat.v1.Session() as sess:\n",
    "    result = sess.run(tensor_add)\n",
    "    print(result)"
   ],
   "id": "94a699f4204d289c",
   "outputs": [
    {
     "name": "stderr",
     "output_type": "stream",
     "text": [
      "I0000 00:00:1725083773.239431    6289 cuda_executor.cc:1015] successful NUMA node read from SysFS had negative value (-1), but there must be at least one NUMA node, so returning NUMA node zero. See more at https://github.com/torvalds/linux/blob/v6.0/Documentation/ABI/testing/sysfs-bus-pci#L344-L355\n",
      "I0000 00:00:1725083773.239866    6289 cuda_executor.cc:1015] successful NUMA node read from SysFS had negative value (-1), but there must be at least one NUMA node, so returning NUMA node zero. See more at https://github.com/torvalds/linux/blob/v6.0/Documentation/ABI/testing/sysfs-bus-pci#L344-L355\n",
      "I0000 00:00:1725083773.240090    6289 cuda_executor.cc:1015] successful NUMA node read from SysFS had negative value (-1), but there must be at least one NUMA node, so returning NUMA node zero. See more at https://github.com/torvalds/linux/blob/v6.0/Documentation/ABI/testing/sysfs-bus-pci#L344-L355\n",
      "I0000 00:00:1725083773.240368    6289 cuda_executor.cc:1015] successful NUMA node read from SysFS had negative value (-1), but there must be at least one NUMA node, so returning NUMA node zero. See more at https://github.com/torvalds/linux/blob/v6.0/Documentation/ABI/testing/sysfs-bus-pci#L344-L355\n",
      "I0000 00:00:1725083773.240588    6289 cuda_executor.cc:1015] successful NUMA node read from SysFS had negative value (-1), but there must be at least one NUMA node, so returning NUMA node zero. See more at https://github.com/torvalds/linux/blob/v6.0/Documentation/ABI/testing/sysfs-bus-pci#L344-L355\n",
      "2024-08-31 11:56:13.240785: I tensorflow/core/common_runtime/gpu/gpu_device.cc:2021] Created device /job:localhost/replica:0/task:0/device:GPU:0 with 4309 MB memory:  -> device: 0, name: NVIDIA GeForce RTX 3050 6GB Laptop GPU, pci bus id: 0000:01:00.0, compute capability: 8.6\n"
     ]
    },
    {
     "ename": "RuntimeError",
     "evalue": "The Session graph is empty. Add operations to the graph before calling run().",
     "output_type": "error",
     "traceback": [
      "\u001B[0;31m---------------------------------------------------------------------------\u001B[0m",
      "\u001B[0;31mRuntimeError\u001B[0m                              Traceback (most recent call last)",
      "Cell \u001B[0;32mIn[17], line 5\u001B[0m\n\u001B[1;32m      3\u001B[0m tensor_add \u001B[38;5;241m=\u001B[39m tf\u001B[38;5;241m.\u001B[39madd(tensor_a,tensor_b)\n\u001B[1;32m      4\u001B[0m \u001B[38;5;28;01mwith\u001B[39;00m tf\u001B[38;5;241m.\u001B[39mcompat\u001B[38;5;241m.\u001B[39mv1\u001B[38;5;241m.\u001B[39mSession() \u001B[38;5;28;01mas\u001B[39;00m sess:\n\u001B[0;32m----> 5\u001B[0m     result \u001B[38;5;241m=\u001B[39m sess\u001B[38;5;241m.\u001B[39mrun(tensor_add)\n\u001B[1;32m      6\u001B[0m     \u001B[38;5;28mprint\u001B[39m(result)\n",
      "File \u001B[0;32m~/miniconda3/envs/myenvi/lib/python3.12/site-packages/tensorflow/python/client/session.py:971\u001B[0m, in \u001B[0;36mBaseSession.run\u001B[0;34m(self, fetches, feed_dict, options, run_metadata)\u001B[0m\n\u001B[1;32m    968\u001B[0m run_metadata_ptr \u001B[38;5;241m=\u001B[39m tf_session\u001B[38;5;241m.\u001B[39mTF_NewBuffer() \u001B[38;5;28;01mif\u001B[39;00m run_metadata \u001B[38;5;28;01melse\u001B[39;00m \u001B[38;5;28;01mNone\u001B[39;00m\n\u001B[1;32m    970\u001B[0m \u001B[38;5;28;01mtry\u001B[39;00m:\n\u001B[0;32m--> 971\u001B[0m   result \u001B[38;5;241m=\u001B[39m \u001B[38;5;28mself\u001B[39m\u001B[38;5;241m.\u001B[39m_run(\u001B[38;5;28;01mNone\u001B[39;00m, fetches, feed_dict, options_ptr,\n\u001B[1;32m    972\u001B[0m                      run_metadata_ptr)\n\u001B[1;32m    973\u001B[0m   \u001B[38;5;28;01mif\u001B[39;00m run_metadata:\n\u001B[1;32m    974\u001B[0m     proto_data \u001B[38;5;241m=\u001B[39m tf_session\u001B[38;5;241m.\u001B[39mTF_GetBuffer(run_metadata_ptr)\n",
      "File \u001B[0;32m~/miniconda3/envs/myenvi/lib/python3.12/site-packages/tensorflow/python/client/session.py:1141\u001B[0m, in \u001B[0;36mBaseSession._run\u001B[0;34m(self, handle, fetches, feed_dict, options, run_metadata)\u001B[0m\n\u001B[1;32m   1139\u001B[0m   \u001B[38;5;28;01mraise\u001B[39;00m \u001B[38;5;167;01mRuntimeError\u001B[39;00m(\u001B[38;5;124m'\u001B[39m\u001B[38;5;124mAttempted to use a closed Session.\u001B[39m\u001B[38;5;124m'\u001B[39m)\n\u001B[1;32m   1140\u001B[0m \u001B[38;5;28;01mif\u001B[39;00m \u001B[38;5;28mself\u001B[39m\u001B[38;5;241m.\u001B[39mgraph\u001B[38;5;241m.\u001B[39mversion \u001B[38;5;241m==\u001B[39m \u001B[38;5;241m0\u001B[39m:\n\u001B[0;32m-> 1141\u001B[0m   \u001B[38;5;28;01mraise\u001B[39;00m \u001B[38;5;167;01mRuntimeError\u001B[39;00m(\u001B[38;5;124m'\u001B[39m\u001B[38;5;124mThe Session graph is empty. Add operations to the \u001B[39m\u001B[38;5;124m'\u001B[39m\n\u001B[1;32m   1142\u001B[0m                      \u001B[38;5;124m'\u001B[39m\u001B[38;5;124mgraph before calling run().\u001B[39m\u001B[38;5;124m'\u001B[39m)\n\u001B[1;32m   1144\u001B[0m \u001B[38;5;66;03m# Create request.\u001B[39;00m\n\u001B[1;32m   1145\u001B[0m feed_dict_tensor \u001B[38;5;241m=\u001B[39m {}\n",
      "\u001B[0;31mRuntimeError\u001B[0m: The Session graph is empty. Add operations to the graph before calling run()."
     ]
    }
   ],
   "execution_count": 17
  },
  {
   "metadata": {
    "ExecuteTime": {
     "end_time": "2024-08-31T05:57:40.581957Z",
     "start_time": "2024-08-31T05:57:40.574415Z"
    }
   },
   "cell_type": "code",
   "source": [
    "tensor_a = tf.constant([[1,2,3]])\n",
    "tensor_b = tf.constant([[5,6,7]])\n",
    "tensor_add = tf.add(tensor_a,tensor_b)\n",
    "rsult = tensor_add.numpy()\n",
    "print(rsult)"
   ],
   "id": "f8362e9007e8318",
   "outputs": [
    {
     "name": "stdout",
     "output_type": "stream",
     "text": [
      "[[ 6  8 10]]\n"
     ]
    }
   ],
   "execution_count": 19
  },
  {
   "metadata": {
    "ExecuteTime": {
     "end_time": "2024-08-31T06:04:05.802736Z",
     "start_time": "2024-08-31T06:04:05.779721Z"
    }
   },
   "cell_type": "code",
   "source": [
    "graph = tf.Graph()\n",
    "with graph.as_default():\n",
    "    tensor_a = tf.constant([[1,2,3]])\n",
    "    tensor_b = tf.constant([[5,6,7]])\n",
    "    tensor_add = tf.add(tensor_a,tensor_b)\n",
    "    print(tensor_add)\n",
    "with tf.compat.v1.Session(graph=graph) as sess:\n",
    "    rslt = sess.run(tensor_add)\n",
    "    print(rslt)\n",
    "    sess.close()"
   ],
   "id": "65b81f1a708057fb",
   "outputs": [
    {
     "name": "stdout",
     "output_type": "stream",
     "text": [
      "Tensor(\"Add:0\", shape=(1, 3), dtype=int32)\n",
      "[[ 6  8 10]]\n"
     ]
    },
    {
     "name": "stderr",
     "output_type": "stream",
     "text": [
      "I0000 00:00:1725084245.785250    6289 cuda_executor.cc:1015] successful NUMA node read from SysFS had negative value (-1), but there must be at least one NUMA node, so returning NUMA node zero. See more at https://github.com/torvalds/linux/blob/v6.0/Documentation/ABI/testing/sysfs-bus-pci#L344-L355\n",
      "I0000 00:00:1725084245.785724    6289 cuda_executor.cc:1015] successful NUMA node read from SysFS had negative value (-1), but there must be at least one NUMA node, so returning NUMA node zero. See more at https://github.com/torvalds/linux/blob/v6.0/Documentation/ABI/testing/sysfs-bus-pci#L344-L355\n",
      "I0000 00:00:1725084245.785947    6289 cuda_executor.cc:1015] successful NUMA node read from SysFS had negative value (-1), but there must be at least one NUMA node, so returning NUMA node zero. See more at https://github.com/torvalds/linux/blob/v6.0/Documentation/ABI/testing/sysfs-bus-pci#L344-L355\n",
      "I0000 00:00:1725084245.786226    6289 cuda_executor.cc:1015] successful NUMA node read from SysFS had negative value (-1), but there must be at least one NUMA node, so returning NUMA node zero. See more at https://github.com/torvalds/linux/blob/v6.0/Documentation/ABI/testing/sysfs-bus-pci#L344-L355\n",
      "I0000 00:00:1725084245.786423    6289 cuda_executor.cc:1015] successful NUMA node read from SysFS had negative value (-1), but there must be at least one NUMA node, so returning NUMA node zero. See more at https://github.com/torvalds/linux/blob/v6.0/Documentation/ABI/testing/sysfs-bus-pci#L344-L355\n",
      "2024-08-31 12:04:05.786598: I tensorflow/core/common_runtime/gpu/gpu_device.cc:2021] Created device /job:localhost/replica:0/task:0/device:GPU:0 with 4309 MB memory:  -> device: 0, name: NVIDIA GeForce RTX 3050 6GB Laptop GPU, pci bus id: 0000:01:00.0, compute capability: 8.6\n"
     ]
    }
   ],
   "execution_count": 23
  },
  {
   "metadata": {
    "ExecuteTime": {
     "end_time": "2024-08-31T06:26:19.818676Z",
     "start_time": "2024-08-31T06:26:19.748291Z"
    }
   },
   "cell_type": "code",
   "source": [
    "config = tf.compat.v1.ConfigProto()\n",
    "config.log_device_placement = True\n",
    "config.gpu_options.allow_growth = True\n",
    "with tf.compat.v1.Session(config=config) as sess:\n",
    "    # Build and run your TensorFlow graph here\n",
    "    # Example:\n",
    "    a = tf.constant([[1.0, 2.0], [3.0, 4.0]])\n",
    "    b = tf.constant([[5.0, 6.0], [7.0, 8.0]])\n",
    "    c = tf.matmul(a, b)\n",
    "    print(sess.run(c))"
   ],
   "id": "eb06bcfa274fb50",
   "outputs": [
    {
     "name": "stdout",
     "output_type": "stream",
     "text": [
      "Device mapping:\n",
      "/job:localhost/replica:0/task:0/device:GPU:0 -> device: 0, name: NVIDIA GeForce RTX 3050 6GB Laptop GPU, pci bus id: 0000:01:00.0, compute capability: 8.6\n",
      "\n",
      "[[19. 22.]\n",
      " [43. 50.]]\n"
     ]
    },
    {
     "name": "stderr",
     "output_type": "stream",
     "text": [
      "I0000 00:00:1725085579.752500    6289 cuda_executor.cc:1015] successful NUMA node read from SysFS had negative value (-1), but there must be at least one NUMA node, so returning NUMA node zero. See more at https://github.com/torvalds/linux/blob/v6.0/Documentation/ABI/testing/sysfs-bus-pci#L344-L355\n",
      "I0000 00:00:1725085579.753006    6289 cuda_executor.cc:1015] successful NUMA node read from SysFS had negative value (-1), but there must be at least one NUMA node, so returning NUMA node zero. See more at https://github.com/torvalds/linux/blob/v6.0/Documentation/ABI/testing/sysfs-bus-pci#L344-L355\n",
      "I0000 00:00:1725085579.753182    6289 cuda_executor.cc:1015] successful NUMA node read from SysFS had negative value (-1), but there must be at least one NUMA node, so returning NUMA node zero. See more at https://github.com/torvalds/linux/blob/v6.0/Documentation/ABI/testing/sysfs-bus-pci#L344-L355\n",
      "I0000 00:00:1725085579.753471    6289 cuda_executor.cc:1015] successful NUMA node read from SysFS had negative value (-1), but there must be at least one NUMA node, so returning NUMA node zero. See more at https://github.com/torvalds/linux/blob/v6.0/Documentation/ABI/testing/sysfs-bus-pci#L344-L355\n",
      "I0000 00:00:1725085579.753653    6289 cuda_executor.cc:1015] successful NUMA node read from SysFS had negative value (-1), but there must be at least one NUMA node, so returning NUMA node zero. See more at https://github.com/torvalds/linux/blob/v6.0/Documentation/ABI/testing/sysfs-bus-pci#L344-L355\n",
      "2024-08-31 12:26:19.753815: I tensorflow/core/common_runtime/gpu/gpu_device.cc:2021] Created device /job:localhost/replica:0/task:0/device:GPU:0 with 4309 MB memory:  -> device: 0, name: NVIDIA GeForce RTX 3050 6GB Laptop GPU, pci bus id: 0000:01:00.0, compute capability: 8.6\n",
      "2024-08-31 12:26:19.759454: I tensorflow/core/common_runtime/placer.cc:162] MatMul: (MatMul): /job:localhost/replica:0/task:0/device:GPU:0\n",
      "2024-08-31 12:26:19.759494: I tensorflow/core/common_runtime/placer.cc:162] Const: (Const): /job:localhost/replica:0/task:0/device:GPU:0\n",
      "2024-08-31 12:26:19.759504: I tensorflow/core/common_runtime/placer.cc:162] Const_1: (Const): /job:localhost/replica:0/task:0/device:GPU:0\n"
     ]
    }
   ],
   "execution_count": 24
  },
  {
   "metadata": {
    "ExecuteTime": {
     "end_time": "2024-08-31T06:47:17.568467Z",
     "start_time": "2024-08-31T06:47:17.527183Z"
    }
   },
   "cell_type": "code",
   "source": [
    "input_size = 784\n",
    "hidden_size= 128\n",
    "output_size= 10\n",
    "X = tf.compat.v1.placeholder(tf.float32, shape=[None , input_size])\n",
    "Y = tf.compat.v1.placeholder(tf.float32,shape=[None,output_size])"
   ],
   "id": "8172013a270e257b",
   "outputs": [
    {
     "ename": "RuntimeError",
     "evalue": "tf.placeholder() is not compatible with eager execution.",
     "output_type": "error",
     "traceback": [
      "\u001B[0;31m---------------------------------------------------------------------------\u001B[0m",
      "\u001B[0;31mRuntimeError\u001B[0m                              Traceback (most recent call last)",
      "Cell \u001B[0;32mIn[28], line 4\u001B[0m\n\u001B[1;32m      2\u001B[0m hidden_size\u001B[38;5;241m=\u001B[39m \u001B[38;5;241m128\u001B[39m\n\u001B[1;32m      3\u001B[0m output_size\u001B[38;5;241m=\u001B[39m \u001B[38;5;241m10\u001B[39m\n\u001B[0;32m----> 4\u001B[0m X \u001B[38;5;241m=\u001B[39m tf\u001B[38;5;241m.\u001B[39mcompat\u001B[38;5;241m.\u001B[39mv1\u001B[38;5;241m.\u001B[39mplaceholder(tf\u001B[38;5;241m.\u001B[39mfloat32, shape\u001B[38;5;241m=\u001B[39m[\u001B[38;5;28;01mNone\u001B[39;00m , input_size])\n\u001B[1;32m      5\u001B[0m Y \u001B[38;5;241m=\u001B[39m tf\u001B[38;5;241m.\u001B[39mcompat\u001B[38;5;241m.\u001B[39mv1\u001B[38;5;241m.\u001B[39mplaceholder(tf\u001B[38;5;241m.\u001B[39mfloat32,shape\u001B[38;5;241m=\u001B[39m[\u001B[38;5;28;01mNone\u001B[39;00m,output_size])\n",
      "File \u001B[0;32m~/miniconda3/envs/myenvi/lib/python3.12/site-packages/tensorflow/python/ops/array_ops.py:2991\u001B[0m, in \u001B[0;36mplaceholder\u001B[0;34m(dtype, shape, name)\u001B[0m\n\u001B[1;32m   2944\u001B[0m \u001B[38;5;250m\u001B[39m\u001B[38;5;124;03m\"\"\"Inserts a placeholder for a tensor that will be always fed.\u001B[39;00m\n\u001B[1;32m   2945\u001B[0m \n\u001B[1;32m   2946\u001B[0m \u001B[38;5;124;03m**Important**: This tensor will produce an error if evaluated. Its value must\u001B[39;00m\n\u001B[0;32m   (...)\u001B[0m\n\u001B[1;32m   2988\u001B[0m \u001B[38;5;124;03m@end_compatibility\u001B[39;00m\n\u001B[1;32m   2989\u001B[0m \u001B[38;5;124;03m\"\"\"\u001B[39;00m\n\u001B[1;32m   2990\u001B[0m \u001B[38;5;28;01mif\u001B[39;00m context\u001B[38;5;241m.\u001B[39mexecuting_eagerly():\n\u001B[0;32m-> 2991\u001B[0m   \u001B[38;5;28;01mraise\u001B[39;00m \u001B[38;5;167;01mRuntimeError\u001B[39;00m(\u001B[38;5;124m\"\u001B[39m\u001B[38;5;124mtf.placeholder() is not compatible with \u001B[39m\u001B[38;5;124m\"\u001B[39m\n\u001B[1;32m   2992\u001B[0m                      \u001B[38;5;124m\"\u001B[39m\u001B[38;5;124meager execution.\u001B[39m\u001B[38;5;124m\"\u001B[39m)\n\u001B[1;32m   2994\u001B[0m \u001B[38;5;28;01mreturn\u001B[39;00m gen_array_ops\u001B[38;5;241m.\u001B[39mplaceholder(dtype\u001B[38;5;241m=\u001B[39mdtype, shape\u001B[38;5;241m=\u001B[39mshape, name\u001B[38;5;241m=\u001B[39mname)\n",
      "\u001B[0;31mRuntimeError\u001B[0m: tf.placeholder() is not compatible with eager execution."
     ]
    }
   ],
   "execution_count": 28
  },
  {
   "metadata": {
    "ExecuteTime": {
     "end_time": "2024-08-31T06:41:27.837789Z",
     "start_time": "2024-08-31T06:41:27.686424Z"
    }
   },
   "cell_type": "code",
   "source": [
    "config = tf.compat.v1.ConfigProto()\n",
    "config.log_device_placement = True\n",
    "config.gpu_options.allow_growth = True\n",
    "@tf.function\n",
    "def model(X):\n",
    "    return tf.matmul(X,tf.transpose(X))\n",
    "input_data= tf.random.normal([10,784])\n",
    "output = model(input_data)\n",
    "print(output)"
   ],
   "id": "f42ecd5715f0c582",
   "outputs": [
    {
     "name": "stdout",
     "output_type": "stream",
     "text": [
      "tf.Tensor(\n",
      "[[814.4582     33.787296   65.81795   -10.592129  -14.391302  -43.958878\n",
      "   -8.244158   10.644614    6.2404327 -56.233574 ]\n",
      " [ 33.787296  718.1026    -20.16062   -29.674566    1.3561482  46.421604\n",
      "  -24.574976    7.417868  -17.079231  -41.322533 ]\n",
      " [ 65.81795   -20.16062   829.3208     -9.305927    5.562967  -64.973816\n",
      "   31.497005  -15.746446  -16.805607   32.45123  ]\n",
      " [-10.592129  -29.674566   -9.305927  748.5014    -14.490366   25.62603\n",
      "  -14.411195  -44.4372    -18.215515   19.335999 ]\n",
      " [-14.391302    1.3561482   5.562967  -14.490366  804.34814   -14.399591\n",
      "    6.2058606 -11.835552  -28.192268    3.2764983]\n",
      " [-43.958878   46.421604  -64.973816   25.62603   -14.399591  794.7321\n",
      "   18.576677  -20.986279  -33.615376  -32.58688  ]\n",
      " [ -8.244158  -24.574976   31.497005  -14.411195    6.2058606  18.576677\n",
      "  772.96027   -24.447327   -4.021711  -28.605316 ]\n",
      " [ 10.644614    7.417868  -15.746446  -44.4372    -11.835552  -20.986279\n",
      "  -24.447327  725.3612      4.826993   17.925549 ]\n",
      " [  6.2404327 -17.079231  -16.805607  -18.215515  -28.192268  -33.615376\n",
      "   -4.021711    4.826993  848.3383     67.01698  ]\n",
      " [-56.233574  -41.322533   32.45123    19.335999    3.2764983 -32.58688\n",
      "  -28.605316   17.925549   67.01698   852.53467  ]], shape=(10, 10), dtype=float32)\n"
     ]
    }
   ],
   "execution_count": 25
  },
  {
   "metadata": {
    "ExecuteTime": {
     "end_time": "2024-08-31T06:44:09.198216Z",
     "start_time": "2024-08-31T06:44:09.107495Z"
    }
   },
   "cell_type": "code",
   "source": [
    "config = tf.compat.v1.ConfigProto()\n",
    "config.log_device_placement = True\n",
    "config.gpu_options.allow_growth = True\n",
    "@tf.function\n",
    "def dynamic_model(X):\n",
    "    return tf.reduce_sum(X,axis=1)\n",
    "output = dynamic_model(tf.random.normal([10,7777]))\n",
    "print(output)\n",
    "output = dynamic_model(tf.random.normal([1000,1000]))\n",
    "print(output)"
   ],
   "id": "ec8da9a2dcaf67df",
   "outputs": [
    {
     "name": "stdout",
     "output_type": "stream",
     "text": [
      "tf.Tensor(\n",
      "[ 27.108114  44.721416 -17.328339  49.22763  -68.64377  -62.624302\n",
      " -34.644363   7.111004  90.227135   9.8125  ], shape=(10,), dtype=float32)\n",
      "tf.Tensor(\n",
      "[ 7.83248234e+00  2.80670090e+01  2.63130836e+01  3.36974564e+01\n",
      "  2.56415100e+01  1.80413132e+01 -2.13528900e+01  2.83650837e+01\n",
      "  3.36374512e+01 -1.15127182e+01 -2.96170692e+01 -2.40289726e+01\n",
      "  2.38973713e+01  3.47378693e+01  3.88633842e+01 -4.55797653e+01\n",
      " -8.01411972e+01  7.12563171e+01 -4.58195572e+01  3.05773067e+00\n",
      " -4.29724350e+01 -1.40877419e+01  1.11167793e+01 -4.57026749e+01\n",
      "  2.21651001e+01 -3.00012035e+01 -2.40503197e+01 -2.42115974e+01\n",
      "  1.91087971e+01  4.02419777e+01  2.18627777e+01  1.09205275e+01\n",
      " -4.08417702e+01  1.11051788e+01  4.63773584e+00  2.89815826e+01\n",
      " -3.86619148e+01  1.38731956e+01 -1.42696285e+01 -1.28404236e+01\n",
      "  4.19764404e+01  2.69912014e+01 -3.76434784e+01  7.45654202e+00\n",
      " -1.46137238e-01  3.75108910e+00  6.83257294e+00 -4.47967262e+01\n",
      " -4.73439884e+00 -5.03360367e+00  4.69415092e+00 -5.36638145e+01\n",
      " -6.10722885e+01  4.47786407e+01  1.31170502e+01 -1.04184952e+01\n",
      " -1.84566288e+01  2.27448578e+01  2.13567657e+01 -1.31873865e+01\n",
      "  8.02935600e-01  2.14862576e+01 -7.02028942e+00  2.98287621e+01\n",
      " -9.23509789e+00 -5.31896210e+00 -9.85276794e+00  1.15050411e+01\n",
      " -1.65229130e+01  2.79765396e+01  3.74473267e+01  6.33804970e+01\n",
      "  7.66542435e+00 -2.29734230e+00 -5.95510330e+01  2.63331661e+01\n",
      " -8.67087841e-01 -1.18171310e+01  1.40466766e+01  1.87731934e+01\n",
      "  4.14491272e+00  1.85798073e+00 -5.27631474e+00 -2.67202187e+00\n",
      " -3.39060287e+01  1.64795609e+01  1.05822010e+01 -3.11453438e+01\n",
      " -2.74855328e+01 -2.64724007e+01 -3.15004616e+01  3.02349186e+01\n",
      " -2.87217789e+01  1.00122757e+01  3.61255302e+01 -1.02965117e+01\n",
      "  2.80841084e+01  4.69659882e+01  3.37294998e+01  4.63412209e+01\n",
      "  7.05763474e+01 -6.19088650e-01 -3.18018360e+01  3.92191010e+01\n",
      "  1.51076622e+01  4.31757889e+01 -6.17811012e+00  4.65623856e-01\n",
      "  4.69044647e+01  1.01781139e+01  4.37946243e+01 -5.76549530e-01\n",
      " -1.20700150e+01  6.75752258e+01 -1.10740948e+00  3.73861237e+01\n",
      "  6.30457458e+01 -5.99842358e+00 -9.83522511e+00  4.49156113e+01\n",
      " -2.80614262e+01 -1.20368900e+01 -2.80253124e+01 -1.38199520e+01\n",
      "  1.95675125e+01  1.45427227e+00  1.59413033e+01  3.85070496e+01\n",
      "  1.41923323e+01 -4.51062241e+01  8.27389717e+00  1.10807838e+01\n",
      " -3.75457764e+00  4.70830193e+01  7.23989410e+01  2.26738415e+01\n",
      "  5.23998260e-01  8.23379745e+01  5.55421066e+00  3.63720207e+01\n",
      "  2.94384098e+01  3.52192688e+01  2.03389072e+01  5.44520798e+01\n",
      " -1.18449364e+01  4.12740784e+01  1.58768387e+01 -3.22316055e+01\n",
      " -1.77597771e+01  2.12259216e+01  1.80792046e+00 -5.20031090e+01\n",
      "  1.66636696e+01  1.65919952e+01  2.48266621e+01  1.27751627e+01\n",
      "  1.58587074e+01  1.34913139e+01 -1.91888504e+01 -2.51269512e+01\n",
      " -4.29111404e+01 -4.51316643e+00 -1.90708733e+01  1.85107803e+01\n",
      "  3.04894371e+01  4.77455902e+00  1.79315605e+01 -4.65936661e+00\n",
      "  3.12021160e+00  1.37779551e+01  7.69735336e-01  6.27607727e+00\n",
      " -3.22799568e+01  1.97537251e+01  4.57934341e+01 -5.23851128e+01\n",
      "  2.16101437e+01 -1.92376366e+01 -1.05473185e+01 -1.32204762e+01\n",
      "  3.62997103e+00  7.22010345e+01  2.16745224e+01  1.32336798e+01\n",
      "  4.02142754e+01 -1.11576935e+02 -2.98163834e+01 -1.96657562e+01\n",
      "  6.49153233e+00  1.11643124e+00 -2.36031227e+01  8.78081703e+00\n",
      " -8.08857822e+00  2.89584160e+00  4.76384964e+01  4.82054672e+01\n",
      "  1.81720352e+00  4.78446884e+01  1.39595833e+01 -6.25330019e+00\n",
      "  3.35931396e+01 -6.76650391e+01  4.93632355e+01  5.38422012e+01\n",
      " -2.17083874e+01  2.69677582e+01  3.71996994e+01  2.55714684e+01\n",
      " -1.21019669e+01  1.08823776e-01 -2.64098606e+01 -4.43354511e+00\n",
      " -5.32315903e+01 -6.50454865e+01  7.98616409e+00 -1.35324526e+01\n",
      " -1.31134338e+01  4.28510208e+01 -4.32714272e+00  3.53209686e+00\n",
      " -9.69659424e+00 -7.75157356e+00  5.48501873e+00 -1.19704247e+00\n",
      " -1.54494286e+00  5.00034332e+00  4.95860519e+01  3.16990776e+01\n",
      "  1.25623989e+01  4.08880997e+01  2.00487804e+00  5.75633545e+01\n",
      " -7.48467255e+00  2.75683117e+01  6.87326965e+01 -4.12786865e+00\n",
      " -3.58250656e+01  1.43899975e+01  1.48105621e-01  3.32994194e+01\n",
      "  3.68118782e+01  3.58533630e+01  1.53152294e+01 -4.56370354e+00\n",
      "  1.33769264e+01  1.58235779e+01  8.28009987e+00  1.41431217e+01\n",
      "  7.76668882e+00 -4.48574829e+01  2.46632996e+01  3.64138947e+01\n",
      "  1.01588345e+01  2.83838959e+01 -1.83089771e+01  2.73208942e+01\n",
      "  6.56142807e+00  3.40140190e+01  2.05884533e+01  4.13747101e+01\n",
      "  2.44474983e+01 -1.32758036e+01  1.04759541e+01 -2.50358677e+01\n",
      "  1.02264557e+01  3.96277847e+01 -5.27168427e+01  1.17280903e+01\n",
      "  2.37092915e+01 -1.24189682e+01 -1.70231438e+00  1.95321407e+01\n",
      " -7.28649292e+01 -3.73631363e+01  6.61712933e+00  1.76036835e+01\n",
      " -4.47947502e+01 -8.13427830e+00 -6.93854380e+00  3.57178650e+01\n",
      "  1.04166346e+01 -1.24715710e+00  2.21787167e+01 -3.68236542e+00\n",
      "  3.60324936e+01 -4.60536575e+01  5.89446754e+01 -2.47815762e+01\n",
      "  2.71800213e+01  4.64447594e+01  6.66862869e+00 -2.19146996e+01\n",
      "  2.23071232e+01 -2.95907936e+01  2.01457291e+01 -1.83152847e+01\n",
      "  1.99658909e+01  2.01898880e+01  6.70883789e+01  5.50954342e+00\n",
      " -2.96199417e+00  2.86949558e+01  1.82376251e+01 -1.65735912e+01\n",
      "  4.02759819e+01  1.02166376e+01 -2.25797997e+01  2.08247337e+01\n",
      " -8.99257278e+00 -1.12494297e+01 -9.88143539e+00  8.92541885e+00\n",
      "  1.09627151e+00 -4.95439529e+01 -1.99569626e+01  1.03792439e+01\n",
      " -2.65666962e+00 -3.83171463e+00  6.77397003e+01  7.34423981e+01\n",
      " -4.38177147e+01  4.82178726e+01 -1.52381258e+01 -5.32287693e+00\n",
      "  2.41869659e+01 -1.16263189e+01 -3.44437828e+01 -2.30548840e+01\n",
      "  4.54982452e+01 -2.05549812e+01 -1.19622536e+01 -3.24595604e+01\n",
      " -1.38387489e+00  5.90690155e+01  1.64414673e+01 -5.65080833e+00\n",
      "  6.19170456e+01 -1.02897472e+01  4.74045410e+01  1.33689890e+01\n",
      " -3.47877197e+01 -1.78987312e+01 -2.72693119e+01  1.55016174e+01\n",
      " -5.37873230e+01  2.25259056e+01 -2.39017467e+01  8.16380501e+00\n",
      " -1.53939075e+01 -5.46588898e-02 -4.08257027e+01 -2.51277122e+01\n",
      "  3.49312363e+01 -3.37257996e+01  1.64622688e+01 -1.82944660e+01\n",
      "  3.05824661e+01 -1.33432369e+01  3.00963058e+01  8.12851334e+00\n",
      " -1.58528423e+00 -2.71123123e+01 -6.16932106e+00  3.39552231e+01\n",
      " -1.62383747e+00 -7.06719208e+00  2.74677868e+01 -7.04431839e+01\n",
      "  4.26481209e+01 -1.56349316e+01 -2.88174515e+01  1.74281063e+01\n",
      " -1.41606569e+01 -4.18934479e+01 -4.25241165e+01 -5.34145660e+01\n",
      "  4.01415863e+01  4.50150146e+01  2.89438839e+01 -2.40289249e+01\n",
      " -2.26038990e+01  1.85635586e+01 -7.48601913e+01  3.61613007e+01\n",
      " -1.85972443e+01  5.67836380e+00 -5.31648865e+01 -1.72931194e+00\n",
      " -3.02411804e+01  4.49101372e+01  5.40076828e+01 -1.02773342e+01\n",
      " -2.24638519e+01  7.22961578e+01 -3.46640739e+01 -3.45794144e+01\n",
      " -2.24809895e+01 -5.19894485e+01 -6.43983765e+01  1.18673515e+01\n",
      " -3.70989037e+01 -1.06435299e+01 -2.98181763e+01  5.93290672e+01\n",
      "  3.12098064e+01  3.15306129e+01 -6.24968719e+01  2.78025017e+01\n",
      " -1.16602421e+01  5.78420029e+01  1.91034546e+01  4.75175285e+00\n",
      "  1.21347380e+01  2.53386078e+01 -2.97638130e+01  1.52744341e+00\n",
      " -1.05213261e+00 -2.72254810e+01  1.03987770e+01  1.93762627e+01\n",
      " -3.49976578e+01  5.45981102e+01  2.28425789e+00  8.82606697e+00\n",
      "  2.36097984e+01  2.39319172e+01  4.28695564e+01 -2.15502548e+01\n",
      "  4.82413406e+01  8.33832836e+00  3.04353580e+01 -4.15648651e+00\n",
      " -2.50463619e+01 -3.00975780e+01  7.88304758e+00 -3.07868633e+01\n",
      "  1.15636873e+01  1.72930479e+00 -1.83393745e+01  2.31653080e+01\n",
      " -2.33689880e+00 -1.44365396e+01 -1.45215359e+01 -1.12729473e+01\n",
      " -4.49610596e+01  2.52570343e+00 -1.48622351e+01  5.08218918e+01\n",
      "  3.52704315e+01  3.13532906e+01  2.32460442e+01 -2.95502777e+01\n",
      "  6.79181671e+01  2.73760796e+01 -4.82342453e+01 -1.69776726e+01\n",
      "  2.09719639e+01 -1.21439323e+01  2.07877731e+01 -3.66378937e+01\n",
      " -7.81553841e+00  4.17242813e+00  7.86668243e+01 -1.31957779e+01\n",
      "  8.16077614e+00 -5.14752769e+00 -1.18422985e+01  2.04462090e+01\n",
      "  6.02441559e+01  6.26177750e+01 -3.55223618e+01 -2.38526917e+00\n",
      "  4.28723564e+01 -3.42428970e+01  5.42242737e+01 -4.74274826e+01\n",
      "  3.42127495e+01  4.01577148e+01  4.77571945e+01  1.85512543e-01\n",
      "  1.50965405e+01  1.45278282e+01 -1.29994287e+01 -2.49632645e+00\n",
      "  8.55528831e+00 -1.99267960e+01  7.87255325e+01 -7.96767044e+00\n",
      "  3.90360909e+01  3.83939028e+00  1.66490746e+01 -3.53124504e+01\n",
      " -2.16891632e+01  7.18107605e+00 -2.30727730e+01  2.74811459e+00\n",
      " -2.95875015e+01  1.67928886e+01  8.50016403e+00 -8.90160675e+01\n",
      "  6.64597702e+00 -1.93725281e+01  1.18776569e+01  4.21777916e+01\n",
      "  3.84247208e+01 -2.34597359e+01  2.20228157e+01 -2.98757362e+00\n",
      " -8.58590317e+00  2.59377823e+01  5.34957886e-01 -1.96333237e+01\n",
      " -5.12728310e+00 -9.91009998e+00  1.29822979e+01  3.64556885e+01\n",
      " -1.41743431e+01  2.61577396e+01  3.45011520e+01 -3.20633621e+01\n",
      " -1.88151054e+01 -1.92547665e+01  7.97852516e+00  3.66932144e+01\n",
      " -6.46043015e+01  1.58264465e+01 -2.54363956e+01 -2.81468887e+01\n",
      "  8.39883423e+00  3.40645599e+01 -9.93835258e+00 -3.15828743e+01\n",
      "  5.22565117e+01  9.05623627e+00  5.08331909e+01 -6.58341827e+01\n",
      " -1.28895826e+01 -5.56237030e+00 -8.87887001e+00  1.56263123e+01\n",
      "  2.27760811e+01 -5.72210808e+01  1.69442139e+01  6.43745956e+01\n",
      " -1.29447727e+01 -5.96340036e+00 -1.28881540e+01 -6.13176823e+00\n",
      "  1.37940617e+01  3.00924683e+00 -2.43960571e+01 -7.99610329e+00\n",
      " -2.59409218e+01  3.04119530e+01  1.89176064e+01 -3.34737930e+01\n",
      "  3.61879349e+01  2.07384071e+01 -1.84027672e+01  3.03008766e+01\n",
      " -3.72051926e+01 -1.23236256e+01  4.54192886e+01 -4.65805969e+01\n",
      " -1.36663885e+01  2.42398052e+01  1.54342613e+01 -2.20855503e+01\n",
      "  4.12213783e+01 -1.87581005e+01  2.82200832e+01  1.19429646e+01\n",
      "  8.00855255e+00 -1.32717609e+01 -2.78469696e+01 -3.45453644e+00\n",
      " -4.86238594e+01 -1.72349472e+01  3.09777241e+01  7.56968498e-01\n",
      " -2.45231819e+00  3.91214066e+01  2.95441475e+01  4.42512512e+00\n",
      "  5.82682705e+00 -1.92587738e+01  1.77031116e+01  6.46276903e+00\n",
      "  3.88848495e+01  2.50029621e+01  4.27425156e+01 -4.32692566e+01\n",
      " -3.12072039e+00 -5.93599243e+01 -7.53696442e-01 -2.35637379e+01\n",
      " -4.82024536e+01  1.37302790e+01  1.16382961e+01  2.86800232e+01\n",
      "  4.34979935e+01  3.97390366e+01  4.78947906e+01 -3.67647171e-01\n",
      " -5.29797897e+01 -4.78009338e+01 -2.09432087e+01 -1.11129654e+02\n",
      "  7.10072136e+00  1.58701591e+01 -1.57229404e+01 -4.33246574e+01\n",
      " -7.27577515e+01  8.02883224e+01  2.24332199e+01  1.20448189e+01\n",
      " -1.75277328e+01  2.41348038e+01  5.16233788e+01  5.00870094e+01\n",
      " -1.92928810e+01  1.19286489e+01 -2.35596886e+01  2.81312141e+01\n",
      " -6.32663536e+01  2.92709770e+01  3.20908279e+01  2.70998764e+01\n",
      "  1.81303959e+01 -1.18045139e+01  2.37012405e+01 -3.56111679e+01\n",
      "  1.61129379e+01 -2.34654541e+01 -4.33179760e+00 -3.70059509e+01\n",
      "  2.16757278e+01  2.75887909e+01 -1.60568810e+01  3.08224030e+01\n",
      "  1.76729698e+01 -1.76669788e+01 -8.36157417e+00  1.97825699e+01\n",
      "  2.57434921e+01 -2.13553772e+01 -4.94568939e+01  5.02703247e+01\n",
      "  6.30644226e+01 -2.86033154e+01 -2.85774250e+01  1.12968197e+01\n",
      "  3.87736740e+01 -9.97521400e-01 -7.47063637e+00  9.78180790e+00\n",
      "  2.89442635e+00 -8.22440491e+01  9.74238014e+00  1.51392670e+01\n",
      "  4.43827629e+01  2.21081009e+01 -8.73149967e+00 -3.39884644e+01\n",
      " -8.33381271e+00 -3.01526642e+00 -4.75063744e+01  8.80282211e+00\n",
      " -2.12046089e+01  3.77908592e+01 -5.29172058e+01  3.30202446e+01\n",
      "  8.65236282e+00  3.34639816e+01  2.45488777e+01 -1.10718155e+00\n",
      " -2.27590904e+01  1.63853283e+01  5.79601288e-01 -4.27599335e+01\n",
      " -3.47564087e+01  1.68519230e+01  4.43360596e+01  2.21889629e+01\n",
      " -4.87449875e+01 -1.95135307e+00 -1.17749910e+01  3.54512215e+01\n",
      " -4.92052460e+01  6.94969320e+00 -1.73986645e+01  1.20064545e+00\n",
      "  3.33057556e+01 -3.80789375e+01 -1.74906731e+01  1.70929718e+01\n",
      " -2.44155407e+01  2.41896381e+01 -4.44846039e+01 -5.52599335e+01\n",
      "  1.65760136e+01  1.04977551e+01 -5.09708710e+01 -8.06918812e+00\n",
      " -3.30309258e+01  6.67712784e+01  3.91466808e+00 -1.12361412e+01\n",
      "  1.04903436e+00  5.13506279e+01 -1.74018726e+01  1.40646620e+01\n",
      "  1.75564518e+01  1.26105795e+01  1.20813046e+01  8.59440422e+00\n",
      " -1.89213982e+01 -1.13033867e+01  1.38266745e+01  4.75711365e+01\n",
      " -1.67789001e+01 -3.47322769e+01  2.36054993e+01 -1.31444702e+01\n",
      "  4.11906166e+01 -3.73095322e+00  2.18729477e+01 -3.14978695e+00\n",
      "  7.50724697e+00  3.22625732e+01 -3.92087097e+01 -9.25155640e+00\n",
      "  5.90286255e+00 -4.34340019e+01  7.77457476e+00  1.43267727e+00\n",
      " -2.94652252e+01 -2.08019257e+01  3.32658920e+01 -1.41738920e+01\n",
      "  7.33737335e+01  4.17414665e+00  2.78036537e+01 -2.51791592e+01\n",
      "  1.97769356e+01 -1.48964415e+01 -8.87629604e+00  1.53148270e+00\n",
      "  4.78612671e+01  3.35731735e+01 -1.12890244e+00 -3.47748871e+01\n",
      "  4.93510437e+00 -8.73320580e+00 -7.11335754e+00  1.47667770e+01\n",
      " -2.01562939e+01 -5.88182182e+01 -2.71375046e+01  4.89605484e+01\n",
      "  1.35043144e+01 -3.79002714e+00  1.40594540e+01 -4.84882202e+01\n",
      " -3.44914284e+01  4.95237503e+01  1.72484455e+01 -4.80018616e+00\n",
      " -2.73657494e+01 -5.42171211e+01 -4.17870140e+01 -3.21307373e+00\n",
      " -1.72295418e+01 -2.05365791e+01  3.13445892e+01  2.01199493e+01\n",
      "  3.46077347e+00 -3.98041611e+01 -1.10795774e+01 -3.12171879e+01\n",
      "  5.12004089e+01 -1.39626884e+01 -7.58462906e+01  9.62994576e+00\n",
      "  1.55250568e+01 -8.67745972e+00  4.13035393e+01 -7.73244858e+00\n",
      " -3.11358395e+01 -2.74041367e+00  3.27263947e+01  4.16602478e+01\n",
      " -2.88249683e+01  1.26546345e+01  1.53735094e+01 -5.24284325e+01\n",
      " -4.07460136e+01  3.78372650e+01  4.32704048e+01 -3.27373505e-01\n",
      "  2.70949249e+01 -6.99231339e+00 -2.57007885e+01 -6.55526161e-01\n",
      " -9.43860245e+00 -1.78728676e+01  4.75374222e+00  2.06088791e+01\n",
      "  2.54968491e+01 -1.45842552e+01 -3.21399651e+01 -4.61468582e+01\n",
      " -3.41320496e+01 -3.25078583e+01  1.46462135e+01 -8.32489395e+00\n",
      "  1.25121460e+01 -9.83230591e-01 -5.06182365e+01 -3.60313683e+01\n",
      "  3.02317905e+01  2.49364185e+01  6.87753534e+00  3.65734673e+01\n",
      "  2.82968330e+00 -4.28993759e+01  4.15773621e+01  5.08571205e+01\n",
      " -5.79545975e-01 -6.53494644e+01  4.98049774e+01  4.19049225e+01\n",
      " -3.55866528e+00 -1.10103703e+01  3.56407089e+01  6.07163391e+01\n",
      "  6.99921265e+01 -4.85792122e+01  2.37221241e+00 -9.28335190e-02\n",
      " -3.68829346e+00  1.32775288e+01  3.17370205e+01  4.91224670e+01\n",
      " -8.31613159e+01 -6.99416542e+00  1.70879326e+01 -7.61840820e+00\n",
      " -1.09431515e+01 -4.96614571e+01  9.53841209e+00 -3.53175240e+01\n",
      " -1.44333239e+01  6.11607208e+01  1.52265453e+01 -1.22167778e+00\n",
      "  5.36177979e+01  1.31095867e+01  1.48773966e+01  6.76684265e+01\n",
      "  1.91073647e+01  3.39584045e+01 -2.74479408e+01 -3.96241531e+01\n",
      " -1.02745667e+01 -2.00393410e+01 -8.32396317e+00 -3.53461533e+01\n",
      "  4.79514580e+01 -4.34569588e+01 -1.55994835e+01  2.88564873e+00\n",
      "  5.44939499e+01  2.99115925e+01 -1.73533592e+01  1.04407253e+01\n",
      "  1.37224197e-02 -2.81065559e+00 -3.45472527e+00  9.50449085e+00\n",
      "  2.74058380e+01 -3.36648140e+01  2.29981289e+01  2.82485180e+01\n",
      " -1.76745300e+01  2.15830212e+01  2.97657433e+01  6.72400360e+01\n",
      "  1.03847876e+01  4.01961288e+01  3.06190758e+01 -5.27306900e+01\n",
      " -1.58936844e+01 -1.09035273e+01 -3.57214661e+01 -5.28656158e+01\n",
      "  2.52090359e+01  1.65014267e-01 -9.72591019e+00  4.64420929e+01\n",
      "  3.03939018e+01  5.85598755e+00 -1.73030281e+01  3.66619263e+01\n",
      " -5.36004486e+01  1.72187672e+01  3.16649952e+01 -4.78453255e+00\n",
      "  2.18968658e+01  3.46033020e+01  1.55678606e+01 -5.22678375e+01\n",
      " -1.53477116e+01  2.41788368e+01 -1.14997120e+01  2.58588943e+01\n",
      "  6.71897268e+00 -1.95607605e+01  1.25378675e+01 -3.29085617e+01\n",
      "  9.87889862e+00 -5.81446838e+00 -1.31019793e+01  1.99764900e+01\n",
      "  6.55743484e+01 -2.92865009e+01  2.61761227e+01  1.22326584e+01\n",
      "  3.63894653e+01 -4.13692703e+01 -3.13094330e+01  9.37049866e+01\n",
      " -3.34835529e+00  1.81213360e+01 -3.16247597e+01  3.80787735e+01\n",
      "  1.75285416e+01 -8.18523312e+00 -3.36461258e+01 -1.44048862e+01\n",
      "  3.57578087e+00 -7.24749374e+01  1.17248154e+00  2.10121517e+01\n",
      " -1.72659149e+01  4.19981613e+01  2.76610870e+01 -1.43825722e+01\n",
      " -2.01057816e+00  2.57056503e+01  3.75031319e+01 -1.42755604e+00\n",
      "  2.45475731e+01 -7.99752045e+00 -5.77721262e+00  4.51342278e+01\n",
      "  2.97080879e+01 -1.36399174e+01 -1.36987019e+00  1.38077784e+01\n",
      " -4.61131935e+01  3.55597420e+01  4.90443535e+01  3.15859833e+01\n",
      "  1.48676043e+01 -1.19414587e+01 -2.63470783e+01 -1.72137222e+01\n",
      "  1.62010117e+01 -6.55519390e+00  3.69594574e+01 -3.41498337e+01\n",
      " -1.49519491e+00  3.03209419e+01  1.05132723e+01 -1.25185022e+01\n",
      "  1.09333057e+01  6.31380367e+00 -1.42753925e+01 -6.02656412e+00\n",
      "  1.72178898e+01 -8.07353973e-01 -3.86522484e+00 -4.02566299e+01\n",
      " -3.40453911e+01 -4.88864670e+01  2.46514797e+00  1.61990118e+00\n",
      " -3.41567917e+01 -1.22112064e+01  2.93006287e+01  6.94011307e+00\n",
      " -5.54532051e-01 -3.05247993e+01  1.04694176e+01  2.14190178e+01\n",
      " -6.50650501e+00 -3.27811165e+01 -1.60341854e+01  9.80536461e+00], shape=(1000,), dtype=float32)\n"
     ]
    }
   ],
   "execution_count": 26
  },
  {
   "metadata": {
    "ExecuteTime": {
     "end_time": "2024-08-31T06:48:36.855859Z",
     "start_time": "2024-08-31T06:48:36.772974Z"
    }
   },
   "cell_type": "code",
   "source": [
    "#Wrong way\n",
    "input_size = 784\n",
    "hidden_size= 128\n",
    "output_size= 10\n",
    "X = tf.Variable([None,input_size],dtype=tf.float32)\n",
    "hidden_layer = tf.keras.layers.Dense(inputs=X , units = hidden_size , activation=tf.nn.relu)"
   ],
   "id": "32ee9f19e071ca0d",
   "outputs": [
    {
     "ename": "ValueError",
     "evalue": "Attempt to convert a value (None) with an unsupported type (<class 'NoneType'>) to a Tensor.",
     "output_type": "error",
     "traceback": [
      "\u001B[0;31m---------------------------------------------------------------------------\u001B[0m",
      "\u001B[0;31mValueError\u001B[0m                                Traceback (most recent call last)",
      "Cell \u001B[0;32mIn[32], line 4\u001B[0m\n\u001B[1;32m      2\u001B[0m hidden_size\u001B[38;5;241m=\u001B[39m \u001B[38;5;241m128\u001B[39m\n\u001B[1;32m      3\u001B[0m output_size\u001B[38;5;241m=\u001B[39m \u001B[38;5;241m10\u001B[39m\n\u001B[0;32m----> 4\u001B[0m X \u001B[38;5;241m=\u001B[39m tf\u001B[38;5;241m.\u001B[39mVariable([\u001B[38;5;28;01mNone\u001B[39;00m,input_size],dtype\u001B[38;5;241m=\u001B[39mtf\u001B[38;5;241m.\u001B[39mfloat32)\n\u001B[1;32m      5\u001B[0m hidden_layer \u001B[38;5;241m=\u001B[39m tf\u001B[38;5;241m.\u001B[39mkeras\u001B[38;5;241m.\u001B[39mlayers\u001B[38;5;241m.\u001B[39mDense(inputs\u001B[38;5;241m=\u001B[39mX , units \u001B[38;5;241m=\u001B[39m hidden_size , activation\u001B[38;5;241m=\u001B[39mtf\u001B[38;5;241m.\u001B[39mnn\u001B[38;5;241m.\u001B[39mrelu)\n",
      "File \u001B[0;32m~/miniconda3/envs/myenvi/lib/python3.12/site-packages/tensorflow/python/util/traceback_utils.py:153\u001B[0m, in \u001B[0;36mfilter_traceback.<locals>.error_handler\u001B[0;34m(*args, **kwargs)\u001B[0m\n\u001B[1;32m    151\u001B[0m \u001B[38;5;28;01mexcept\u001B[39;00m \u001B[38;5;167;01mException\u001B[39;00m \u001B[38;5;28;01mas\u001B[39;00m e:\n\u001B[1;32m    152\u001B[0m   filtered_tb \u001B[38;5;241m=\u001B[39m _process_traceback_frames(e\u001B[38;5;241m.\u001B[39m__traceback__)\n\u001B[0;32m--> 153\u001B[0m   \u001B[38;5;28;01mraise\u001B[39;00m e\u001B[38;5;241m.\u001B[39mwith_traceback(filtered_tb) \u001B[38;5;28;01mfrom\u001B[39;00m \u001B[38;5;28;01mNone\u001B[39;00m\n\u001B[1;32m    154\u001B[0m \u001B[38;5;28;01mfinally\u001B[39;00m:\n\u001B[1;32m    155\u001B[0m   \u001B[38;5;28;01mdel\u001B[39;00m filtered_tb\n",
      "File \u001B[0;32m~/miniconda3/envs/myenvi/lib/python3.12/site-packages/tensorflow/python/framework/constant_op.py:108\u001B[0m, in \u001B[0;36mconvert_to_eager_tensor\u001B[0;34m(value, ctx, dtype)\u001B[0m\n\u001B[1;32m    106\u001B[0m     dtype \u001B[38;5;241m=\u001B[39m dtypes\u001B[38;5;241m.\u001B[39mas_dtype(dtype)\u001B[38;5;241m.\u001B[39mas_datatype_enum\n\u001B[1;32m    107\u001B[0m ctx\u001B[38;5;241m.\u001B[39mensure_initialized()\n\u001B[0;32m--> 108\u001B[0m \u001B[38;5;28;01mreturn\u001B[39;00m ops\u001B[38;5;241m.\u001B[39mEagerTensor(value, ctx\u001B[38;5;241m.\u001B[39mdevice_name, dtype)\n",
      "\u001B[0;31mValueError\u001B[0m: Attempt to convert a value (None) with an unsupported type (<class 'NoneType'>) to a Tensor."
     ]
    }
   ],
   "execution_count": 32
  },
  {
   "metadata": {
    "ExecuteTime": {
     "end_time": "2024-08-31T07:44:46.530211Z",
     "start_time": "2024-08-31T07:44:43.344016Z"
    }
   },
   "cell_type": "code",
   "source": [
    "import tensorflow as tf\n",
    "input_size = 784\n",
    "hidden_size= 128\n",
    "output_size= 10\n",
    "X = tf.keras.Input(shape=(input_size,))\n",
    "hidden_layer = tf.keras.layers.Dense(units = hidden_size , activation=tf.nn.relu)(X)"
   ],
   "id": "36e19653ac784372",
   "outputs": [
    {
     "name": "stderr",
     "output_type": "stream",
     "text": [
      "2024-08-31 13:44:43.487882: I tensorflow/core/util/port.cc:153] oneDNN custom operations are on. You may see slightly different numerical results due to floating-point round-off errors from different computation orders. To turn them off, set the environment variable `TF_ENABLE_ONEDNN_OPTS=0`.\n",
      "2024-08-31 13:44:43.497351: E external/local_xla/xla/stream_executor/cuda/cuda_fft.cc:485] Unable to register cuFFT factory: Attempting to register factory for plugin cuFFT when one has already been registered\n",
      "2024-08-31 13:44:43.508787: E external/local_xla/xla/stream_executor/cuda/cuda_dnn.cc:8454] Unable to register cuDNN factory: Attempting to register factory for plugin cuDNN when one has already been registered\n",
      "2024-08-31 13:44:43.512112: E external/local_xla/xla/stream_executor/cuda/cuda_blas.cc:1452] Unable to register cuBLAS factory: Attempting to register factory for plugin cuBLAS when one has already been registered\n",
      "2024-08-31 13:44:43.520488: I tensorflow/core/platform/cpu_feature_guard.cc:210] This TensorFlow binary is optimized to use available CPU instructions in performance-critical operations.\n",
      "To enable the following instructions: AVX2 AVX_VNNI FMA, in other operations, rebuild TensorFlow with the appropriate compiler flags.\n",
      "2024-08-31 13:44:44.317623: W tensorflow/compiler/tf2tensorrt/utils/py_utils.cc:38] TF-TRT Warning: Could not find TensorRT\n",
      "2024-08-31 13:44:46.475130: E external/local_xla/xla/stream_executor/cuda/cuda_driver.cc:266] failed call to cuInit: CUDA_ERROR_UNKNOWN: unknown error\n",
      "2024-08-31 13:44:46.475154: I external/local_xla/xla/stream_executor/cuda/cuda_diagnostics.cc:135] retrieving CUDA diagnostic information for host: MechaQuanta\n",
      "2024-08-31 13:44:46.475159: I external/local_xla/xla/stream_executor/cuda/cuda_diagnostics.cc:142] hostname: MechaQuanta\n",
      "2024-08-31 13:44:46.475271: I external/local_xla/xla/stream_executor/cuda/cuda_diagnostics.cc:166] libcuda reported version is: 535.183.1\n",
      "2024-08-31 13:44:46.475283: I external/local_xla/xla/stream_executor/cuda/cuda_diagnostics.cc:170] kernel reported version is: 535.183.1\n",
      "2024-08-31 13:44:46.475286: I external/local_xla/xla/stream_executor/cuda/cuda_diagnostics.cc:249] kernel version seems to match DSO: 535.183.1\n"
     ]
    }
   ],
   "execution_count": 2
  },
  {
   "metadata": {
    "ExecuteTime": {
     "end_time": "2024-08-31T07:48:22.361967Z",
     "start_time": "2024-08-31T07:48:22.333783Z"
    }
   },
   "cell_type": "code",
   "source": [
    "model = tf.keras.Sequential([\n",
    "    tf.keras.layers.Flatten(input_shape=(28,28)),\n",
    "    tf.keras.layers.Dense(units= 128,activation='tanh'),\n",
    "    tf.keras.layers.Dense(units = 10)\n",
    "])\n",
    "model.compile(optimizer='adam',loss='sparse_categorical_crossentropy',metrics=['accuracy'])\n",
    "model.summary()"
   ],
   "id": "1d89724ef13a0264",
   "outputs": [
    {
     "data": {
      "text/plain": [
       "\u001B[1mModel: \"sequential\"\u001B[0m\n"
      ],
      "text/html": [
       "<pre style=\"white-space:pre;overflow-x:auto;line-height:normal;font-family:Menlo,'DejaVu Sans Mono',consolas,'Courier New',monospace\"><span style=\"font-weight: bold\">Model: \"sequential\"</span>\n",
       "</pre>\n"
      ]
     },
     "metadata": {},
     "output_type": "display_data"
    },
    {
     "data": {
      "text/plain": [
       "┏━━━━━━━━━━━━━━━━━━━━━━━━━━━━━━━━━┳━━━━━━━━━━━━━━━━━━━━━━━━┳━━━━━━━━━━━━━━━┓\n",
       "┃\u001B[1m \u001B[0m\u001B[1mLayer (type)                   \u001B[0m\u001B[1m \u001B[0m┃\u001B[1m \u001B[0m\u001B[1mOutput Shape          \u001B[0m\u001B[1m \u001B[0m┃\u001B[1m \u001B[0m\u001B[1m      Param #\u001B[0m\u001B[1m \u001B[0m┃\n",
       "┡━━━━━━━━━━━━━━━━━━━━━━━━━━━━━━━━━╇━━━━━━━━━━━━━━━━━━━━━━━━╇━━━━━━━━━━━━━━━┩\n",
       "│ flatten_2 (\u001B[38;5;33mFlatten\u001B[0m)             │ (\u001B[38;5;45mNone\u001B[0m, \u001B[38;5;34m784\u001B[0m)            │             \u001B[38;5;34m0\u001B[0m │\n",
       "├─────────────────────────────────┼────────────────────────┼───────────────┤\n",
       "│ dense_5 (\u001B[38;5;33mDense\u001B[0m)                 │ (\u001B[38;5;45mNone\u001B[0m, \u001B[38;5;34m128\u001B[0m)            │       \u001B[38;5;34m100,480\u001B[0m │\n",
       "├─────────────────────────────────┼────────────────────────┼───────────────┤\n",
       "│ dense_6 (\u001B[38;5;33mDense\u001B[0m)                 │ (\u001B[38;5;45mNone\u001B[0m, \u001B[38;5;34m10\u001B[0m)             │         \u001B[38;5;34m1,290\u001B[0m │\n",
       "└─────────────────────────────────┴────────────────────────┴───────────────┘\n"
      ],
      "text/html": [
       "<pre style=\"white-space:pre;overflow-x:auto;line-height:normal;font-family:Menlo,'DejaVu Sans Mono',consolas,'Courier New',monospace\">┏━━━━━━━━━━━━━━━━━━━━━━━━━━━━━━━━━┳━━━━━━━━━━━━━━━━━━━━━━━━┳━━━━━━━━━━━━━━━┓\n",
       "┃<span style=\"font-weight: bold\"> Layer (type)                    </span>┃<span style=\"font-weight: bold\"> Output Shape           </span>┃<span style=\"font-weight: bold\">       Param # </span>┃\n",
       "┡━━━━━━━━━━━━━━━━━━━━━━━━━━━━━━━━━╇━━━━━━━━━━━━━━━━━━━━━━━━╇━━━━━━━━━━━━━━━┩\n",
       "│ flatten_2 (<span style=\"color: #0087ff; text-decoration-color: #0087ff\">Flatten</span>)             │ (<span style=\"color: #00d7ff; text-decoration-color: #00d7ff\">None</span>, <span style=\"color: #00af00; text-decoration-color: #00af00\">784</span>)            │             <span style=\"color: #00af00; text-decoration-color: #00af00\">0</span> │\n",
       "├─────────────────────────────────┼────────────────────────┼───────────────┤\n",
       "│ dense_5 (<span style=\"color: #0087ff; text-decoration-color: #0087ff\">Dense</span>)                 │ (<span style=\"color: #00d7ff; text-decoration-color: #00d7ff\">None</span>, <span style=\"color: #00af00; text-decoration-color: #00af00\">128</span>)            │       <span style=\"color: #00af00; text-decoration-color: #00af00\">100,480</span> │\n",
       "├─────────────────────────────────┼────────────────────────┼───────────────┤\n",
       "│ dense_6 (<span style=\"color: #0087ff; text-decoration-color: #0087ff\">Dense</span>)                 │ (<span style=\"color: #00d7ff; text-decoration-color: #00d7ff\">None</span>, <span style=\"color: #00af00; text-decoration-color: #00af00\">10</span>)             │         <span style=\"color: #00af00; text-decoration-color: #00af00\">1,290</span> │\n",
       "└─────────────────────────────────┴────────────────────────┴───────────────┘\n",
       "</pre>\n"
      ]
     },
     "metadata": {},
     "output_type": "display_data"
    },
    {
     "data": {
      "text/plain": [
       "\u001B[1m Total params: \u001B[0m\u001B[38;5;34m101,770\u001B[0m (397.54 KB)\n"
      ],
      "text/html": [
       "<pre style=\"white-space:pre;overflow-x:auto;line-height:normal;font-family:Menlo,'DejaVu Sans Mono',consolas,'Courier New',monospace\"><span style=\"font-weight: bold\"> Total params: </span><span style=\"color: #00af00; text-decoration-color: #00af00\">101,770</span> (397.54 KB)\n",
       "</pre>\n"
      ]
     },
     "metadata": {},
     "output_type": "display_data"
    },
    {
     "data": {
      "text/plain": [
       "\u001B[1m Trainable params: \u001B[0m\u001B[38;5;34m101,770\u001B[0m (397.54 KB)\n"
      ],
      "text/html": [
       "<pre style=\"white-space:pre;overflow-x:auto;line-height:normal;font-family:Menlo,'DejaVu Sans Mono',consolas,'Courier New',monospace\"><span style=\"font-weight: bold\"> Trainable params: </span><span style=\"color: #00af00; text-decoration-color: #00af00\">101,770</span> (397.54 KB)\n",
       "</pre>\n"
      ]
     },
     "metadata": {},
     "output_type": "display_data"
    },
    {
     "data": {
      "text/plain": [
       "\u001B[1m Non-trainable params: \u001B[0m\u001B[38;5;34m0\u001B[0m (0.00 B)\n"
      ],
      "text/html": [
       "<pre style=\"white-space:pre;overflow-x:auto;line-height:normal;font-family:Menlo,'DejaVu Sans Mono',consolas,'Courier New',monospace\"><span style=\"font-weight: bold\"> Non-trainable params: </span><span style=\"color: #00af00; text-decoration-color: #00af00\">0</span> (0.00 B)\n",
       "</pre>\n"
      ]
     },
     "metadata": {},
     "output_type": "display_data"
    }
   ],
   "execution_count": 5
  },
  {
   "metadata": {
    "ExecuteTime": {
     "end_time": "2024-08-31T07:51:39.415653Z",
     "start_time": "2024-08-31T07:51:39.410990Z"
    }
   },
   "cell_type": "code",
   "source": [
    "#model.fit(train_data,train_label,epochs=20,batch_size=32,validation_data=(val_data,val_labels))\n",
    "#loss,accuracy = model.evaluate(test_data,test_label)\n",
    "#predictions = model.predict(test_data)"
   ],
   "id": "f92aae098e703b5",
   "outputs": [],
   "execution_count": 6
  },
  {
   "metadata": {
    "ExecuteTime": {
     "end_time": "2024-08-31T08:45:35.386762Z",
     "start_time": "2024-08-31T08:45:35.384309Z"
    }
   },
   "cell_type": "code",
   "source": [
    "import tensorflow as tf\n",
    "from sklearn.model_selection import train_test_split\n",
    "import os"
   ],
   "id": "6c75e3db186e5e8b",
   "outputs": [],
   "execution_count": 39
  },
  {
   "metadata": {
    "ExecuteTime": {
     "end_time": "2024-08-31T08:38:50.569072Z",
     "start_time": "2024-08-31T08:38:50.537864Z"
    }
   },
   "cell_type": "code",
   "source": [
    "config = tf.compat.v1.ConfigProto()\n",
    "config.log_device_placement = True\n",
    "config.gpu_options.allow_growth = True\n",
    "model = tf.keras.Sequential([\n",
    "    tf.keras.layers.Conv2D(32,kernel_size=(3,3),activation='relu',input_shape=(28,28,1)),\n",
    "    tf.keras.layers.MaxPooling2D(pool_size=(2,2)),\n",
    "    tf.keras.layers.Conv2D(64,kernel_size=(3,3),activation='relu'),\n",
    "    tf.keras.layers.MaxPooling2D(pool_size=(2,2)),\n",
    "    tf.keras.layers.Flatten(),\n",
    "    tf.keras.layers.Dense(units=1024,activation='relu'),\n",
    "    tf.keras.layers.Dense(units=512,activation='relu'),\n",
    "    tf.keras.layers.Dense(units=10,activation='softmax')\n",
    "])\n",
    "model.compile(optimizer='adam',loss='sparse_categorical_crossentropy',metrics=['accuracy'])"
   ],
   "id": "3c17eb55107c4142",
   "outputs": [],
   "execution_count": 30
  },
  {
   "metadata": {
    "ExecuteTime": {
     "end_time": "2024-08-31T08:38:51.417151Z",
     "start_time": "2024-08-31T08:38:51.247647Z"
    }
   },
   "cell_type": "code",
   "source": " (train_indata , train_outdata), (test_indata,test_outdata) = tf.keras.datasets.mnist.load_data()",
   "id": "ae82fd1d810b14d0",
   "outputs": [],
   "execution_count": 31
  },
  {
   "metadata": {
    "ExecuteTime": {
     "end_time": "2024-08-31T08:38:52.120381Z",
     "start_time": "2024-08-31T08:38:52.062724Z"
    }
   },
   "cell_type": "code",
   "source": [
    "config = tf.compat.v1.ConfigProto()\n",
    "config.log_device_placement = True\n",
    "config.gpu_options.allow_growth = True\n",
    "train_indata = train_indata.reshape(-1,28,28,1).astype('float32')/255.0\n",
    "train_outdata = tf.keras.utils.to_categorical(train_outdata,10)\n",
    "test_indata = test_indata.reshape(-1,28,28,1).astype('float32')/255.0\n",
    "test_outdata = tf.keras.utils.to_categorical(test_outdata,10)"
   ],
   "id": "8dfa3b2d0ee72e4",
   "outputs": [],
   "execution_count": 32
  },
  {
   "metadata": {
    "ExecuteTime": {
     "end_time": "2024-08-31T08:38:55.094246Z",
     "start_time": "2024-08-31T08:38:54.963867Z"
    }
   },
   "cell_type": "code",
   "source": "train_indata, val_indata,train_outdata,val_outdata = train_test_split(train_indata,train_outdata,test_size=0.2,random_state=42)",
   "id": "a269bbf75746a3c1",
   "outputs": [],
   "execution_count": 33
  },
  {
   "metadata": {
    "ExecuteTime": {
     "end_time": "2024-08-31T08:38:55.556900Z",
     "start_time": "2024-08-31T08:38:55.553831Z"
    }
   },
   "cell_type": "code",
   "source": [
    "config = tf.compat.v1.ConfigProto()\n",
    "config.log_device_placement = True\n",
    "config.gpu_options.allow_growth = True\n"
   ],
   "id": "68f2c44a44a9faa0",
   "outputs": [],
   "execution_count": 34
  },
  {
   "metadata": {
    "ExecuteTime": {
     "end_time": "2024-08-31T08:40:40.330505Z",
     "start_time": "2024-08-31T08:40:40.323620Z"
    }
   },
   "cell_type": "code",
   "source": [
    "model.compile(optimizer='adam',loss='categorical_crossentropy',metrics=['accuracy'])\n",
    "print(train_indata.shape)"
   ],
   "id": "7aad1e616cd6a05e",
   "outputs": [
    {
     "name": "stdout",
     "output_type": "stream",
     "text": [
      "(48000, 28, 28, 1)\n"
     ]
    }
   ],
   "execution_count": 37
  },
  {
   "metadata": {
    "ExecuteTime": {
     "end_time": "2024-08-31T08:47:47.368836Z",
     "start_time": "2024-08-31T08:45:40.071245Z"
    }
   },
   "cell_type": "code",
   "source": "history = model.fit(train_indata,train_outdata,epochs=10,validation_data=(val_indata,val_outdata))",
   "id": "8817d648922bcc73",
   "outputs": [
    {
     "name": "stdout",
     "output_type": "stream",
     "text": [
      "Epoch 1/10\n",
      "\u001B[1m1500/1500\u001B[0m \u001B[32m━━━━━━━━━━━━━━━━━━━━\u001B[0m\u001B[37m\u001B[0m \u001B[1m12s\u001B[0m 8ms/step - accuracy: 0.9974 - loss: 0.0096 - val_accuracy: 0.9896 - val_loss: 0.0561\n",
      "Epoch 2/10\n",
      "\u001B[1m1500/1500\u001B[0m \u001B[32m━━━━━━━━━━━━━━━━━━━━\u001B[0m\u001B[37m\u001B[0m \u001B[1m12s\u001B[0m 8ms/step - accuracy: 0.9975 - loss: 0.0080 - val_accuracy: 0.9897 - val_loss: 0.0657\n",
      "Epoch 3/10\n",
      "\u001B[1m1500/1500\u001B[0m \u001B[32m━━━━━━━━━━━━━━━━━━━━\u001B[0m\u001B[37m\u001B[0m \u001B[1m12s\u001B[0m 8ms/step - accuracy: 0.9971 - loss: 0.0092 - val_accuracy: 0.9908 - val_loss: 0.0604\n",
      "Epoch 4/10\n",
      "\u001B[1m1500/1500\u001B[0m \u001B[32m━━━━━━━━━━━━━━━━━━━━\u001B[0m\u001B[37m\u001B[0m \u001B[1m14s\u001B[0m 9ms/step - accuracy: 0.9985 - loss: 0.0062 - val_accuracy: 0.9896 - val_loss: 0.0641\n",
      "Epoch 5/10\n",
      "\u001B[1m1500/1500\u001B[0m \u001B[32m━━━━━━━━━━━━━━━━━━━━\u001B[0m\u001B[37m\u001B[0m \u001B[1m12s\u001B[0m 8ms/step - accuracy: 0.9979 - loss: 0.0083 - val_accuracy: 0.9897 - val_loss: 0.0697\n",
      "Epoch 6/10\n",
      "\u001B[1m1500/1500\u001B[0m \u001B[32m━━━━━━━━━━━━━━━━━━━━\u001B[0m\u001B[37m\u001B[0m \u001B[1m12s\u001B[0m 8ms/step - accuracy: 0.9982 - loss: 0.0069 - val_accuracy: 0.9873 - val_loss: 0.0798\n",
      "Epoch 7/10\n",
      "\u001B[1m1500/1500\u001B[0m \u001B[32m━━━━━━━━━━━━━━━━━━━━\u001B[0m\u001B[37m\u001B[0m \u001B[1m13s\u001B[0m 9ms/step - accuracy: 0.9990 - loss: 0.0035 - val_accuracy: 0.9891 - val_loss: 0.0951\n",
      "Epoch 8/10\n",
      "\u001B[1m1500/1500\u001B[0m \u001B[32m━━━━━━━━━━━━━━━━━━━━\u001B[0m\u001B[37m\u001B[0m \u001B[1m13s\u001B[0m 9ms/step - accuracy: 0.9985 - loss: 0.0065 - val_accuracy: 0.9917 - val_loss: 0.0631\n",
      "Epoch 9/10\n",
      "\u001B[1m1500/1500\u001B[0m \u001B[32m━━━━━━━━━━━━━━━━━━━━\u001B[0m\u001B[37m\u001B[0m \u001B[1m13s\u001B[0m 9ms/step - accuracy: 0.9993 - loss: 0.0029 - val_accuracy: 0.9876 - val_loss: 0.0921\n",
      "Epoch 10/10\n",
      "\u001B[1m1500/1500\u001B[0m \u001B[32m━━━━━━━━━━━━━━━━━━━━\u001B[0m\u001B[37m\u001B[0m \u001B[1m13s\u001B[0m 9ms/step - accuracy: 0.9972 - loss: 0.0107 - val_accuracy: 0.9897 - val_loss: 0.0816\n"
     ]
    }
   ],
   "execution_count": 40
  },
  {
   "metadata": {
    "ExecuteTime": {
     "end_time": "2024-08-31T08:48:42.664855Z",
     "start_time": "2024-08-31T08:48:41.587107Z"
    }
   },
   "cell_type": "code",
   "source": "test_loss , test_accuracy = model.evaluate(test_indata,test_outdata)",
   "id": "158f0549a4989bcc",
   "outputs": [
    {
     "name": "stdout",
     "output_type": "stream",
     "text": [
      "\u001B[1m313/313\u001B[0m \u001B[32m━━━━━━━━━━━━━━━━━━━━\u001B[0m\u001B[37m\u001B[0m \u001B[1m1s\u001B[0m 3ms/step - accuracy: 0.9855 - loss: 0.0991\n"
     ]
    }
   ],
   "execution_count": 42
  },
  {
   "metadata": {
    "ExecuteTime": {
     "end_time": "2024-08-31T08:51:30.875903Z",
     "start_time": "2024-08-31T08:51:30.801819Z"
    }
   },
   "cell_type": "code",
   "source": [
    "import matplotlib.pyplot as plt \n",
    "plt.plot(history.history['loss'],label = 'Training_loss')\n",
    "plt.plot(history.history['val_loss'],label = 'Validation_loss')\n",
    "plt.xlabel('Epochs')\n",
    "plt.ylabel('Loss')\n",
    "plt.legend()\n",
    "plt.show()"
   ],
   "id": "9fceff035048f674",
   "outputs": [
    {
     "data": {
      "text/plain": [
       "<Figure size 640x480 with 1 Axes>"
      ],
      "image/png": "[encoded data removed]"
     },
     "metadata": {},
     "output_type": "display_data"
    }
   ],
   "execution_count": 46
  },
  {
   "metadata": {},
   "cell_type": "code",
   "outputs": [],
   "execution_count": null,
   "source": "",
   "id": "107b6ce8e0d2a7fd"
  }
 ],
 "metadata": {
  "kernelspec": {
   "display_name": "Python 3",
   "language": "python",
   "name": "python3"
  },
  "language_info": {
   "codemirror_mode": {
    "name": "ipython",
    "version": 2
   },
   "file_extension": ".py",
   "mimetype": "text/x-python",
   "name": "python",
   "nbconvert_exporter": "python",
   "pygments_lexer": "ipython2",
   "version": "2.7.6"
  }
 },
 "nbformat": 4,
 "nbformat_minor": 5
}
