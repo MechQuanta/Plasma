{
 "cells": [
  {
   "cell_type": "code",
   "id": "initial_id",
   "metadata": {
    "collapsed": true,
    "ExecuteTime": {
     "end_time": "2024-08-28T10:29:29.622912Z",
     "start_time": "2024-08-28T10:29:29.619884Z"
    }
   },
   "source": [
    "import numpy as np\n",
    "import tensorflow as tf"
   ],
   "outputs": [],
   "execution_count": 21
  },
  {
   "metadata": {
    "ExecuteTime": {
     "end_time": "2024-08-27T17:19:26.145696Z",
     "start_time": "2024-08-27T17:19:26.140694Z"
    }
   },
   "cell_type": "code",
   "source": "print(tf.version)",
   "id": "1ae717a31879aafa",
   "outputs": [
    {
     "name": "stdout",
     "output_type": "stream",
     "text": [
      "<module 'tensorflow._api.v2.version' from '/home/sajid/miniconda3/envs/myenvi/lib/python3.12/site-packages/tensorflow/_api/v2/version/__init__.py'>\n"
     ]
    }
   ],
   "execution_count": 4
  },
  {
   "metadata": {
    "ExecuteTime": {
     "end_time": "2024-08-27T17:23:37.829569Z",
     "start_time": "2024-08-27T17:23:36.136919Z"
    }
   },
   "cell_type": "code",
   "source": [
    "string = tf.Variable(\"This is string\",tf.string)\n",
    "number = tf.Variable(3,tf.int16)\n",
    "floating = tf.Variable(3.14,tf.float64)"
   ],
   "id": "baa032c0c686327b",
   "outputs": [
    {
     "name": "stderr",
     "output_type": "stream",
     "text": [
      "WARNING: All log messages before absl::InitializeLog() is called are written to STDERR\n",
      "I0000 00:00:1724779417.677847   14349 cuda_executor.cc:1015] successful NUMA node read from SysFS had negative value (-1), but there must be at least one NUMA node, so returning NUMA node zero. See more at https://github.com/torvalds/linux/blob/v6.0/Documentation/ABI/testing/sysfs-bus-pci#L344-L355\n",
      "I0000 00:00:1724779417.716094   14349 cuda_executor.cc:1015] successful NUMA node read from SysFS had negative value (-1), but there must be at least one NUMA node, so returning NUMA node zero. See more at https://github.com/torvalds/linux/blob/v6.0/Documentation/ABI/testing/sysfs-bus-pci#L344-L355\n",
      "I0000 00:00:1724779417.716237   14349 cuda_executor.cc:1015] successful NUMA node read from SysFS had negative value (-1), but there must be at least one NUMA node, so returning NUMA node zero. See more at https://github.com/torvalds/linux/blob/v6.0/Documentation/ABI/testing/sysfs-bus-pci#L344-L355\n",
      "I0000 00:00:1724779417.717998   14349 cuda_executor.cc:1015] successful NUMA node read from SysFS had negative value (-1), but there must be at least one NUMA node, so returning NUMA node zero. See more at https://github.com/torvalds/linux/blob/v6.0/Documentation/ABI/testing/sysfs-bus-pci#L344-L355\n",
      "I0000 00:00:1724779417.718117   14349 cuda_executor.cc:1015] successful NUMA node read from SysFS had negative value (-1), but there must be at least one NUMA node, so returning NUMA node zero. See more at https://github.com/torvalds/linux/blob/v6.0/Documentation/ABI/testing/sysfs-bus-pci#L344-L355\n",
      "I0000 00:00:1724779417.718195   14349 cuda_executor.cc:1015] successful NUMA node read from SysFS had negative value (-1), but there must be at least one NUMA node, so returning NUMA node zero. See more at https://github.com/torvalds/linux/blob/v6.0/Documentation/ABI/testing/sysfs-bus-pci#L344-L355\n",
      "I0000 00:00:1724779417.763739   14349 cuda_executor.cc:1015] successful NUMA node read from SysFS had negative value (-1), but there must be at least one NUMA node, so returning NUMA node zero. See more at https://github.com/torvalds/linux/blob/v6.0/Documentation/ABI/testing/sysfs-bus-pci#L344-L355\n",
      "I0000 00:00:1724779417.763868   14349 cuda_executor.cc:1015] successful NUMA node read from SysFS had negative value (-1), but there must be at least one NUMA node, so returning NUMA node zero. See more at https://github.com/torvalds/linux/blob/v6.0/Documentation/ABI/testing/sysfs-bus-pci#L344-L355\n",
      "I0000 00:00:1724779417.763942   14349 cuda_executor.cc:1015] successful NUMA node read from SysFS had negative value (-1), but there must be at least one NUMA node, so returning NUMA node zero. See more at https://github.com/torvalds/linux/blob/v6.0/Documentation/ABI/testing/sysfs-bus-pci#L344-L355\n",
      "2024-08-27 23:23:37.764172: I tensorflow/core/common_runtime/gpu/gpu_device.cc:2021] Created device /job:localhost/replica:0/task:0/device:GPU:0 with 4309 MB memory:  -> device: 0, name: NVIDIA GeForce RTX 3050 6GB Laptop GPU, pci bus id: 0000:01:00.0, compute capability: 8.6\n"
     ]
    }
   ],
   "execution_count": 5
  },
  {
   "metadata": {
    "ExecuteTime": {
     "end_time": "2024-08-27T17:25:30.800818Z",
     "start_time": "2024-08-27T17:25:30.796939Z"
    }
   },
   "cell_type": "code",
   "source": [
    "string_arr1 = tf.Variable([\"This is string another\"],tf.string)\n",
    "string_arr2 = tf.Variable([[\"12\"],[\"sajid\"]],tf.string)\n",
    "print(string_arr1,string_arr2)"
   ],
   "id": "7326af7c698860e4",
   "outputs": [
    {
     "name": "stdout",
     "output_type": "stream",
     "text": [
      "<tf.Variable 'Variable:0' shape=(1,) dtype=string, numpy=array([b'This is string another'], dtype=object)> <tf.Variable 'Variable:0' shape=(2, 1) dtype=string, numpy=\n",
      "array([[b'12'],\n",
      "       [b'sajid']], dtype=object)>\n"
     ]
    }
   ],
   "execution_count": 7
  },
  {
   "metadata": {
    "ExecuteTime": {
     "end_time": "2024-08-27T17:33:35.821231Z",
     "start_time": "2024-08-27T17:33:35.814770Z"
    }
   },
   "cell_type": "code",
   "source": [
    "rank2_tensor = tf.rank(string_arr2)\n",
    "print(rank2_tensor)\n",
    "print(string_arr2.shape)"
   ],
   "id": "d84fd4cf14351fed",
   "outputs": [
    {
     "name": "stdout",
     "output_type": "stream",
     "text": [
      "tf.Tensor(2, shape=(), dtype=int32)\n",
      "(2, 1)\n"
     ]
    }
   ],
   "execution_count": 12
  },
  {
   "metadata": {
    "ExecuteTime": {
     "end_time": "2024-08-27T17:38:01.890773Z",
     "start_time": "2024-08-27T17:38:01.874636Z"
    }
   },
   "cell_type": "code",
   "source": [
    "tensor1 = tf.ones([1,2,3])\n",
    "print(tensor1)\n",
    "tensor2 = tf.reshape(tensor1,[3,2,1])\n",
    "print(tensor2)\n",
    "tensor3 = tf.reshape(tensor2 ,[3,-1])\n",
    "print(tensor3)"
   ],
   "id": "ef70c7dc9b6948b2",
   "outputs": [
    {
     "name": "stdout",
     "output_type": "stream",
     "text": [
      "tf.Tensor(\n",
      "[[[1. 1. 1.]\n",
      "  [1. 1. 1.]]], shape=(1, 2, 3), dtype=float32)\n",
      "tf.Tensor(\n",
      "[[[1.]\n",
      "  [1.]]\n",
      "\n",
      " [[1.]\n",
      "  [1.]]\n",
      "\n",
      " [[1.]\n",
      "  [1.]]], shape=(3, 2, 1), dtype=float32)\n",
      "tf.Tensor(\n",
      "[[1. 1.]\n",
      " [1. 1.]\n",
      " [1. 1.]], shape=(3, 2), dtype=float32)\n"
     ]
    }
   ],
   "execution_count": 15
  },
  {
   "metadata": {
    "ExecuteTime": {
     "end_time": "2024-08-27T18:02:13.532302Z",
     "start_time": "2024-08-27T18:02:13.131256Z"
    }
   },
   "cell_type": "code",
   "source": [
    "with tf.Session() as sess:\n",
    "    tensor.eval()"
   ],
   "id": "6fa39a33bb3cc65e",
   "outputs": [
    {
     "ename": "AttributeError",
     "evalue": "module 'tensorflow' has no attribute 'Session'",
     "output_type": "error",
     "traceback": [
      "\u001B[0;31m---------------------------------------------------------------------------\u001B[0m",
      "\u001B[0;31mAttributeError\u001B[0m                            Traceback (most recent call last)",
      "Cell \u001B[0;32mIn[16], line 1\u001B[0m\n\u001B[0;32m----> 1\u001B[0m \u001B[38;5;28;01mwith\u001B[39;00m tf\u001B[38;5;241m.\u001B[39mSession() \u001B[38;5;28;01mas\u001B[39;00m sess:\n\u001B[1;32m      2\u001B[0m     tensor\u001B[38;5;241m.\u001B[39meval()\n",
      "\u001B[0;31mAttributeError\u001B[0m: module 'tensorflow' has no attribute 'Session'"
     ]
    }
   ],
   "execution_count": 16
  },
  {
   "metadata": {
    "ExecuteTime": {
     "end_time": "2024-08-27T18:03:18.745045Z",
     "start_time": "2024-08-27T18:03:18.728966Z"
    }
   },
   "cell_type": "code",
   "source": [
    " tensor = tf.zeros([6,6,6,6])\n",
    " print(tensor)"
   ],
   "id": "c67a83b38bc4d616",
   "outputs": [
    {
     "name": "stdout",
     "output_type": "stream",
     "text": [
      "tf.Tensor(\n",
      "[[[[0. 0. 0. 0. 0. 0.]\n",
      "   [0. 0. 0. 0. 0. 0.]\n",
      "   [0. 0. 0. 0. 0. 0.]\n",
      "   [0. 0. 0. 0. 0. 0.]\n",
      "   [0. 0. 0. 0. 0. 0.]\n",
      "   [0. 0. 0. 0. 0. 0.]]\n",
      "\n",
      "  [[0. 0. 0. 0. 0. 0.]\n",
      "   [0. 0. 0. 0. 0. 0.]\n",
      "   [0. 0. 0. 0. 0. 0.]\n",
      "   [0. 0. 0. 0. 0. 0.]\n",
      "   [0. 0. 0. 0. 0. 0.]\n",
      "   [0. 0. 0. 0. 0. 0.]]\n",
      "\n",
      "  [[0. 0. 0. 0. 0. 0.]\n",
      "   [0. 0. 0. 0. 0. 0.]\n",
      "   [0. 0. 0. 0. 0. 0.]\n",
      "   [0. 0. 0. 0. 0. 0.]\n",
      "   [0. 0. 0. 0. 0. 0.]\n",
      "   [0. 0. 0. 0. 0. 0.]]\n",
      "\n",
      "  [[0. 0. 0. 0. 0. 0.]\n",
      "   [0. 0. 0. 0. 0. 0.]\n",
      "   [0. 0. 0. 0. 0. 0.]\n",
      "   [0. 0. 0. 0. 0. 0.]\n",
      "   [0. 0. 0. 0. 0. 0.]\n",
      "   [0. 0. 0. 0. 0. 0.]]\n",
      "\n",
      "  [[0. 0. 0. 0. 0. 0.]\n",
      "   [0. 0. 0. 0. 0. 0.]\n",
      "   [0. 0. 0. 0. 0. 0.]\n",
      "   [0. 0. 0. 0. 0. 0.]\n",
      "   [0. 0. 0. 0. 0. 0.]\n",
      "   [0. 0. 0. 0. 0. 0.]]\n",
      "\n",
      "  [[0. 0. 0. 0. 0. 0.]\n",
      "   [0. 0. 0. 0. 0. 0.]\n",
      "   [0. 0. 0. 0. 0. 0.]\n",
      "   [0. 0. 0. 0. 0. 0.]\n",
      "   [0. 0. 0. 0. 0. 0.]\n",
      "   [0. 0. 0. 0. 0. 0.]]]\n",
      "\n",
      "\n",
      " [[[0. 0. 0. 0. 0. 0.]\n",
      "   [0. 0. 0. 0. 0. 0.]\n",
      "   [0. 0. 0. 0. 0. 0.]\n",
      "   [0. 0. 0. 0. 0. 0.]\n",
      "   [0. 0. 0. 0. 0. 0.]\n",
      "   [0. 0. 0. 0. 0. 0.]]\n",
      "\n",
      "  [[0. 0. 0. 0. 0. 0.]\n",
      "   [0. 0. 0. 0. 0. 0.]\n",
      "   [0. 0. 0. 0. 0. 0.]\n",
      "   [0. 0. 0. 0. 0. 0.]\n",
      "   [0. 0. 0. 0. 0. 0.]\n",
      "   [0. 0. 0. 0. 0. 0.]]\n",
      "\n",
      "  [[0. 0. 0. 0. 0. 0.]\n",
      "   [0. 0. 0. 0. 0. 0.]\n",
      "   [0. 0. 0. 0. 0. 0.]\n",
      "   [0. 0. 0. 0. 0. 0.]\n",
      "   [0. 0. 0. 0. 0. 0.]\n",
      "   [0. 0. 0. 0. 0. 0.]]\n",
      "\n",
      "  [[0. 0. 0. 0. 0. 0.]\n",
      "   [0. 0. 0. 0. 0. 0.]\n",
      "   [0. 0. 0. 0. 0. 0.]\n",
      "   [0. 0. 0. 0. 0. 0.]\n",
      "   [0. 0. 0. 0. 0. 0.]\n",
      "   [0. 0. 0. 0. 0. 0.]]\n",
      "\n",
      "  [[0. 0. 0. 0. 0. 0.]\n",
      "   [0. 0. 0. 0. 0. 0.]\n",
      "   [0. 0. 0. 0. 0. 0.]\n",
      "   [0. 0. 0. 0. 0. 0.]\n",
      "   [0. 0. 0. 0. 0. 0.]\n",
      "   [0. 0. 0. 0. 0. 0.]]\n",
      "\n",
      "  [[0. 0. 0. 0. 0. 0.]\n",
      "   [0. 0. 0. 0. 0. 0.]\n",
      "   [0. 0. 0. 0. 0. 0.]\n",
      "   [0. 0. 0. 0. 0. 0.]\n",
      "   [0. 0. 0. 0. 0. 0.]\n",
      "   [0. 0. 0. 0. 0. 0.]]]\n",
      "\n",
      "\n",
      " [[[0. 0. 0. 0. 0. 0.]\n",
      "   [0. 0. 0. 0. 0. 0.]\n",
      "   [0. 0. 0. 0. 0. 0.]\n",
      "   [0. 0. 0. 0. 0. 0.]\n",
      "   [0. 0. 0. 0. 0. 0.]\n",
      "   [0. 0. 0. 0. 0. 0.]]\n",
      "\n",
      "  [[0. 0. 0. 0. 0. 0.]\n",
      "   [0. 0. 0. 0. 0. 0.]\n",
      "   [0. 0. 0. 0. 0. 0.]\n",
      "   [0. 0. 0. 0. 0. 0.]\n",
      "   [0. 0. 0. 0. 0. 0.]\n",
      "   [0. 0. 0. 0. 0. 0.]]\n",
      "\n",
      "  [[0. 0. 0. 0. 0. 0.]\n",
      "   [0. 0. 0. 0. 0. 0.]\n",
      "   [0. 0. 0. 0. 0. 0.]\n",
      "   [0. 0. 0. 0. 0. 0.]\n",
      "   [0. 0. 0. 0. 0. 0.]\n",
      "   [0. 0. 0. 0. 0. 0.]]\n",
      "\n",
      "  [[0. 0. 0. 0. 0. 0.]\n",
      "   [0. 0. 0. 0. 0. 0.]\n",
      "   [0. 0. 0. 0. 0. 0.]\n",
      "   [0. 0. 0. 0. 0. 0.]\n",
      "   [0. 0. 0. 0. 0. 0.]\n",
      "   [0. 0. 0. 0. 0. 0.]]\n",
      "\n",
      "  [[0. 0. 0. 0. 0. 0.]\n",
      "   [0. 0. 0. 0. 0. 0.]\n",
      "   [0. 0. 0. 0. 0. 0.]\n",
      "   [0. 0. 0. 0. 0. 0.]\n",
      "   [0. 0. 0. 0. 0. 0.]\n",
      "   [0. 0. 0. 0. 0. 0.]]\n",
      "\n",
      "  [[0. 0. 0. 0. 0. 0.]\n",
      "   [0. 0. 0. 0. 0. 0.]\n",
      "   [0. 0. 0. 0. 0. 0.]\n",
      "   [0. 0. 0. 0. 0. 0.]\n",
      "   [0. 0. 0. 0. 0. 0.]\n",
      "   [0. 0. 0. 0. 0. 0.]]]\n",
      "\n",
      "\n",
      " [[[0. 0. 0. 0. 0. 0.]\n",
      "   [0. 0. 0. 0. 0. 0.]\n",
      "   [0. 0. 0. 0. 0. 0.]\n",
      "   [0. 0. 0. 0. 0. 0.]\n",
      "   [0. 0. 0. 0. 0. 0.]\n",
      "   [0. 0. 0. 0. 0. 0.]]\n",
      "\n",
      "  [[0. 0. 0. 0. 0. 0.]\n",
      "   [0. 0. 0. 0. 0. 0.]\n",
      "   [0. 0. 0. 0. 0. 0.]\n",
      "   [0. 0. 0. 0. 0. 0.]\n",
      "   [0. 0. 0. 0. 0. 0.]\n",
      "   [0. 0. 0. 0. 0. 0.]]\n",
      "\n",
      "  [[0. 0. 0. 0. 0. 0.]\n",
      "   [0. 0. 0. 0. 0. 0.]\n",
      "   [0. 0. 0. 0. 0. 0.]\n",
      "   [0. 0. 0. 0. 0. 0.]\n",
      "   [0. 0. 0. 0. 0. 0.]\n",
      "   [0. 0. 0. 0. 0. 0.]]\n",
      "\n",
      "  [[0. 0. 0. 0. 0. 0.]\n",
      "   [0. 0. 0. 0. 0. 0.]\n",
      "   [0. 0. 0. 0. 0. 0.]\n",
      "   [0. 0. 0. 0. 0. 0.]\n",
      "   [0. 0. 0. 0. 0. 0.]\n",
      "   [0. 0. 0. 0. 0. 0.]]\n",
      "\n",
      "  [[0. 0. 0. 0. 0. 0.]\n",
      "   [0. 0. 0. 0. 0. 0.]\n",
      "   [0. 0. 0. 0. 0. 0.]\n",
      "   [0. 0. 0. 0. 0. 0.]\n",
      "   [0. 0. 0. 0. 0. 0.]\n",
      "   [0. 0. 0. 0. 0. 0.]]\n",
      "\n",
      "  [[0. 0. 0. 0. 0. 0.]\n",
      "   [0. 0. 0. 0. 0. 0.]\n",
      "   [0. 0. 0. 0. 0. 0.]\n",
      "   [0. 0. 0. 0. 0. 0.]\n",
      "   [0. 0. 0. 0. 0. 0.]\n",
      "   [0. 0. 0. 0. 0. 0.]]]\n",
      "\n",
      "\n",
      " [[[0. 0. 0. 0. 0. 0.]\n",
      "   [0. 0. 0. 0. 0. 0.]\n",
      "   [0. 0. 0. 0. 0. 0.]\n",
      "   [0. 0. 0. 0. 0. 0.]\n",
      "   [0. 0. 0. 0. 0. 0.]\n",
      "   [0. 0. 0. 0. 0. 0.]]\n",
      "\n",
      "  [[0. 0. 0. 0. 0. 0.]\n",
      "   [0. 0. 0. 0. 0. 0.]\n",
      "   [0. 0. 0. 0. 0. 0.]\n",
      "   [0. 0. 0. 0. 0. 0.]\n",
      "   [0. 0. 0. 0. 0. 0.]\n",
      "   [0. 0. 0. 0. 0. 0.]]\n",
      "\n",
      "  [[0. 0. 0. 0. 0. 0.]\n",
      "   [0. 0. 0. 0. 0. 0.]\n",
      "   [0. 0. 0. 0. 0. 0.]\n",
      "   [0. 0. 0. 0. 0. 0.]\n",
      "   [0. 0. 0. 0. 0. 0.]\n",
      "   [0. 0. 0. 0. 0. 0.]]\n",
      "\n",
      "  [[0. 0. 0. 0. 0. 0.]\n",
      "   [0. 0. 0. 0. 0. 0.]\n",
      "   [0. 0. 0. 0. 0. 0.]\n",
      "   [0. 0. 0. 0. 0. 0.]\n",
      "   [0. 0. 0. 0. 0. 0.]\n",
      "   [0. 0. 0. 0. 0. 0.]]\n",
      "\n",
      "  [[0. 0. 0. 0. 0. 0.]\n",
      "   [0. 0. 0. 0. 0. 0.]\n",
      "   [0. 0. 0. 0. 0. 0.]\n",
      "   [0. 0. 0. 0. 0. 0.]\n",
      "   [0. 0. 0. 0. 0. 0.]\n",
      "   [0. 0. 0. 0. 0. 0.]]\n",
      "\n",
      "  [[0. 0. 0. 0. 0. 0.]\n",
      "   [0. 0. 0. 0. 0. 0.]\n",
      "   [0. 0. 0. 0. 0. 0.]\n",
      "   [0. 0. 0. 0. 0. 0.]\n",
      "   [0. 0. 0. 0. 0. 0.]\n",
      "   [0. 0. 0. 0. 0. 0.]]]\n",
      "\n",
      "\n",
      " [[[0. 0. 0. 0. 0. 0.]\n",
      "   [0. 0. 0. 0. 0. 0.]\n",
      "   [0. 0. 0. 0. 0. 0.]\n",
      "   [0. 0. 0. 0. 0. 0.]\n",
      "   [0. 0. 0. 0. 0. 0.]\n",
      "   [0. 0. 0. 0. 0. 0.]]\n",
      "\n",
      "  [[0. 0. 0. 0. 0. 0.]\n",
      "   [0. 0. 0. 0. 0. 0.]\n",
      "   [0. 0. 0. 0. 0. 0.]\n",
      "   [0. 0. 0. 0. 0. 0.]\n",
      "   [0. 0. 0. 0. 0. 0.]\n",
      "   [0. 0. 0. 0. 0. 0.]]\n",
      "\n",
      "  [[0. 0. 0. 0. 0. 0.]\n",
      "   [0. 0. 0. 0. 0. 0.]\n",
      "   [0. 0. 0. 0. 0. 0.]\n",
      "   [0. 0. 0. 0. 0. 0.]\n",
      "   [0. 0. 0. 0. 0. 0.]\n",
      "   [0. 0. 0. 0. 0. 0.]]\n",
      "\n",
      "  [[0. 0. 0. 0. 0. 0.]\n",
      "   [0. 0. 0. 0. 0. 0.]\n",
      "   [0. 0. 0. 0. 0. 0.]\n",
      "   [0. 0. 0. 0. 0. 0.]\n",
      "   [0. 0. 0. 0. 0. 0.]\n",
      "   [0. 0. 0. 0. 0. 0.]]\n",
      "\n",
      "  [[0. 0. 0. 0. 0. 0.]\n",
      "   [0. 0. 0. 0. 0. 0.]\n",
      "   [0. 0. 0. 0. 0. 0.]\n",
      "   [0. 0. 0. 0. 0. 0.]\n",
      "   [0. 0. 0. 0. 0. 0.]\n",
      "   [0. 0. 0. 0. 0. 0.]]\n",
      "\n",
      "  [[0. 0. 0. 0. 0. 0.]\n",
      "   [0. 0. 0. 0. 0. 0.]\n",
      "   [0. 0. 0. 0. 0. 0.]\n",
      "   [0. 0. 0. 0. 0. 0.]\n",
      "   [0. 0. 0. 0. 0. 0.]\n",
      "   [0. 0. 0. 0. 0. 0.]]]], shape=(6, 6, 6, 6), dtype=float32)\n"
     ]
    }
   ],
   "execution_count": 17
  },
  {
   "metadata": {
    "ExecuteTime": {
     "end_time": "2024-08-27T18:10:06.869366Z",
     "start_time": "2024-08-27T18:10:06.856279Z"
    }
   },
   "cell_type": "code",
   "source": [
    "tensor = tf.reshape(tensor,[12,-1])\n",
    "#print(6*6*6*6)\n",
    "print(tensor)"
   ],
   "id": "c15a2f6954362939",
   "outputs": [
    {
     "name": "stdout",
     "output_type": "stream",
     "text": [
      "tf.Tensor(\n",
      "[[0. 0. 0. ... 0. 0. 0.]\n",
      " [0. 0. 0. ... 0. 0. 0.]\n",
      " [0. 0. 0. ... 0. 0. 0.]\n",
      " ...\n",
      " [0. 0. 0. ... 0. 0. 0.]\n",
      " [0. 0. 0. ... 0. 0. 0.]\n",
      " [0. 0. 0. ... 0. 0. 0.]], shape=(12, 108), dtype=float32)\n"
     ]
    }
   ],
   "execution_count": 25
  },
  {
   "metadata": {
    "ExecuteTime": {
     "end_time": "2024-08-27T18:27:33.424149Z",
     "start_time": "2024-08-27T18:27:33.362594Z"
    }
   },
   "cell_type": "code",
   "source": [
    "import matplotlib.pyplot as plt\n",
    "import numpy as np\n",
    "np.random.seed(5)\n",
    "x = np.array([1,3,3.5,5,6,7])\n",
    "m =np.array([1,1,1,1,1,1])\n",
    "c=np.array([1,1,1,1,1,1])\n",
    "y= m*x + c + np.random.randn(6)\n",
    "print(y)\n",
    "plt.plot(x,y,'ro')\n",
    "plt.axis([0,6,0,15])"
   ],
   "id": "dafb378357d680bc",
   "outputs": [
    {
     "name": "stdout",
     "output_type": "stream",
     "text": [
      "[2.44122749 3.66912985 6.93077119 5.74790787 7.10960984 9.58248112]\n"
     ]
    },
    {
     "data": {
      "text/plain": [
       "(0.0, 6.0, 0.0, 15.0)"
      ]
     },
     "execution_count": 35,
     "metadata": {},
     "output_type": "execute_result"
    },
    {
     "data": {
      "text/plain": [
       "<Figure size 640x480 with 1 Axes>"
      ],
      "image/png": "[encoded data removed]"
     },
     "metadata": {},
     "output_type": "display_data"
    }
   ],
   "execution_count": 35
  },
  {
   "metadata": {
    "ExecuteTime": {
     "end_time": "2024-08-27T18:31:33.115593Z",
     "start_time": "2024-08-27T18:31:33.053143Z"
    }
   },
   "cell_type": "code",
   "source": [
    "plt.plot(x,y,'ro')\n",
    "plt.axis([0,6,0,15])\n",
    "plt.plot(np.unique(x),np.poly1d(np.polyfit(x,y,1))(np.unique(x)))\n",
    "plt.show()"
   ],
   "id": "f0576ae61b57ed06",
   "outputs": [
    {
     "data": {
      "text/plain": [
       "<Figure size 640x480 with 1 Axes>"
      ],
      "image/png": "[encoded data removed]"
     },
     "metadata": {},
     "output_type": "display_data"
    }
   ],
   "execution_count": 36
  },
  {
   "metadata": {
    "ExecuteTime": {
     "end_time": "2024-08-28T05:22:40.456503Z",
     "start_time": "2024-08-28T05:22:40.450307Z"
    }
   },
   "cell_type": "code",
   "source": [
    "from __future__ import absolute_import,division,print_function,unicode_literals\n",
    "import numpy as np\n",
    "import matplotlib.pyplot as plt\n",
    "import pandas as pd\n",
    "from IPython.display import clear_output\n",
    "from six.moves import urllib\n",
    "import tensorflow.compat.v2.feature_column as fc\n",
    "import tensorflow as tf\n"
   ],
   "id": "78a9e1b03880368d",
   "outputs": [],
   "execution_count": 10
  },
  {
   "metadata": {
    "ExecuteTime": {
     "end_time": "2024-08-28T05:10:37.395969Z",
     "start_time": "2024-08-28T05:10:36.943247Z"
    }
   },
   "cell_type": "code",
   "source": [
    "dftrain = pd.read_csv('https://storage.googleapis.com/tf-datasets/titanic/train.csv') #training_dataset\n",
    "dfeval = pd.read_csv('https://storage.googleapis.com/tf-datasets/titanic/eval.csv') #testing dataset\n",
    "print(dftrain.shape)\n",
    "y_train= dftrain.pop('survived')\n",
    "y_eval = dfeval.pop('survived')\n",
    "print(dftrain.shape)"
   ],
   "id": "303408afbe5cbc12",
   "outputs": [
    {
     "name": "stdout",
     "output_type": "stream",
     "text": [
      "(627, 10)\n",
      "(627, 9)\n"
     ]
    }
   ],
   "execution_count": 4
  },
  {
   "metadata": {},
   "cell_type": "code",
   "outputs": [],
   "execution_count": null,
   "source": [
    "objects = [] \n",
    "numerics = [] \n",
    "\n",
    "for col in dftrain.columns: \n",
    "\tif dftrain[col].dtype == 'object': \n",
    "\t\tobjects.append(col) \n",
    "\t\t\n",
    "\telif dftrain[col].dtype == 'int': \n",
    "\t\tobjects.append(col) \n",
    "\t\t\n",
    "\telse: \n",
    "\t\tnumerics.append(col) \n",
    "\n",
    "print(objects) \n",
    "print(numerics) \n"
   ],
   "id": "ea178fcaa6306e09"
  },
  {
   "metadata": {
    "ExecuteTime": {
     "end_time": "2024-08-27T19:21:26.393040Z",
     "start_time": "2024-08-27T19:21:26.386659Z"
    }
   },
   "cell_type": "code",
   "source": [
    "dftrain.head()\n",
    "#dftrain.head(10)"
   ],
   "id": "9dc4ee9468f88655",
   "outputs": [
    {
     "data": {
      "text/plain": [
       "      sex   age  n_siblings_spouses  parch     fare  class     deck  \\\n",
       "0    male  22.0                   1      0   7.2500  Third  unknown   \n",
       "1  female  38.0                   1      0  71.2833  First        C   \n",
       "2  female  26.0                   0      0   7.9250  Third  unknown   \n",
       "3  female  35.0                   1      0  53.1000  First        C   \n",
       "4    male  28.0                   0      0   8.4583  Third  unknown   \n",
       "\n",
       "   embark_town alone  \n",
       "0  Southampton     n  \n",
       "1    Cherbourg     n  \n",
       "2  Southampton     y  \n",
       "3  Southampton     n  \n",
       "4   Queenstown     y  "
      ],
      "text/html": [
       "<div>\n",
       "<style scoped>\n",
       "    .dataframe tbody tr th:only-of-type {\n",
       "        vertical-align: middle;\n",
       "    }\n",
       "\n",
       "    .dataframe tbody tr th {\n",
       "        vertical-align: top;\n",
       "    }\n",
       "\n",
       "    .dataframe thead th {\n",
       "        text-align: right;\n",
       "    }\n",
       "</style>\n",
       "<table border=\"1\" class=\"dataframe\">\n",
       "  <thead>\n",
       "    <tr style=\"text-align: right;\">\n",
       "      <th></th>\n",
       "      <th>sex</th>\n",
       "      <th>age</th>\n",
       "      <th>n_siblings_spouses</th>\n",
       "      <th>parch</th>\n",
       "      <th>fare</th>\n",
       "      <th>class</th>\n",
       "      <th>deck</th>\n",
       "      <th>embark_town</th>\n",
       "      <th>alone</th>\n",
       "    </tr>\n",
       "  </thead>\n",
       "  <tbody>\n",
       "    <tr>\n",
       "      <th>0</th>\n",
       "      <td>male</td>\n",
       "      <td>22.0</td>\n",
       "      <td>1</td>\n",
       "      <td>0</td>\n",
       "      <td>7.2500</td>\n",
       "      <td>Third</td>\n",
       "      <td>unknown</td>\n",
       "      <td>Southampton</td>\n",
       "      <td>n</td>\n",
       "    </tr>\n",
       "    <tr>\n",
       "      <th>1</th>\n",
       "      <td>female</td>\n",
       "      <td>38.0</td>\n",
       "      <td>1</td>\n",
       "      <td>0</td>\n",
       "      <td>71.2833</td>\n",
       "      <td>First</td>\n",
       "      <td>C</td>\n",
       "      <td>Cherbourg</td>\n",
       "      <td>n</td>\n",
       "    </tr>\n",
       "    <tr>\n",
       "      <th>2</th>\n",
       "      <td>female</td>\n",
       "      <td>26.0</td>\n",
       "      <td>0</td>\n",
       "      <td>0</td>\n",
       "      <td>7.9250</td>\n",
       "      <td>Third</td>\n",
       "      <td>unknown</td>\n",
       "      <td>Southampton</td>\n",
       "      <td>y</td>\n",
       "    </tr>\n",
       "    <tr>\n",
       "      <th>3</th>\n",
       "      <td>female</td>\n",
       "      <td>35.0</td>\n",
       "      <td>1</td>\n",
       "      <td>0</td>\n",
       "      <td>53.1000</td>\n",
       "      <td>First</td>\n",
       "      <td>C</td>\n",
       "      <td>Southampton</td>\n",
       "      <td>n</td>\n",
       "    </tr>\n",
       "    <tr>\n",
       "      <th>4</th>\n",
       "      <td>male</td>\n",
       "      <td>28.0</td>\n",
       "      <td>0</td>\n",
       "      <td>0</td>\n",
       "      <td>8.4583</td>\n",
       "      <td>Third</td>\n",
       "      <td>unknown</td>\n",
       "      <td>Queenstown</td>\n",
       "      <td>y</td>\n",
       "    </tr>\n",
       "  </tbody>\n",
       "</table>\n",
       "</div>"
      ]
     },
     "execution_count": 65,
     "metadata": {},
     "output_type": "execute_result"
    }
   ],
   "execution_count": 65
  },
  {
   "metadata": {
    "ExecuteTime": {
     "end_time": "2024-08-27T19:06:05.942265Z",
     "start_time": "2024-08-27T19:06:05.938842Z"
    }
   },
   "cell_type": "code",
   "source": [
    "print(dftrain.loc[1],y_train.loc[0])\n",
    "#print(dftrain['parch'])"
   ],
   "id": "d40a523bded1da1b",
   "outputs": [
    {
     "name": "stdout",
     "output_type": "stream",
     "text": [
      "sex                      female\n",
      "age                        38.0\n",
      "n_siblings_spouses            1\n",
      "parch                         0\n",
      "fare                    71.2833\n",
      "class                     First\n",
      "deck                          C\n",
      "embark_town           Cherbourg\n",
      "alone                         n\n",
      "Name: 1, dtype: object 0\n"
     ]
    }
   ],
   "execution_count": 58
  },
  {
   "metadata": {
    "ExecuteTime": {
     "end_time": "2024-08-27T19:03:44.474495Z",
     "start_time": "2024-08-27T19:03:44.459237Z"
    }
   },
   "cell_type": "code",
   "source": "dftrain.describe()",
   "id": "6a0cb3ce560dce81",
   "outputs": [
    {
     "data": {
      "text/plain": [
       "              age  n_siblings_spouses       parch        fare\n",
       "count  627.000000          627.000000  627.000000  627.000000\n",
       "mean    29.631308            0.545455    0.379585   34.385399\n",
       "std     12.511818            1.151090    0.792999   54.597730\n",
       "min      0.750000            0.000000    0.000000    0.000000\n",
       "25%     23.000000            0.000000    0.000000    7.895800\n",
       "50%     28.000000            0.000000    0.000000   15.045800\n",
       "75%     35.000000            1.000000    0.000000   31.387500\n",
       "max     80.000000            8.000000    5.000000  512.329200"
      ],
      "text/html": [
       "<div>\n",
       "<style scoped>\n",
       "    .dataframe tbody tr th:only-of-type {\n",
       "        vertical-align: middle;\n",
       "    }\n",
       "\n",
       "    .dataframe tbody tr th {\n",
       "        vertical-align: top;\n",
       "    }\n",
       "\n",
       "    .dataframe thead th {\n",
       "        text-align: right;\n",
       "    }\n",
       "</style>\n",
       "<table border=\"1\" class=\"dataframe\">\n",
       "  <thead>\n",
       "    <tr style=\"text-align: right;\">\n",
       "      <th></th>\n",
       "      <th>age</th>\n",
       "      <th>n_siblings_spouses</th>\n",
       "      <th>parch</th>\n",
       "      <th>fare</th>\n",
       "    </tr>\n",
       "  </thead>\n",
       "  <tbody>\n",
       "    <tr>\n",
       "      <th>count</th>\n",
       "      <td>627.000000</td>\n",
       "      <td>627.000000</td>\n",
       "      <td>627.000000</td>\n",
       "      <td>627.000000</td>\n",
       "    </tr>\n",
       "    <tr>\n",
       "      <th>mean</th>\n",
       "      <td>29.631308</td>\n",
       "      <td>0.545455</td>\n",
       "      <td>0.379585</td>\n",
       "      <td>34.385399</td>\n",
       "    </tr>\n",
       "    <tr>\n",
       "      <th>std</th>\n",
       "      <td>12.511818</td>\n",
       "      <td>1.151090</td>\n",
       "      <td>0.792999</td>\n",
       "      <td>54.597730</td>\n",
       "    </tr>\n",
       "    <tr>\n",
       "      <th>min</th>\n",
       "      <td>0.750000</td>\n",
       "      <td>0.000000</td>\n",
       "      <td>0.000000</td>\n",
       "      <td>0.000000</td>\n",
       "    </tr>\n",
       "    <tr>\n",
       "      <th>25%</th>\n",
       "      <td>23.000000</td>\n",
       "      <td>0.000000</td>\n",
       "      <td>0.000000</td>\n",
       "      <td>7.895800</td>\n",
       "    </tr>\n",
       "    <tr>\n",
       "      <th>50%</th>\n",
       "      <td>28.000000</td>\n",
       "      <td>0.000000</td>\n",
       "      <td>0.000000</td>\n",
       "      <td>15.045800</td>\n",
       "    </tr>\n",
       "    <tr>\n",
       "      <th>75%</th>\n",
       "      <td>35.000000</td>\n",
       "      <td>1.000000</td>\n",
       "      <td>0.000000</td>\n",
       "      <td>31.387500</td>\n",
       "    </tr>\n",
       "    <tr>\n",
       "      <th>max</th>\n",
       "      <td>80.000000</td>\n",
       "      <td>8.000000</td>\n",
       "      <td>5.000000</td>\n",
       "      <td>512.329200</td>\n",
       "    </tr>\n",
       "  </tbody>\n",
       "</table>\n",
       "</div>"
      ]
     },
     "execution_count": 53,
     "metadata": {},
     "output_type": "execute_result"
    }
   ],
   "execution_count": 53
  },
  {
   "metadata": {
    "ExecuteTime": {
     "end_time": "2024-08-27T19:04:23.386687Z",
     "start_time": "2024-08-27T19:04:23.381587Z"
    }
   },
   "cell_type": "code",
   "source": "dftrain.shape",
   "id": "d429c1bae4ea4540",
   "outputs": [
    {
     "data": {
      "text/plain": [
       "(627, 9)"
      ]
     },
     "execution_count": 54,
     "metadata": {},
     "output_type": "execute_result"
    }
   ],
   "execution_count": 54
  },
  {
   "metadata": {
    "ExecuteTime": {
     "end_time": "2024-08-27T19:04:38.736268Z",
     "start_time": "2024-08-27T19:04:38.729783Z"
    }
   },
   "cell_type": "code",
   "source": "y_train.head()",
   "id": "12600af5b5118abe",
   "outputs": [
    {
     "data": {
      "text/plain": [
       "0    0\n",
       "1    1\n",
       "2    1\n",
       "3    1\n",
       "4    0\n",
       "Name: survived, dtype: int64"
      ]
     },
     "execution_count": 55,
     "metadata": {},
     "output_type": "execute_result"
    }
   ],
   "execution_count": 55
  },
  {
   "metadata": {
    "ExecuteTime": {
     "end_time": "2024-08-27T19:05:05.136874Z",
     "start_time": "2024-08-27T19:05:05.040564Z"
    }
   },
   "cell_type": "code",
   "source": "dftrain.age.hist(bins=20)",
   "id": "87f0ae462f7379d9",
   "outputs": [
    {
     "data": {
      "text/plain": [
       "<Axes: >"
      ]
     },
     "execution_count": 56,
     "metadata": {},
     "output_type": "execute_result"
    },
    {
     "data": {
      "text/plain": [
       "<Figure size 640x480 with 1 Axes>"
      ],
      "image/png": "[encoded data removed]"
     },
     "metadata": {},
     "output_type": "display_data"
    }
   ],
   "execution_count": 56
  },
  {
   "metadata": {
    "ExecuteTime": {
     "end_time": "2024-08-27T19:05:19.059469Z",
     "start_time": "2024-08-27T19:05:19.052576Z"
    }
   },
   "cell_type": "code",
   "source": "dftrain['age']",
   "id": "95f1326b0e16ee6d",
   "outputs": [
    {
     "data": {
      "text/plain": [
       "0      22.0\n",
       "1      38.0\n",
       "2      26.0\n",
       "3      35.0\n",
       "4      28.0\n",
       "       ... \n",
       "622    28.0\n",
       "623    25.0\n",
       "624    19.0\n",
       "625    28.0\n",
       "626    32.0\n",
       "Name: age, Length: 627, dtype: float64"
      ]
     },
     "execution_count": 57,
     "metadata": {},
     "output_type": "execute_result"
    }
   ],
   "execution_count": 57
  },
  {
   "metadata": {
    "ExecuteTime": {
     "end_time": "2024-08-27T19:11:54.260431Z",
     "start_time": "2024-08-27T19:11:54.177209Z"
    }
   },
   "cell_type": "code",
   "source": "dftrain.sex.value_counts().plot(kind='barh')",
   "id": "9de29f678ea70997",
   "outputs": [
    {
     "data": {
      "text/plain": [
       "<Axes: ylabel='sex'>"
      ]
     },
     "execution_count": 60,
     "metadata": {},
     "output_type": "execute_result"
    },
    {
     "data": {
      "text/plain": [
       "<Figure size 640x480 with 1 Axes>"
      ],
      "image/png": "[encoded data removed]"
     },
     "metadata": {},
     "output_type": "display_data"
    }
   ],
   "execution_count": 60
  },
  {
   "metadata": {
    "ExecuteTime": {
     "end_time": "2024-08-27T19:12:56.104573Z",
     "start_time": "2024-08-27T19:12:56.030570Z"
    }
   },
   "cell_type": "code",
   "source": "dftrain['class'].value_counts().plot(kind='barh')",
   "id": "1b6bc5abe2a170b3",
   "outputs": [
    {
     "data": {
      "text/plain": [
       "<Axes: ylabel='class'>"
      ]
     },
     "execution_count": 61,
     "metadata": {},
     "output_type": "execute_result"
    },
    {
     "data": {
      "text/plain": [
       "<Figure size 640x480 with 1 Axes>"
      ],
      "image/png": "[encoded data removed]"
     },
     "metadata": {},
     "output_type": "display_data"
    }
   ],
   "execution_count": 61
  },
  {
   "metadata": {
    "ExecuteTime": {
     "end_time": "2024-08-27T19:15:06.081484Z",
     "start_time": "2024-08-27T19:15:06.017194Z"
    }
   },
   "cell_type": "code",
   "source": "pd.concat([dftrain,y_train],axis = 1).groupby('sex').survived.mean().plot(kind='barh').set_xlabel('% survive')",
   "id": "8383212a0801e15f",
   "outputs": [
    {
     "data": {
      "text/plain": [
       "Text(0.5, 0, '%survive')"
      ]
     },
     "execution_count": 62,
     "metadata": {},
     "output_type": "execute_result"
    },
    {
     "data": {
      "text/plain": [
       "<Figure size 640x480 with 1 Axes>"
      ],
      "image/png": "[encoded data removed]"
     },
     "metadata": {},
     "output_type": "display_data"
    }
   ],
   "execution_count": 62
  },
  {
   "metadata": {
    "ExecuteTime": {
     "end_time": "2024-08-27T19:21:46.244449Z",
     "start_time": "2024-08-27T19:21:46.240151Z"
    }
   },
   "cell_type": "code",
   "source": "dfeval.shape",
   "id": "306ef236b58fa997",
   "outputs": [
    {
     "data": {
      "text/plain": [
       "(264, 9)"
      ]
     },
     "execution_count": 67,
     "metadata": {},
     "output_type": "execute_result"
    }
   ],
   "execution_count": 67
  },
  {
   "metadata": {
    "ExecuteTime": {
     "end_time": "2024-08-28T05:12:10.910026Z",
     "start_time": "2024-08-28T05:12:10.898390Z"
    }
   },
   "cell_type": "code",
   "source": [
    " categorical_columns = ['sex','n_siblings_spouses','parch','class','deck','embark_town','alone']\n",
    " numeric_columns = ['age','fare']\n",
    " feature_column =[]\n",
    " for feature_name in categorical_columns:\n",
    "     vocabulary = dftrain[feature_name].unique()\n",
    "     print(vocabulary)\n",
    "     feature_column.append(tf.feature_column.categorical_column_with_vocabulary_list(feature_name,vocabulary))\n",
    "\n",
    "     \n",
    "#print(feature_column.shape)"
   ],
   "id": "61165e7cfd01dd14",
   "outputs": [
    {
     "name": "stdout",
     "output_type": "stream",
     "text": [
      "['male' 'female']\n",
      "WARNING:tensorflow:From /tmp/ipykernel_6243/1875717341.py:7: categorical_column_with_vocabulary_list (from tensorflow.python.feature_column.feature_column_v2) is deprecated and will be removed in a future version.\n",
      "Instructions for updating:\n",
      "Use Keras preprocessing layers instead, either directly or via the `tf.keras.utils.FeatureSpace` utility. Each of `tf.feature_column.*` has a functional equivalent in `tf.keras.layers` for feature preprocessing when training a Keras model.\n",
      "[1 0 3 4 2 5 8]\n",
      "[0 1 2 5 3 4]\n",
      "['Third' 'First' 'Second']\n",
      "['unknown' 'C' 'G' 'A' 'B' 'D' 'F' 'E']\n",
      "['Southampton' 'Cherbourg' 'Queenstown' 'unknown']\n",
      "['n' 'y']\n"
     ]
    }
   ],
   "execution_count": 5
  },
  {
   "metadata": {
    "ExecuteTime": {
     "end_time": "2024-08-28T05:12:12.320939Z",
     "start_time": "2024-08-28T05:12:12.312939Z"
    }
   },
   "cell_type": "code",
   "source": [
    "for feature_name in numeric_columns:\n",
    "    feature_column.append(tf.feature_column.numeric_column(feature_name,dtype=tf.float32))\n",
    "print(feature_column)"
   ],
   "id": "caf41ecde2aea0d6",
   "outputs": [
    {
     "name": "stdout",
     "output_type": "stream",
     "text": [
      "WARNING:tensorflow:From /tmp/ipykernel_6243/1255577271.py:2: numeric_column (from tensorflow.python.feature_column.feature_column_v2) is deprecated and will be removed in a future version.\n",
      "Instructions for updating:\n",
      "Use Keras preprocessing layers instead, either directly or via the `tf.keras.utils.FeatureSpace` utility. Each of `tf.feature_column.*` has a functional equivalent in `tf.keras.layers` for feature preprocessing when training a Keras model.\n",
      "[VocabularyListCategoricalColumn(key='sex', vocabulary_list=('male', 'female'), dtype=tf.string, default_value=-1, num_oov_buckets=0), VocabularyListCategoricalColumn(key='n_siblings_spouses', vocabulary_list=(1, 0, 3, 4, 2, 5, 8), dtype=tf.int64, default_value=-1, num_oov_buckets=0), VocabularyListCategoricalColumn(key='parch', vocabulary_list=(0, 1, 2, 5, 3, 4), dtype=tf.int64, default_value=-1, num_oov_buckets=0), VocabularyListCategoricalColumn(key='class', vocabulary_list=('Third', 'First', 'Second'), dtype=tf.string, default_value=-1, num_oov_buckets=0), VocabularyListCategoricalColumn(key='deck', vocabulary_list=('unknown', 'C', 'G', 'A', 'B', 'D', 'F', 'E'), dtype=tf.string, default_value=-1, num_oov_buckets=0), VocabularyListCategoricalColumn(key='embark_town', vocabulary_list=('Southampton', 'Cherbourg', 'Queenstown', 'unknown'), dtype=tf.string, default_value=-1, num_oov_buckets=0), VocabularyListCategoricalColumn(key='alone', vocabulary_list=('n', 'y'), dtype=tf.string, default_value=-1, num_oov_buckets=0), NumericColumn(key='age', shape=(1,), default_value=None, dtype=tf.float32, normalizer_fn=None), NumericColumn(key='fare', shape=(1,), default_value=None, dtype=tf.float32, normalizer_fn=None)]\n"
     ]
    }
   ],
   "execution_count": 6
  },
  {
   "metadata": {
    "ExecuteTime": {
     "end_time": "2024-08-28T05:12:14.432630Z",
     "start_time": "2024-08-28T05:12:14.426275Z"
    }
   },
   "cell_type": "code",
   "source": [
    "def make_input_fn(data_df, label_df, num_epochs=10, shuffle=True, batch_size=32):\n",
    "  def input_function():  # inner function, this will be returned\n",
    "    ds = tf.data.Dataset.from_tensor_slices((dict(data_df), label_df))  # create tf.data.Dataset object with data and its label\n",
    "    if shuffle:\n",
    "      ds = ds.shuffle(1000)  # randomize order of data\n",
    "    ds = ds.batch(batch_size).repeat(num_epochs)  # split dataset into batches of 32 and repeat process for number of epochs\n",
    "    return ds  # return a batch of the dataset\n",
    "  return input_function  # return a function object for use\n",
    "\n",
    "train_input_fn = make_input_fn(dftrain, y_train)  # here we will call the input_function that was returned to us to get a dataset object we can feed to the model\n",
    "eval_input_fn = make_input_fn(dfeval, y_eval, num_epochs=1, shuffle=False)"
   ],
   "id": "72f81b589cfee45a",
   "outputs": [],
   "execution_count": 7
  },
  {
   "metadata": {
    "ExecuteTime": {
     "end_time": "2024-08-28T05:49:20.689426Z",
     "start_time": "2024-08-28T05:49:20.660134Z"
    }
   },
   "cell_type": "code",
   "source": "linear_est = tf.estimator.LinearClassifier(feature_columns=feature_column)",
   "id": "60f829016b368ee9",
   "outputs": [
    {
     "ename": "AttributeError",
     "evalue": "module 'tensorflow' has no attribute 'estimator'",
     "output_type": "error",
     "traceback": [
      "\u001B[0;31m---------------------------------------------------------------------------\u001B[0m",
      "\u001B[0;31mAttributeError\u001B[0m                            Traceback (most recent call last)",
      "Cell \u001B[0;32mIn[21], line 1\u001B[0m\n\u001B[0;32m----> 1\u001B[0m linear_est \u001B[38;5;241m=\u001B[39m tf\u001B[38;5;241m.\u001B[39mestimator\u001B[38;5;241m.\u001B[39mLinearClassifier(feature_columns\u001B[38;5;241m=\u001B[39mfeature_column)\n",
      "\u001B[0;31mAttributeError\u001B[0m: module 'tensorflow' has no attribute 'estimator'"
     ]
    }
   ],
   "execution_count": 21
  },
  {
   "metadata": {
    "ExecuteTime": {
     "end_time": "2024-08-28T05:41:31.465248Z",
     "start_time": "2024-08-28T05:41:31.460514Z"
    }
   },
   "cell_type": "code",
   "source": " print(tf.__version__)",
   "id": "c17c6bd005a36320",
   "outputs": [
    {
     "name": "stdout",
     "output_type": "stream",
     "text": [
      "2.17.0\n"
     ]
    }
   ],
   "execution_count": 15
  },
  {
   "metadata": {
    "ExecuteTime": {
     "end_time": "2024-08-28T05:46:57.515581Z",
     "start_time": "2024-08-28T05:46:55.804227Z"
    }
   },
   "cell_type": "code",
   "source": "print(tf.config.list_physical_devices('GPU'))",
   "id": "4554c02db85e14c0",
   "outputs": [
    {
     "name": "stdout",
     "output_type": "stream",
     "text": [
      "[PhysicalDevice(name='/physical_device:GPU:0', device_type='GPU')]\n"
     ]
    },
    {
     "name": "stderr",
     "output_type": "stream",
     "text": [
      "WARNING: All log messages before absl::InitializeLog() is called are written to STDERR\n",
      "I0000 00:00:1724824017.393837    6243 cuda_executor.cc:1015] successful NUMA node read from SysFS had negative value (-1), but there must be at least one NUMA node, so returning NUMA node zero. See more at https://github.com/torvalds/linux/blob/v6.0/Documentation/ABI/testing/sysfs-bus-pci#L344-L355\n",
      "I0000 00:00:1724824017.509458    6243 cuda_executor.cc:1015] successful NUMA node read from SysFS had negative value (-1), but there must be at least one NUMA node, so returning NUMA node zero. See more at https://github.com/torvalds/linux/blob/v6.0/Documentation/ABI/testing/sysfs-bus-pci#L344-L355\n",
      "I0000 00:00:1724824017.509912    6243 cuda_executor.cc:1015] successful NUMA node read from SysFS had negative value (-1), but there must be at least one NUMA node, so returning NUMA node zero. See more at https://github.com/torvalds/linux/blob/v6.0/Documentation/ABI/testing/sysfs-bus-pci#L344-L355\n"
     ]
    }
   ],
   "execution_count": 20
  },
  {
   "metadata": {
    "ExecuteTime": {
     "end_time": "2024-08-28T06:01:27.969937Z",
     "start_time": "2024-08-28T06:01:27.906688Z"
    }
   },
   "cell_type": "code",
   "source": [
    "model = tf.keras.Sequential([\n",
    "    tf.keras.layers.Dense(1, activation='sigmoid', input_shape=(len(feature_column),))\n",
    "])\n",
    "model.compile(optimizer='adam', loss='binary_crossentropy', metrics=['accuracy'])\n",
    "\n",
    "# Train and evaluate using Keras methods\n",
    "\n",
    "model.fit(train_input_fn, y_train, epochs=10)"
   ],
   "id": "c4556f19aa4cb439",
   "outputs": [
    {
     "name": "stderr",
     "output_type": "stream",
     "text": [
      "/home/sajid/miniconda3/envs/myenvi/lib/python3.12/site-packages/keras/src/layers/core/dense.py:87: UserWarning: Do not pass an `input_shape`/`input_dim` argument to a layer. When using Sequential models, prefer using an `Input(shape)` object as the first layer in the model instead.\n",
      "  super().__init__(activity_regularizer=activity_regularizer, **kwargs)\n"
     ]
    },
    {
     "ename": "ValueError",
     "evalue": "Unrecognized data type: x=<function make_input_fn.<locals>.input_function at 0x72255974eb60> (of type <class 'function'>)",
     "output_type": "error",
     "traceback": [
      "\u001B[0;31m---------------------------------------------------------------------------\u001B[0m",
      "\u001B[0;31mValueError\u001B[0m                                Traceback (most recent call last)",
      "Cell \u001B[0;32mIn[26], line 8\u001B[0m\n\u001B[1;32m      4\u001B[0m model\u001B[38;5;241m.\u001B[39mcompile(optimizer\u001B[38;5;241m=\u001B[39m\u001B[38;5;124m'\u001B[39m\u001B[38;5;124madam\u001B[39m\u001B[38;5;124m'\u001B[39m, loss\u001B[38;5;241m=\u001B[39m\u001B[38;5;124m'\u001B[39m\u001B[38;5;124mbinary_crossentropy\u001B[39m\u001B[38;5;124m'\u001B[39m, metrics\u001B[38;5;241m=\u001B[39m[\u001B[38;5;124m'\u001B[39m\u001B[38;5;124maccuracy\u001B[39m\u001B[38;5;124m'\u001B[39m])\n\u001B[1;32m      6\u001B[0m \u001B[38;5;66;03m# Train and evaluate using Keras methods\u001B[39;00m\n\u001B[0;32m----> 8\u001B[0m model\u001B[38;5;241m.\u001B[39mfit(train_input_fn, y_train, epochs\u001B[38;5;241m=\u001B[39m\u001B[38;5;241m10\u001B[39m)\n",
      "File \u001B[0;32m~/miniconda3/envs/myenvi/lib/python3.12/site-packages/keras/src/utils/traceback_utils.py:122\u001B[0m, in \u001B[0;36mfilter_traceback.<locals>.error_handler\u001B[0;34m(*args, **kwargs)\u001B[0m\n\u001B[1;32m    119\u001B[0m     filtered_tb \u001B[38;5;241m=\u001B[39m _process_traceback_frames(e\u001B[38;5;241m.\u001B[39m__traceback__)\n\u001B[1;32m    120\u001B[0m     \u001B[38;5;66;03m# To get the full stack trace, call:\u001B[39;00m\n\u001B[1;32m    121\u001B[0m     \u001B[38;5;66;03m# `keras.config.disable_traceback_filtering()`\u001B[39;00m\n\u001B[0;32m--> 122\u001B[0m     \u001B[38;5;28;01mraise\u001B[39;00m e\u001B[38;5;241m.\u001B[39mwith_traceback(filtered_tb) \u001B[38;5;28;01mfrom\u001B[39;00m \u001B[38;5;28;01mNone\u001B[39;00m\n\u001B[1;32m    123\u001B[0m \u001B[38;5;28;01mfinally\u001B[39;00m:\n\u001B[1;32m    124\u001B[0m     \u001B[38;5;28;01mdel\u001B[39;00m filtered_tb\n",
      "File \u001B[0;32m~/miniconda3/envs/myenvi/lib/python3.12/site-packages/keras/src/trainers/data_adapters/__init__.py:120\u001B[0m, in \u001B[0;36mget_data_adapter\u001B[0;34m(x, y, sample_weight, batch_size, steps_per_epoch, shuffle, class_weight)\u001B[0m\n\u001B[1;32m    112\u001B[0m     \u001B[38;5;28;01mreturn\u001B[39;00m GeneratorDataAdapter(x)\n\u001B[1;32m    113\u001B[0m     \u001B[38;5;66;03m# TODO: should we warn or not?\u001B[39;00m\n\u001B[1;32m    114\u001B[0m     \u001B[38;5;66;03m# warnings.warn(\u001B[39;00m\n\u001B[1;32m    115\u001B[0m     \u001B[38;5;66;03m#     \"`shuffle=True` was passed, but will be ignored since the \"\u001B[39;00m\n\u001B[0;32m   (...)\u001B[0m\n\u001B[1;32m    118\u001B[0m     \u001B[38;5;66;03m# )\u001B[39;00m\n\u001B[1;32m    119\u001B[0m \u001B[38;5;28;01melse\u001B[39;00m:\n\u001B[0;32m--> 120\u001B[0m     \u001B[38;5;28;01mraise\u001B[39;00m \u001B[38;5;167;01mValueError\u001B[39;00m(\u001B[38;5;124mf\u001B[39m\u001B[38;5;124m\"\u001B[39m\u001B[38;5;124mUnrecognized data type: x=\u001B[39m\u001B[38;5;132;01m{\u001B[39;00mx\u001B[38;5;132;01m}\u001B[39;00m\u001B[38;5;124m (of type \u001B[39m\u001B[38;5;132;01m{\u001B[39;00m\u001B[38;5;28mtype\u001B[39m(x)\u001B[38;5;132;01m}\u001B[39;00m\u001B[38;5;124m)\u001B[39m\u001B[38;5;124m\"\u001B[39m)\n",
      "\u001B[0;31mValueError\u001B[0m: Unrecognized data type: x=<function make_input_fn.<locals>.input_function at 0x72255974eb60> (of type <class 'function'>)"
     ]
    }
   ],
   "execution_count": 26
  },
  {
   "metadata": {
    "ExecuteTime": {
     "end_time": "2024-08-28T06:10:05.627700Z",
     "start_time": "2024-08-28T06:10:05.623551Z"
    }
   },
   "cell_type": "code",
   "source": [
    "import tensorflow as tf\n",
    "\n",
    "import pandas as pd"
   ],
   "id": "9a060367d3654a6b",
   "outputs": [],
   "execution_count": 27
  },
  {
   "metadata": {
    "ExecuteTime": {
     "end_time": "2024-08-28T06:12:45.574027Z",
     "start_time": "2024-08-28T06:12:45.571468Z"
    }
   },
   "cell_type": "code",
   "source": [
    "csv_column_name = ['SepalLength','SepalWidth','PetalLength','PetalWidth','Species']\n",
    "species = ['Setosa','Versicolor','Virginica']"
   ],
   "id": "209b3a40512cc93f",
   "outputs": [],
   "execution_count": 28
  },
  {
   "metadata": {
    "ExecuteTime": {
     "end_time": "2024-08-28T06:18:39.761594Z",
     "start_time": "2024-08-28T06:18:38.750287Z"
    }
   },
   "cell_type": "code",
   "source": [
    "train_path = tf.keras.utils.get_file(\"iris_training.csv\", \"https://storage.googleapis.com/download.tensorflow.org/data/iris_training.csv\")\n",
    "test_path = tf.keras.utils.get_file(\"iris_test.csv\", \"https://storage.googleapis.com/download.tensorflow.org/data/iris_test.csv\")\n",
    "train = pd.read_csv(train_path,names = csv_column_name,header=0)\n",
    "test = pd.read_csv(test_path , names = csv_column_name , header=0)"
   ],
   "id": "3dd440928246ff03",
   "outputs": [
    {
     "name": "stdout",
     "output_type": "stream",
     "text": [
      "Downloading data from https://storage.googleapis.com/download.tensorflow.org/data/iris_training.csv\n",
      "\u001B[1m2194/2194\u001B[0m \u001B[32m━━━━━━━━━━━━━━━━━━━━\u001B[0m\u001B[37m\u001B[0m \u001B[1m0s\u001B[0m 0us/step\n",
      "Downloading data from https://storage.googleapis.com/download.tensorflow.org/data/iris_test.csv\n",
      "\u001B[1m573/573\u001B[0m \u001B[32m━━━━━━━━━━━━━━━━━━━━\u001B[0m\u001B[37m\u001B[0m \u001B[1m0s\u001B[0m 1us/step\n"
     ]
    }
   ],
   "execution_count": 29
  },
  {
   "metadata": {
    "ExecuteTime": {
     "end_time": "2024-08-28T06:18:58.520671Z",
     "start_time": "2024-08-28T06:18:58.511999Z"
    }
   },
   "cell_type": "code",
   "source": "train.head()",
   "id": "5d1bb99e68c96480",
   "outputs": [
    {
     "data": {
      "text/plain": [
       "   SepalLength  SepalWidth  PetalLength  PetalWidth  Species\n",
       "0          6.4         2.8          5.6         2.2        2\n",
       "1          5.0         2.3          3.3         1.0        1\n",
       "2          4.9         2.5          4.5         1.7        2\n",
       "3          4.9         3.1          1.5         0.1        0\n",
       "4          5.7         3.8          1.7         0.3        0"
      ],
      "text/html": [
       "<div>\n",
       "<style scoped>\n",
       "    .dataframe tbody tr th:only-of-type {\n",
       "        vertical-align: middle;\n",
       "    }\n",
       "\n",
       "    .dataframe tbody tr th {\n",
       "        vertical-align: top;\n",
       "    }\n",
       "\n",
       "    .dataframe thead th {\n",
       "        text-align: right;\n",
       "    }\n",
       "</style>\n",
       "<table border=\"1\" class=\"dataframe\">\n",
       "  <thead>\n",
       "    <tr style=\"text-align: right;\">\n",
       "      <th></th>\n",
       "      <th>SepalLength</th>\n",
       "      <th>SepalWidth</th>\n",
       "      <th>PetalLength</th>\n",
       "      <th>PetalWidth</th>\n",
       "      <th>Species</th>\n",
       "    </tr>\n",
       "  </thead>\n",
       "  <tbody>\n",
       "    <tr>\n",
       "      <th>0</th>\n",
       "      <td>6.4</td>\n",
       "      <td>2.8</td>\n",
       "      <td>5.6</td>\n",
       "      <td>2.2</td>\n",
       "      <td>2</td>\n",
       "    </tr>\n",
       "    <tr>\n",
       "      <th>1</th>\n",
       "      <td>5.0</td>\n",
       "      <td>2.3</td>\n",
       "      <td>3.3</td>\n",
       "      <td>1.0</td>\n",
       "      <td>1</td>\n",
       "    </tr>\n",
       "    <tr>\n",
       "      <th>2</th>\n",
       "      <td>4.9</td>\n",
       "      <td>2.5</td>\n",
       "      <td>4.5</td>\n",
       "      <td>1.7</td>\n",
       "      <td>2</td>\n",
       "    </tr>\n",
       "    <tr>\n",
       "      <th>3</th>\n",
       "      <td>4.9</td>\n",
       "      <td>3.1</td>\n",
       "      <td>1.5</td>\n",
       "      <td>0.1</td>\n",
       "      <td>0</td>\n",
       "    </tr>\n",
       "    <tr>\n",
       "      <th>4</th>\n",
       "      <td>5.7</td>\n",
       "      <td>3.8</td>\n",
       "      <td>1.7</td>\n",
       "      <td>0.3</td>\n",
       "      <td>0</td>\n",
       "    </tr>\n",
       "  </tbody>\n",
       "</table>\n",
       "</div>"
      ]
     },
     "execution_count": 30,
     "metadata": {},
     "output_type": "execute_result"
    }
   ],
   "execution_count": 30
  },
  {
   "metadata": {
    "ExecuteTime": {
     "end_time": "2024-08-28T06:19:56.921920Z",
     "start_time": "2024-08-28T06:19:56.917450Z"
    }
   },
   "cell_type": "code",
   "source": [
    "train_y = train.pop('Species')\n",
    "test_y = test.pop('Species')"
   ],
   "id": "6f9d5b7d74ce1da7",
   "outputs": [],
   "execution_count": 31
  },
  {
   "metadata": {
    "ExecuteTime": {
     "end_time": "2024-08-28T06:20:04.964924Z",
     "start_time": "2024-08-28T06:20:04.953531Z"
    }
   },
   "cell_type": "code",
   "source": "train.head()",
   "id": "9bbc0c1693952452",
   "outputs": [
    {
     "data": {
      "text/plain": [
       "   SepalLength  SepalWidth  PetalLength  PetalWidth\n",
       "0          6.4         2.8          5.6         2.2\n",
       "1          5.0         2.3          3.3         1.0\n",
       "2          4.9         2.5          4.5         1.7\n",
       "3          4.9         3.1          1.5         0.1\n",
       "4          5.7         3.8          1.7         0.3"
      ],
      "text/html": [
       "<div>\n",
       "<style scoped>\n",
       "    .dataframe tbody tr th:only-of-type {\n",
       "        vertical-align: middle;\n",
       "    }\n",
       "\n",
       "    .dataframe tbody tr th {\n",
       "        vertical-align: top;\n",
       "    }\n",
       "\n",
       "    .dataframe thead th {\n",
       "        text-align: right;\n",
       "    }\n",
       "</style>\n",
       "<table border=\"1\" class=\"dataframe\">\n",
       "  <thead>\n",
       "    <tr style=\"text-align: right;\">\n",
       "      <th></th>\n",
       "      <th>SepalLength</th>\n",
       "      <th>SepalWidth</th>\n",
       "      <th>PetalLength</th>\n",
       "      <th>PetalWidth</th>\n",
       "    </tr>\n",
       "  </thead>\n",
       "  <tbody>\n",
       "    <tr>\n",
       "      <th>0</th>\n",
       "      <td>6.4</td>\n",
       "      <td>2.8</td>\n",
       "      <td>5.6</td>\n",
       "      <td>2.2</td>\n",
       "    </tr>\n",
       "    <tr>\n",
       "      <th>1</th>\n",
       "      <td>5.0</td>\n",
       "      <td>2.3</td>\n",
       "      <td>3.3</td>\n",
       "      <td>1.0</td>\n",
       "    </tr>\n",
       "    <tr>\n",
       "      <th>2</th>\n",
       "      <td>4.9</td>\n",
       "      <td>2.5</td>\n",
       "      <td>4.5</td>\n",
       "      <td>1.7</td>\n",
       "    </tr>\n",
       "    <tr>\n",
       "      <th>3</th>\n",
       "      <td>4.9</td>\n",
       "      <td>3.1</td>\n",
       "      <td>1.5</td>\n",
       "      <td>0.1</td>\n",
       "    </tr>\n",
       "    <tr>\n",
       "      <th>4</th>\n",
       "      <td>5.7</td>\n",
       "      <td>3.8</td>\n",
       "      <td>1.7</td>\n",
       "      <td>0.3</td>\n",
       "    </tr>\n",
       "  </tbody>\n",
       "</table>\n",
       "</div>"
      ]
     },
     "execution_count": 32,
     "metadata": {},
     "output_type": "execute_result"
    }
   ],
   "execution_count": 32
  },
  {
   "metadata": {
    "ExecuteTime": {
     "end_time": "2024-08-28T06:34:46.230844Z",
     "start_time": "2024-08-28T06:34:46.224518Z"
    }
   },
   "cell_type": "code",
   "source": [
    "print(train.shape)\n",
    "def input_fn(features,labels,training=True,batch_size=256):\n",
    "    dataset = tf.data.Dataset.from_tensor_slices((dict(features),labels))\n",
    "    if training:\n",
    "        dataset = dataset.shuffle(1000).repeat()\n",
    "    return dataset.batch(batch_size)"
   ],
   "id": "7ed6b9e460e08573",
   "outputs": [
    {
     "name": "stdout",
     "output_type": "stream",
     "text": [
      "(120, 4)\n"
     ]
    }
   ],
   "execution_count": 37
  },
  {
   "metadata": {
    "ExecuteTime": {
     "end_time": "2024-08-28T06:34:38.870064Z",
     "start_time": "2024-08-28T06:34:38.862329Z"
    }
   },
   "cell_type": "code",
   "source": [
    "\"\"\"import tensorflow as tf\n",
    "\n",
    "# Convert features dictionary to a TensorFlow-compatible format\n",
    "features_dict = dict(features)  # already a dictionary\n",
    "\n",
    "# Convert lists to TensorFlow tensors\n",
    "features_dict = {key: tf.convert_to_tensor(value) for key, value in features_dict.items()}\n",
    "labels = tf.convert_to_tensor(labels)\n",
    "\n",
    "# Create the dataset\n",
    "dataset = tf.data.Dataset.from_tensor_slices((features_dict, labels))\n",
    "\"\"\""
   ],
   "id": "f5f21e6502e9521e",
   "outputs": [
    {
     "data": {
      "text/plain": [
       "'import tensorflow as tf\\n\\n# Convert features dictionary to a TensorFlow-compatible format\\nfeatures_dict = dict(features)  # already a dictionary\\n\\n# Convert lists to TensorFlow tensors\\nfeatures_dict = {key: tf.convert_to_tensor(value) for key, value in features_dict.items()}\\nlabels = tf.convert_to_tensor(labels)\\n\\n# Create the dataset\\ndataset = tf.data.Dataset.from_tensor_slices((features_dict, labels))\\n'"
      ]
     },
     "execution_count": 36,
     "metadata": {},
     "output_type": "execute_result"
    }
   ],
   "execution_count": 36
  },
  {
   "metadata": {
    "ExecuteTime": {
     "end_time": "2024-08-28T06:42:17.936460Z",
     "start_time": "2024-08-28T06:42:17.930900Z"
    }
   },
   "cell_type": "code",
   "source": [
    "my_feature_column = []\n",
    "for key in train.keys():\n",
    "    my_feature_column.append(tf.feature_column.numeric_column(key=key))\n",
    "print(my_feature_column)"
   ],
   "id": "d84593a90d507f10",
   "outputs": [
    {
     "name": "stdout",
     "output_type": "stream",
     "text": [
      "[NumericColumn(key='SepalLength', shape=(1,), default_value=None, dtype=tf.float32, normalizer_fn=None), NumericColumn(key='SepalWidth', shape=(1,), default_value=None, dtype=tf.float32, normalizer_fn=None), NumericColumn(key='PetalLength', shape=(1,), default_value=None, dtype=tf.float32, normalizer_fn=None), NumericColumn(key='PetalWidth', shape=(1,), default_value=None, dtype=tf.float32, normalizer_fn=None)]\n"
     ]
    }
   ],
   "execution_count": 38
  },
  {
   "metadata": {
    "ExecuteTime": {
     "end_time": "2024-08-28T07:07:00.412651Z",
     "start_time": "2024-08-28T07:07:00.400169Z"
    }
   },
   "cell_type": "code",
   "source": [
    "# Build a DNN with 2 hidden layers with 30 and 10 hidden nodes each.\n",
    "classifier = tf.estimator.DNNClassifier(\n",
    "    feature_columns=my_feature_column,\n",
    "    # Two hidden layers of 30 and 10 nodes respectively.\n",
    "    hidden_units=[30, 10],\n",
    "    # The model must choose between 3 classes.\n",
    "    n_classes=3)"
   ],
   "id": "5a9933fd1d3e2d7e",
   "outputs": [
    {
     "ename": "AttributeError",
     "evalue": "module 'tensorflow' has no attribute 'estimator'",
     "output_type": "error",
     "traceback": [
      "\u001B[0;31m---------------------------------------------------------------------------\u001B[0m",
      "\u001B[0;31mAttributeError\u001B[0m                            Traceback (most recent call last)",
      "Cell \u001B[0;32mIn[42], line 2\u001B[0m\n\u001B[1;32m      1\u001B[0m \u001B[38;5;66;03m# Build a DNN with 2 hidden layers with 30 and 10 hidden nodes each.\u001B[39;00m\n\u001B[0;32m----> 2\u001B[0m classifier \u001B[38;5;241m=\u001B[39m tf\u001B[38;5;241m.\u001B[39mestimator\u001B[38;5;241m.\u001B[39mDNNClassifier(\n\u001B[1;32m      3\u001B[0m     feature_columns\u001B[38;5;241m=\u001B[39mmy_feature_column,\n\u001B[1;32m      4\u001B[0m     \u001B[38;5;66;03m# Two hidden layers of 30 and 10 nodes respectively.\u001B[39;00m\n\u001B[1;32m      5\u001B[0m     hidden_units\u001B[38;5;241m=\u001B[39m[\u001B[38;5;241m30\u001B[39m, \u001B[38;5;241m10\u001B[39m],\n\u001B[1;32m      6\u001B[0m     \u001B[38;5;66;03m# The model must choose between 3 classes.\u001B[39;00m\n\u001B[1;32m      7\u001B[0m     n_classes\u001B[38;5;241m=\u001B[39m\u001B[38;5;241m3\u001B[39m)\n",
      "\u001B[0;31mAttributeError\u001B[0m: module 'tensorflow' has no attribute 'estimator'"
     ]
    }
   ],
   "execution_count": 42
  },
  {
   "metadata": {
    "ExecuteTime": {
     "end_time": "2024-08-28T08:17:32.141349Z",
     "start_time": "2024-08-28T08:16:54.376960Z"
    }
   },
   "cell_type": "code",
   "source": [
    "features = ['SepalLength','SepalWidth','PetalLength','PetalWidth']\n",
    "for feature in features:\n",
    "    valid = True\n",
    "    while valid:\n",
    "        val = input(feature+' :')\n",
    "        if not val.isdigit(): valid = False\n"
   ],
   "id": "790c1cda1f8f0f92",
   "outputs": [
    {
     "ename": "KeyboardInterrupt",
     "evalue": "Interrupted by user",
     "output_type": "error",
     "traceback": [
      "\u001B[0;31m---------------------------------------------------------------------------\u001B[0m",
      "\u001B[0;31mKeyboardInterrupt\u001B[0m                         Traceback (most recent call last)",
      "Cell \u001B[0;32mIn[44], line 5\u001B[0m\n\u001B[1;32m      3\u001B[0m valid \u001B[38;5;241m=\u001B[39m \u001B[38;5;28;01mTrue\u001B[39;00m\n\u001B[1;32m      4\u001B[0m \u001B[38;5;28;01mwhile\u001B[39;00m valid:\n\u001B[0;32m----> 5\u001B[0m     val \u001B[38;5;241m=\u001B[39m \u001B[38;5;28minput\u001B[39m(feature\u001B[38;5;241m+\u001B[39m\u001B[38;5;124m'\u001B[39m\u001B[38;5;124m :\u001B[39m\u001B[38;5;124m'\u001B[39m)\n\u001B[1;32m      6\u001B[0m     \u001B[38;5;28;01mif\u001B[39;00m \u001B[38;5;129;01mnot\u001B[39;00m val\u001B[38;5;241m.\u001B[39misdigit(): valid \u001B[38;5;241m=\u001B[39m \u001B[38;5;28;01mFalse\u001B[39;00m\n",
      "File \u001B[0;32m~/miniconda3/envs/myenvi/lib/python3.12/site-packages/ipykernel/kernelbase.py:1262\u001B[0m, in \u001B[0;36mKernel.raw_input\u001B[0;34m(self, prompt)\u001B[0m\n\u001B[1;32m   1260\u001B[0m     msg \u001B[38;5;241m=\u001B[39m \u001B[38;5;124m\"\u001B[39m\u001B[38;5;124mraw_input was called, but this frontend does not support input requests.\u001B[39m\u001B[38;5;124m\"\u001B[39m\n\u001B[1;32m   1261\u001B[0m     \u001B[38;5;28;01mraise\u001B[39;00m StdinNotImplementedError(msg)\n\u001B[0;32m-> 1262\u001B[0m \u001B[38;5;28;01mreturn\u001B[39;00m \u001B[38;5;28mself\u001B[39m\u001B[38;5;241m.\u001B[39m_input_request(\n\u001B[1;32m   1263\u001B[0m     \u001B[38;5;28mstr\u001B[39m(prompt),\n\u001B[1;32m   1264\u001B[0m     \u001B[38;5;28mself\u001B[39m\u001B[38;5;241m.\u001B[39m_parent_ident[\u001B[38;5;124m\"\u001B[39m\u001B[38;5;124mshell\u001B[39m\u001B[38;5;124m\"\u001B[39m],\n\u001B[1;32m   1265\u001B[0m     \u001B[38;5;28mself\u001B[39m\u001B[38;5;241m.\u001B[39mget_parent(\u001B[38;5;124m\"\u001B[39m\u001B[38;5;124mshell\u001B[39m\u001B[38;5;124m\"\u001B[39m),\n\u001B[1;32m   1266\u001B[0m     password\u001B[38;5;241m=\u001B[39m\u001B[38;5;28;01mFalse\u001B[39;00m,\n\u001B[1;32m   1267\u001B[0m )\n",
      "File \u001B[0;32m~/miniconda3/envs/myenvi/lib/python3.12/site-packages/ipykernel/kernelbase.py:1305\u001B[0m, in \u001B[0;36mKernel._input_request\u001B[0;34m(self, prompt, ident, parent, password)\u001B[0m\n\u001B[1;32m   1302\u001B[0m \u001B[38;5;28;01mexcept\u001B[39;00m \u001B[38;5;167;01mKeyboardInterrupt\u001B[39;00m:\n\u001B[1;32m   1303\u001B[0m     \u001B[38;5;66;03m# re-raise KeyboardInterrupt, to truncate traceback\u001B[39;00m\n\u001B[1;32m   1304\u001B[0m     msg \u001B[38;5;241m=\u001B[39m \u001B[38;5;124m\"\u001B[39m\u001B[38;5;124mInterrupted by user\u001B[39m\u001B[38;5;124m\"\u001B[39m\n\u001B[0;32m-> 1305\u001B[0m     \u001B[38;5;28;01mraise\u001B[39;00m \u001B[38;5;167;01mKeyboardInterrupt\u001B[39;00m(msg) \u001B[38;5;28;01mfrom\u001B[39;00m \u001B[38;5;28;01mNone\u001B[39;00m\n\u001B[1;32m   1306\u001B[0m \u001B[38;5;28;01mexcept\u001B[39;00m \u001B[38;5;167;01mException\u001B[39;00m:\n\u001B[1;32m   1307\u001B[0m     \u001B[38;5;28mself\u001B[39m\u001B[38;5;241m.\u001B[39mlog\u001B[38;5;241m.\u001B[39mwarning(\u001B[38;5;124m\"\u001B[39m\u001B[38;5;124mInvalid Message:\u001B[39m\u001B[38;5;124m\"\u001B[39m, exc_info\u001B[38;5;241m=\u001B[39m\u001B[38;5;28;01mTrue\u001B[39;00m)\n",
      "\u001B[0;31mKeyboardInterrupt\u001B[0m: Interrupted by user"
     ]
    }
   ],
   "execution_count": 44
  },
  {
   "metadata": {
    "ExecuteTime": {
     "end_time": "2024-08-28T08:37:50.265238Z",
     "start_time": "2024-08-28T08:37:31.105605Z"
    }
   },
   "cell_type": "code",
   "source": [
    "for feature in features:\n",
    "    valid = True\n",
    "    while valid:    \n",
    "        x = input(feature+\":\")\n",
    "        print(x.isdigit())\n",
    "        if not x.isdigit(): valid = False"
   ],
   "id": "edcde0bbcb16339a",
   "outputs": [
    {
     "name": "stdout",
     "output_type": "stream",
     "text": [
      "True\n",
      "False\n",
      "False\n",
      "False\n",
      "False\n"
     ]
    }
   ],
   "execution_count": 61
  },
  {
   "metadata": {
    "ExecuteTime": {
     "end_time": "2024-08-28T10:08:10.580002Z",
     "start_time": "2024-08-28T10:08:07.046633Z"
    }
   },
   "cell_type": "code",
   "source": [
    "import keras\n",
    "\n",
    "fashion_mnist = keras.datasets.fashion_mnist\n",
    "(train_images,train_labels),(test_images,test_labels)=fashion_mnist.load_data()"
   ],
   "id": "5eb70532e6bc9975",
   "outputs": [
    {
     "name": "stderr",
     "output_type": "stream",
     "text": [
      "2024-08-28 16:08:07.588729: I tensorflow/core/util/port.cc:153] oneDNN custom operations are on. You may see slightly different numerical results due to floating-point round-off errors from different computation orders. To turn them off, set the environment variable `TF_ENABLE_ONEDNN_OPTS=0`.\n",
      "2024-08-28 16:08:07.707150: E external/local_xla/xla/stream_executor/cuda/cuda_fft.cc:485] Unable to register cuFFT factory: Attempting to register factory for plugin cuFFT when one has already been registered\n",
      "2024-08-28 16:08:07.773118: E external/local_xla/xla/stream_executor/cuda/cuda_dnn.cc:8454] Unable to register cuDNN factory: Attempting to register factory for plugin cuDNN when one has already been registered\n",
      "2024-08-28 16:08:07.791832: E external/local_xla/xla/stream_executor/cuda/cuda_blas.cc:1452] Unable to register cuBLAS factory: Attempting to register factory for plugin cuBLAS when one has already been registered\n",
      "2024-08-28 16:08:07.884195: I tensorflow/core/platform/cpu_feature_guard.cc:210] This TensorFlow binary is optimized to use available CPU instructions in performance-critical operations.\n",
      "To enable the following instructions: AVX2 AVX_VNNI FMA, in other operations, rebuild TensorFlow with the appropriate compiler flags.\n",
      "2024-08-28 16:08:09.040235: W tensorflow/compiler/tf2tensorrt/utils/py_utils.cc:38] TF-TRT Warning: Could not find TensorRT\n"
     ]
    }
   ],
   "execution_count": 2
  },
  {
   "metadata": {
    "ExecuteTime": {
     "end_time": "2024-08-28T09:28:00.820753Z",
     "start_time": "2024-08-28T09:28:00.813440Z"
    }
   },
   "cell_type": "code",
   "source": [
    "train_images.shape\n",
    "type(train_images)"
   ],
   "id": "4f52e1341116a293",
   "outputs": [
    {
     "data": {
      "text/plain": [
       "numpy.ndarray"
      ]
     },
     "execution_count": 65,
     "metadata": {},
     "output_type": "execute_result"
    }
   ],
   "execution_count": 65
  },
  {
   "metadata": {
    "ExecuteTime": {
     "end_time": "2024-08-28T09:28:13.235003Z",
     "start_time": "2024-08-28T09:28:13.228220Z"
    }
   },
   "cell_type": "code",
   "source": "train_images[0,23,23]",
   "id": "ea8eb2480d23642b",
   "outputs": [
    {
     "data": {
      "text/plain": [
       "194"
      ]
     },
     "execution_count": 66,
     "metadata": {},
     "output_type": "execute_result"
    }
   ],
   "execution_count": 66
  },
  {
   "metadata": {
    "ExecuteTime": {
     "end_time": "2024-08-28T09:28:34.771920Z",
     "start_time": "2024-08-28T09:28:34.763713Z"
    }
   },
   "cell_type": "code",
   "source": "train_images[0]",
   "id": "7d17592c6812cc1d",
   "outputs": [
    {
     "data": {
      "text/plain": [
       "array([[  0,   0,   0,   0,   0,   0,   0,   0,   0,   0,   0,   0,   0,\n",
       "          0,   0,   0,   0,   0,   0,   0,   0,   0,   0,   0,   0,   0,\n",
       "          0,   0],\n",
       "       [  0,   0,   0,   0,   0,   0,   0,   0,   0,   0,   0,   0,   0,\n",
       "          0,   0,   0,   0,   0,   0,   0,   0,   0,   0,   0,   0,   0,\n",
       "          0,   0],\n",
       "       [  0,   0,   0,   0,   0,   0,   0,   0,   0,   0,   0,   0,   0,\n",
       "          0,   0,   0,   0,   0,   0,   0,   0,   0,   0,   0,   0,   0,\n",
       "          0,   0],\n",
       "       [  0,   0,   0,   0,   0,   0,   0,   0,   0,   0,   0,   0,   1,\n",
       "          0,   0,  13,  73,   0,   0,   1,   4,   0,   0,   0,   0,   1,\n",
       "          1,   0],\n",
       "       [  0,   0,   0,   0,   0,   0,   0,   0,   0,   0,   0,   0,   3,\n",
       "          0,  36, 136, 127,  62,  54,   0,   0,   0,   1,   3,   4,   0,\n",
       "          0,   3],\n",
       "       [  0,   0,   0,   0,   0,   0,   0,   0,   0,   0,   0,   0,   6,\n",
       "          0, 102, 204, 176, 134, 144, 123,  23,   0,   0,   0,   0,  12,\n",
       "         10,   0],\n",
       "       [  0,   0,   0,   0,   0,   0,   0,   0,   0,   0,   0,   0,   0,\n",
       "          0, 155, 236, 207, 178, 107, 156, 161, 109,  64,  23,  77, 130,\n",
       "         72,  15],\n",
       "       [  0,   0,   0,   0,   0,   0,   0,   0,   0,   0,   0,   1,   0,\n",
       "         69, 207, 223, 218, 216, 216, 163, 127, 121, 122, 146, 141,  88,\n",
       "        172,  66],\n",
       "       [  0,   0,   0,   0,   0,   0,   0,   0,   0,   1,   1,   1,   0,\n",
       "        200, 232, 232, 233, 229, 223, 223, 215, 213, 164, 127, 123, 196,\n",
       "        229,   0],\n",
       "       [  0,   0,   0,   0,   0,   0,   0,   0,   0,   0,   0,   0,   0,\n",
       "        183, 225, 216, 223, 228, 235, 227, 224, 222, 224, 221, 223, 245,\n",
       "        173,   0],\n",
       "       [  0,   0,   0,   0,   0,   0,   0,   0,   0,   0,   0,   0,   0,\n",
       "        193, 228, 218, 213, 198, 180, 212, 210, 211, 213, 223, 220, 243,\n",
       "        202,   0],\n",
       "       [  0,   0,   0,   0,   0,   0,   0,   0,   0,   1,   3,   0,  12,\n",
       "        219, 220, 212, 218, 192, 169, 227, 208, 218, 224, 212, 226, 197,\n",
       "        209,  52],\n",
       "       [  0,   0,   0,   0,   0,   0,   0,   0,   0,   0,   6,   0,  99,\n",
       "        244, 222, 220, 218, 203, 198, 221, 215, 213, 222, 220, 245, 119,\n",
       "        167,  56],\n",
       "       [  0,   0,   0,   0,   0,   0,   0,   0,   0,   4,   0,   0,  55,\n",
       "        236, 228, 230, 228, 240, 232, 213, 218, 223, 234, 217, 217, 209,\n",
       "         92,   0],\n",
       "       [  0,   0,   1,   4,   6,   7,   2,   0,   0,   0,   0,   0, 237,\n",
       "        226, 217, 223, 222, 219, 222, 221, 216, 223, 229, 215, 218, 255,\n",
       "         77,   0],\n",
       "       [  0,   3,   0,   0,   0,   0,   0,   0,   0,  62, 145, 204, 228,\n",
       "        207, 213, 221, 218, 208, 211, 218, 224, 223, 219, 215, 224, 244,\n",
       "        159,   0],\n",
       "       [  0,   0,   0,   0,  18,  44,  82, 107, 189, 228, 220, 222, 217,\n",
       "        226, 200, 205, 211, 230, 224, 234, 176, 188, 250, 248, 233, 238,\n",
       "        215,   0],\n",
       "       [  0,  57, 187, 208, 224, 221, 224, 208, 204, 214, 208, 209, 200,\n",
       "        159, 245, 193, 206, 223, 255, 255, 221, 234, 221, 211, 220, 232,\n",
       "        246,   0],\n",
       "       [  3, 202, 228, 224, 221, 211, 211, 214, 205, 205, 205, 220, 240,\n",
       "         80, 150, 255, 229, 221, 188, 154, 191, 210, 204, 209, 222, 228,\n",
       "        225,   0],\n",
       "       [ 98, 233, 198, 210, 222, 229, 229, 234, 249, 220, 194, 215, 217,\n",
       "        241,  65,  73, 106, 117, 168, 219, 221, 215, 217, 223, 223, 224,\n",
       "        229,  29],\n",
       "       [ 75, 204, 212, 204, 193, 205, 211, 225, 216, 185, 197, 206, 198,\n",
       "        213, 240, 195, 227, 245, 239, 223, 218, 212, 209, 222, 220, 221,\n",
       "        230,  67],\n",
       "       [ 48, 203, 183, 194, 213, 197, 185, 190, 194, 192, 202, 214, 219,\n",
       "        221, 220, 236, 225, 216, 199, 206, 186, 181, 177, 172, 181, 205,\n",
       "        206, 115],\n",
       "       [  0, 122, 219, 193, 179, 171, 183, 196, 204, 210, 213, 207, 211,\n",
       "        210, 200, 196, 194, 191, 195, 191, 198, 192, 176, 156, 167, 177,\n",
       "        210,  92],\n",
       "       [  0,   0,  74, 189, 212, 191, 175, 172, 175, 181, 185, 188, 189,\n",
       "        188, 193, 198, 204, 209, 210, 210, 211, 188, 188, 194, 192, 216,\n",
       "        170,   0],\n",
       "       [  2,   0,   0,   0,  66, 200, 222, 237, 239, 242, 246, 243, 244,\n",
       "        221, 220, 193, 191, 179, 182, 182, 181, 176, 166, 168,  99,  58,\n",
       "          0,   0],\n",
       "       [  0,   0,   0,   0,   0,   0,   0,  40,  61,  44,  72,  41,  35,\n",
       "          0,   0,   0,   0,   0,   0,   0,   0,   0,   0,   0,   0,   0,\n",
       "          0,   0],\n",
       "       [  0,   0,   0,   0,   0,   0,   0,   0,   0,   0,   0,   0,   0,\n",
       "          0,   0,   0,   0,   0,   0,   0,   0,   0,   0,   0,   0,   0,\n",
       "          0,   0],\n",
       "       [  0,   0,   0,   0,   0,   0,   0,   0,   0,   0,   0,   0,   0,\n",
       "          0,   0,   0,   0,   0,   0,   0,   0,   0,   0,   0,   0,   0,\n",
       "          0,   0]], dtype=uint8)"
      ]
     },
     "execution_count": 67,
     "metadata": {},
     "output_type": "execute_result"
    }
   ],
   "execution_count": 67
  },
  {
   "metadata": {
    "ExecuteTime": {
     "end_time": "2024-08-28T09:29:41.262821Z",
     "start_time": "2024-08-28T09:29:41.256652Z"
    }
   },
   "cell_type": "code",
   "source": "train_labels[0:10]",
   "id": "5da94d5b2f4a0ad",
   "outputs": [
    {
     "data": {
      "text/plain": [
       "array([9, 0, 0, 3, 0, 2, 7, 2, 5, 5], dtype=uint8)"
      ]
     },
     "execution_count": 68,
     "metadata": {},
     "output_type": "execute_result"
    }
   ],
   "execution_count": 68
  },
  {
   "metadata": {
    "ExecuteTime": {
     "end_time": "2024-08-28T09:29:50.290524Z",
     "start_time": "2024-08-28T09:29:50.283659Z"
    }
   },
   "cell_type": "code",
   "source": "train_labels.shape",
   "id": "452632d8dc37fc03",
   "outputs": [
    {
     "data": {
      "text/plain": [
       "(60000,)"
      ]
     },
     "execution_count": 69,
     "metadata": {},
     "output_type": "execute_result"
    }
   ],
   "execution_count": 69
  },
  {
   "metadata": {
    "ExecuteTime": {
     "end_time": "2024-08-28T10:08:25.852862Z",
     "start_time": "2024-08-28T10:08:25.848329Z"
    }
   },
   "cell_type": "code",
   "source": "class_names = ['T-shirt/top','Trouser','Pullover','Dress','Coat','Sandal','Shirt','Sneaker','Bag','Ankle boot']",
   "id": "ba808ad62f76583c",
   "outputs": [],
   "execution_count": 3
  },
  {
   "metadata": {
    "ExecuteTime": {
     "end_time": "2024-08-28T09:33:23.656714Z",
     "start_time": "2024-08-28T09:33:23.650125Z"
    }
   },
   "cell_type": "code",
   "source": "train_labels.max()",
   "id": "477f5ebc9215760f",
   "outputs": [
    {
     "data": {
      "text/plain": [
       "9"
      ]
     },
     "execution_count": 74,
     "metadata": {},
     "output_type": "execute_result"
    }
   ],
   "execution_count": 74
  },
  {
   "metadata": {
    "ExecuteTime": {
     "end_time": "2024-08-28T09:36:03.042126Z",
     "start_time": "2024-08-28T09:36:02.904552Z"
    }
   },
   "cell_type": "code",
   "source": [
    "plt.figure()\n",
    "plt.imshow(train_images[1])\n",
    "plt.colorbar()\n",
    "plt.grid(False)\n",
    "plt.show()\n",
    "print(class_names[train_labels[1]])"
   ],
   "id": "60814625844db207",
   "outputs": [
    {
     "data": {
      "text/plain": [
       "<Figure size 640x480 with 2 Axes>"
      ],
      "image/png": "[encoded data removed]"
     },
     "metadata": {},
     "output_type": "display_data"
    },
    {
     "name": "stdout",
     "output_type": "stream",
     "text": [
      "T-shirt/top\n"
     ]
    }
   ],
   "execution_count": 80
  },
  {
   "metadata": {
    "ExecuteTime": {
     "end_time": "2024-08-28T10:08:29.109600Z",
     "start_time": "2024-08-28T10:08:28.934951Z"
    }
   },
   "cell_type": "code",
   "source": [
    " train_images = train_images/255.0\n",
    " test_images = test_images/255.0"
   ],
   "id": "586df88b23d37e2d",
   "outputs": [],
   "execution_count": 4
  },
  {
   "metadata": {
    "ExecuteTime": {
     "end_time": "2024-08-28T10:08:32.764292Z",
     "start_time": "2024-08-28T10:08:29.988430Z"
    }
   },
   "cell_type": "code",
   "source": [
    "model = keras.Sequential([\n",
    "    keras.layers.Flatten(input_shape=(28,28)),\n",
    "    keras.layers.Dense(128,activation='relu'),\n",
    "    keras.layers.Dense(10,activation='softmax')\n",
    "])\n",
    "model.compile(optimizer='adam',loss='sparse_categorical_crossentropy',metrics=['accuracy'])"
   ],
   "id": "e206575dca4da98b",
   "outputs": [
    {
     "name": "stderr",
     "output_type": "stream",
     "text": [
      "/home/sajid/miniconda3/envs/myenvi/lib/python3.12/site-packages/keras/src/layers/reshaping/flatten.py:37: UserWarning: Do not pass an `input_shape`/`input_dim` argument to a layer. When using Sequential models, prefer using an `Input(shape)` object as the first layer in the model instead.\n",
      "  super().__init__(**kwargs)\n",
      "WARNING: All log messages before absl::InitializeLog() is called are written to STDERR\n",
      "I0000 00:00:1724839711.591939    4586 cuda_executor.cc:1015] successful NUMA node read from SysFS had negative value (-1), but there must be at least one NUMA node, so returning NUMA node zero. See more at https://github.com/torvalds/linux/blob/v6.0/Documentation/ABI/testing/sysfs-bus-pci#L344-L355\n",
      "I0000 00:00:1724839711.684329    4586 cuda_executor.cc:1015] successful NUMA node read from SysFS had negative value (-1), but there must be at least one NUMA node, so returning NUMA node zero. See more at https://github.com/torvalds/linux/blob/v6.0/Documentation/ABI/testing/sysfs-bus-pci#L344-L355\n",
      "I0000 00:00:1724839711.684663    4586 cuda_executor.cc:1015] successful NUMA node read from SysFS had negative value (-1), but there must be at least one NUMA node, so returning NUMA node zero. See more at https://github.com/torvalds/linux/blob/v6.0/Documentation/ABI/testing/sysfs-bus-pci#L344-L355\n",
      "I0000 00:00:1724839711.689021    4586 cuda_executor.cc:1015] successful NUMA node read from SysFS had negative value (-1), but there must be at least one NUMA node, so returning NUMA node zero. See more at https://github.com/torvalds/linux/blob/v6.0/Documentation/ABI/testing/sysfs-bus-pci#L344-L355\n",
      "I0000 00:00:1724839711.689336    4586 cuda_executor.cc:1015] successful NUMA node read from SysFS had negative value (-1), but there must be at least one NUMA node, so returning NUMA node zero. See more at https://github.com/torvalds/linux/blob/v6.0/Documentation/ABI/testing/sysfs-bus-pci#L344-L355\n",
      "I0000 00:00:1724839711.689513    4586 cuda_executor.cc:1015] successful NUMA node read from SysFS had negative value (-1), but there must be at least one NUMA node, so returning NUMA node zero. See more at https://github.com/torvalds/linux/blob/v6.0/Documentation/ABI/testing/sysfs-bus-pci#L344-L355\n",
      "I0000 00:00:1724839711.769419    4586 cuda_executor.cc:1015] successful NUMA node read from SysFS had negative value (-1), but there must be at least one NUMA node, so returning NUMA node zero. See more at https://github.com/torvalds/linux/blob/v6.0/Documentation/ABI/testing/sysfs-bus-pci#L344-L355\n",
      "I0000 00:00:1724839711.769622    4586 cuda_executor.cc:1015] successful NUMA node read from SysFS had negative value (-1), but there must be at least one NUMA node, so returning NUMA node zero. See more at https://github.com/torvalds/linux/blob/v6.0/Documentation/ABI/testing/sysfs-bus-pci#L344-L355\n",
      "I0000 00:00:1724839711.769750    4586 cuda_executor.cc:1015] successful NUMA node read from SysFS had negative value (-1), but there must be at least one NUMA node, so returning NUMA node zero. See more at https://github.com/torvalds/linux/blob/v6.0/Documentation/ABI/testing/sysfs-bus-pci#L344-L355\n",
      "2024-08-28 16:08:31.770028: I tensorflow/core/common_runtime/gpu/gpu_device.cc:2021] Created device /job:localhost/replica:0/task:0/device:GPU:0 with 4309 MB memory:  -> device: 0, name: NVIDIA GeForce RTX 3050 6GB Laptop GPU, pci bus id: 0000:01:00.0, compute capability: 8.6\n"
     ]
    }
   ],
   "execution_count": 5
  },
  {
   "metadata": {
    "ExecuteTime": {
     "end_time": "2024-08-28T10:26:11.690796Z",
     "start_time": "2024-08-28T10:26:06.381137Z"
    }
   },
   "cell_type": "code",
   "source": "model.fit(train_images,train_labels,epochs=1)",
   "id": "659e3e8bb65b31d1",
   "outputs": [
    {
     "name": "stdout",
     "output_type": "stream",
     "text": [
      "\u001B[1m1875/1875\u001B[0m \u001B[32m━━━━━━━━━━━━━━━━━━━━\u001B[0m\u001B[37m\u001B[0m \u001B[1m5s\u001B[0m 3ms/step - accuracy: 0.9133 - loss: 0.2281\n"
     ]
    },
    {
     "data": {
      "text/plain": [
       "<keras.src.callbacks.history.History at 0x75d2291c5ee0>"
      ]
     },
     "execution_count": 12,
     "metadata": {},
     "output_type": "execute_result"
    }
   ],
   "execution_count": 12
  },
  {
   "metadata": {
    "ExecuteTime": {
     "end_time": "2024-08-28T10:26:15.236062Z",
     "start_time": "2024-08-28T10:26:14.298416Z"
    }
   },
   "cell_type": "code",
   "source": [
    "test_loss,test_acc = model.evaluate(test_images,test_labels,verbose=1)\n",
    "print('Test_accuracy: ',test_acc)"
   ],
   "id": "b776c9052d5cb1fc",
   "outputs": [
    {
     "name": "stdout",
     "output_type": "stream",
     "text": [
      "\u001B[1m313/313\u001B[0m \u001B[32m━━━━━━━━━━━━━━━━━━━━\u001B[0m\u001B[37m\u001B[0m \u001B[1m1s\u001B[0m 3ms/step - accuracy: 0.8798 - loss: 0.3332\n",
      "Test_accuracy:  0.8802000284194946\n"
     ]
    }
   ],
   "execution_count": 13
  },
  {
   "metadata": {
    "ExecuteTime": {
     "end_time": "2024-08-28T10:14:48.260639Z",
     "start_time": "2024-08-28T10:14:48.254658Z"
    }
   },
   "cell_type": "code",
   "source": "test_images.shape",
   "id": "3226f685e02425ed",
   "outputs": [
    {
     "data": {
      "text/plain": [
       "(10000, 28, 28)"
      ]
     },
     "execution_count": 9,
     "metadata": {},
     "output_type": "execute_result"
    }
   ],
   "execution_count": 9
  },
  {
   "metadata": {
    "ExecuteTime": {
     "end_time": "2024-08-28T10:26:41.319631Z",
     "start_time": "2024-08-28T10:26:39.822533Z"
    }
   },
   "cell_type": "code",
   "source": "predictions = model.predict(test_images)",
   "id": "df7f6681559d684c",
   "outputs": [
    {
     "name": "stdout",
     "output_type": "stream",
     "text": [
      "\u001B[1m313/313\u001B[0m \u001B[32m━━━━━━━━━━━━━━━━━━━━\u001B[0m\u001B[37m\u001B[0m \u001B[1m1s\u001B[0m 3ms/step\n"
     ]
    }
   ],
   "execution_count": 14
  },
  {
   "metadata": {
    "ExecuteTime": {
     "end_time": "2024-08-28T10:28:26.470943Z",
     "start_time": "2024-08-28T10:28:26.464425Z"
    }
   },
   "cell_type": "code",
   "source": "predictions[0].max()",
   "id": "cd0a948b583f5854",
   "outputs": [
    {
     "data": {
      "text/plain": [
       "0.99092907"
      ]
     },
     "execution_count": 19,
     "metadata": {},
     "output_type": "execute_result"
    }
   ],
   "execution_count": 19
  },
  {
   "metadata": {
    "ExecuteTime": {
     "end_time": "2024-08-28T10:28:08.673735Z",
     "start_time": "2024-08-28T10:28:08.669786Z"
    }
   },
   "cell_type": "code",
   "source": "predictions.shape",
   "id": "a189ff544ae8427f",
   "outputs": [
    {
     "data": {
      "text/plain": [
       "(10000, 10)"
      ]
     },
     "execution_count": 17,
     "metadata": {},
     "output_type": "execute_result"
    }
   ],
   "execution_count": 17
  },
  {
   "metadata": {
    "ExecuteTime": {
     "end_time": "2024-08-28T10:29:42.232438Z",
     "start_time": "2024-08-28T10:29:42.217851Z"
    }
   },
   "cell_type": "code",
   "source": "print(np.argmax(predictions[0]))",
   "id": "64fd2528d8526732",
   "outputs": [
    {
     "name": "stdout",
     "output_type": "stream",
     "text": [
      "9\n"
     ]
    }
   ],
   "execution_count": 22
  },
  {
   "metadata": {
    "ExecuteTime": {
     "end_time": "2024-08-28T10:30:20.032929Z",
     "start_time": "2024-08-28T10:30:20.028432Z"
    }
   },
   "cell_type": "code",
   "source": "print(class_names[np.argmax(predictions[0])])",
   "id": "8829e715962f8d86",
   "outputs": [
    {
     "name": "stdout",
     "output_type": "stream",
     "text": [
      "Ankle boot\n"
     ]
    }
   ],
   "execution_count": 23
  },
  {
   "metadata": {
    "ExecuteTime": {
     "end_time": "2024-08-28T10:31:52.712252Z",
     "start_time": "2024-08-28T10:31:52.004890Z"
    }
   },
   "cell_type": "code",
   "source": [
    "import matplotlib.pyplot as plt\n",
    "plt.figure()\n",
    "plt.imshow(test_images[0])\n",
    "plt.colorbar()\n",
    "plt.grid(False)\n",
    "plt.show"
   ],
   "id": "7fcdb4f9f8dceadd",
   "outputs": [
    {
     "data": {
      "text/plain": [
       "<function matplotlib.pyplot.show(close=None, block=None)>"
      ]
     },
     "execution_count": 25,
     "metadata": {},
     "output_type": "execute_result"
    },
    {
     "data": {
      "text/plain": [
       "<Figure size 640x480 with 2 Axes>"
      ],
      "image/png": "[encoded data removed]"
     },
     "metadata": {},
     "output_type": "display_data"
    }
   ],
   "execution_count": 25
  },
  {
   "metadata": {
    "ExecuteTime": {
     "end_time": "2024-08-28T10:53:57.160203Z",
     "start_time": "2024-08-28T10:53:54.204052Z"
    }
   },
   "cell_type": "code",
   "source": [
    "COLOR='red'\n",
    "plt.rcParams['text.color'] = COLOR\n",
    "plt.rcParams['axes.labelcolor'] = COLOR\n",
    "\n",
    "def predict(model,image,correct_label):\n",
    "    predictions = model.predict(np.array([image]))\n",
    "    predicted_class = class_names[np.argmax(predictions)]\n",
    "    show_image(image,class_names[correct_label],predicted_class)\n",
    "    \n",
    "def show_image(img,label,guess):\n",
    "    plt.figure()\n",
    "    plt.imshow(img,cmap=plt.cm.binary)\n",
    "    plt.title(\"Expected: \"+ label)\n",
    "    plt.xlabel(\"Guess: \"+ guess)\n",
    "    plt.colorbar()\n",
    "    plt.grid(False)\n",
    "    plt.show()\n",
    "    \n",
    "    \n",
    "def get_number():\n",
    "    while True:\n",
    "        num= input(\"Pick a number: \")\n",
    "        if num.isdigit():\n",
    "            num=int(num)\n",
    "            if 0<=num<=1000:\n",
    "                return int(num)\n",
    "        else:\n",
    "            print('Try again.....')\n",
    "\n",
    "num = get_number()\n",
    "image = test_images[num]\n",
    "label= test_labels[num]\n",
    "predict(model,image,label)"
   ],
   "id": "7b046ebf1b32eef6",
   "outputs": [
    {
     "name": "stdout",
     "output_type": "stream",
     "text": [
      "\u001B[1m1/1\u001B[0m \u001B[32m━━━━━━━━━━━━━━━━━━━━\u001B[0m\u001B[37m\u001B[0m \u001B[1m0s\u001B[0m 13ms/step\n"
     ]
    },
    {
     "data": {
      "text/plain": [
       "<Figure size 640x480 with 2 Axes>"
      ],
      "image/png": "[encoded data removed]"
     },
     "metadata": {},
     "output_type": "display_data"
    }
   ],
   "execution_count": 30
  },
  {
   "metadata": {},
   "cell_type": "code",
   "outputs": [],
   "execution_count": null,
   "source": "",
   "id": "aa8ee28e55cc3677"
  }
 ],
 "metadata": {
  "kernelspec": {
   "display_name": "Python 3",
   "language": "python",
   "name": "python3"
  },
  "language_info": {
   "codemirror_mode": {
    "name": "ipython",
    "version": 2
   },
   "file_extension": ".py",
   "mimetype": "text/x-python",
   "name": "python",
   "nbconvert_exporter": "python",
   "pygments_lexer": "ipython2",
   "version": "2.7.6"
  }
 },
 "nbformat": 4,
 "nbformat_minor": 5
}
